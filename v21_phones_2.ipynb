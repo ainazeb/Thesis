{
 "cells": [
  {
   "cell_type": "code",
   "execution_count": 1,
   "id": "b587aaa0",
   "metadata": {
    "execution": {
     "iopub.execute_input": "2024-09-02T14:28:33.708766Z",
     "iopub.status.busy": "2024-09-02T14:28:33.708328Z",
     "iopub.status.idle": "2024-09-02T14:28:33.720443Z",
     "shell.execute_reply": "2024-09-02T14:28:33.719321Z"
    },
    "papermill": {
     "duration": 0.035198,
     "end_time": "2024-09-02T14:28:33.722915",
     "exception": false,
     "start_time": "2024-09-02T14:28:33.687717",
     "status": "completed"
    },
    "tags": []
   },
   "outputs": [],
   "source": [
    "import warnings\n",
    "warnings.filterwarnings('ignore')"
   ]
  },
  {
   "cell_type": "markdown",
   "id": "97f0f201",
   "metadata": {
    "papermill": {
     "duration": 0.018397,
     "end_time": "2024-09-02T14:28:33.761925",
     "exception": false,
     "start_time": "2024-09-02T14:28:33.743528",
     "status": "completed"
    },
    "tags": []
   },
   "source": [
    "Load the dataset"
   ]
  },
  {
   "cell_type": "code",
   "execution_count": 2,
   "id": "0f4bfae3",
   "metadata": {
    "collapsed": false,
    "execution": {
     "iopub.execute_input": "2024-09-02T14:28:33.801092Z",
     "iopub.status.busy": "2024-09-02T14:28:33.800704Z",
     "iopub.status.idle": "2024-09-02T14:28:34.795212Z",
     "shell.execute_reply": "2024-09-02T14:28:34.794137Z"
    },
    "jupyter": {
     "outputs_hidden": false
    },
    "papermill": {
     "duration": 1.017048,
     "end_time": "2024-09-02T14:28:34.797841",
     "exception": false,
     "start_time": "2024-09-02T14:28:33.780793",
     "status": "completed"
    },
    "tags": []
   },
   "outputs": [],
   "source": [
    "import pandas as pd"
   ]
  },
  {
   "cell_type": "code",
   "execution_count": 3,
   "id": "1a99cafb",
   "metadata": {
    "execution": {
     "iopub.execute_input": "2024-09-02T14:28:34.837381Z",
     "iopub.status.busy": "2024-09-02T14:28:34.836867Z",
     "iopub.status.idle": "2024-09-02T14:29:13.748769Z",
     "shell.execute_reply": "2024-09-02T14:29:13.747687Z"
    },
    "papermill": {
     "duration": 38.952668,
     "end_time": "2024-09-02T14:29:13.769433",
     "exception": false,
     "start_time": "2024-09-02T14:28:34.816765",
     "status": "completed"
    },
    "tags": []
   },
   "outputs": [
    {
     "name": "stdout",
     "output_type": "stream",
     "text": [
      "Data loaded.\n"
     ]
    }
   ],
   "source": [
    "# Read the CSV file\n",
    "rating = pd.read_csv(\n",
    "    '/kaggle/input/amazon-cell-phones-and-accessories-reviews/'\n",
    "    'Cell_Phones_and_Accessories.csv/Cell_Phones_and_Accessories.csv'\n",
    ")\n",
    "print('Data loaded.')"
   ]
  },
  {
   "cell_type": "code",
   "execution_count": 4,
   "id": "6d97f31f",
   "metadata": {
    "collapsed": false,
    "execution": {
     "iopub.execute_input": "2024-09-02T14:29:13.808813Z",
     "iopub.status.busy": "2024-09-02T14:29:13.808391Z",
     "iopub.status.idle": "2024-09-02T14:29:13.835200Z",
     "shell.execute_reply": "2024-09-02T14:29:13.834112Z"
    },
    "jupyter": {
     "outputs_hidden": false
    },
    "papermill": {
     "duration": 0.04924,
     "end_time": "2024-09-02T14:29:13.837485",
     "exception": false,
     "start_time": "2024-09-02T14:29:13.788245",
     "status": "completed"
    },
    "tags": []
   },
   "outputs": [
    {
     "data": {
      "text/html": [
       "<div>\n",
       "<style scoped>\n",
       "    .dataframe tbody tr th:only-of-type {\n",
       "        vertical-align: middle;\n",
       "    }\n",
       "\n",
       "    .dataframe tbody tr th {\n",
       "        vertical-align: top;\n",
       "    }\n",
       "\n",
       "    .dataframe thead th {\n",
       "        text-align: right;\n",
       "    }\n",
       "</style>\n",
       "<table border=\"1\" class=\"dataframe\">\n",
       "  <thead>\n",
       "    <tr style=\"text-align: right;\">\n",
       "      <th></th>\n",
       "      <th>user_id</th>\n",
       "      <th>parent_asin</th>\n",
       "      <th>rating</th>\n",
       "      <th>timestamp</th>\n",
       "    </tr>\n",
       "  </thead>\n",
       "  <tbody>\n",
       "    <tr>\n",
       "      <th>0</th>\n",
       "      <td>AFKZENTNBQ7A7V7UXW5JJI6UGRYQ</td>\n",
       "      <td>B079BPGF6C</td>\n",
       "      <td>5.0</td>\n",
       "      <td>1534443517349</td>\n",
       "    </tr>\n",
       "    <tr>\n",
       "      <th>1</th>\n",
       "      <td>AFKZENTNBQ7A7V7UXW5JJI6UGRYQ</td>\n",
       "      <td>B08L6L3X1S</td>\n",
       "      <td>4.0</td>\n",
       "      <td>1612044451196</td>\n",
       "    </tr>\n",
       "    <tr>\n",
       "      <th>2</th>\n",
       "      <td>AGCI7FAH4GL5FI65HYLKWTMFZ2CQ</td>\n",
       "      <td>B00A8ZDL9Y</td>\n",
       "      <td>5.0</td>\n",
       "      <td>1408994588000</td>\n",
       "    </tr>\n",
       "    <tr>\n",
       "      <th>3</th>\n",
       "      <td>AGCI7FAH4GL5FI65HYLKWTMFZ2CQ</td>\n",
       "      <td>B07XRDHDNQ</td>\n",
       "      <td>4.0</td>\n",
       "      <td>1590470082910</td>\n",
       "    </tr>\n",
       "    <tr>\n",
       "      <th>4</th>\n",
       "      <td>AGCI7FAH4GL5FI65HYLKWTMFZ2CQ</td>\n",
       "      <td>B0BBGGC8F2</td>\n",
       "      <td>5.0</td>\n",
       "      <td>1629235304798</td>\n",
       "    </tr>\n",
       "  </tbody>\n",
       "</table>\n",
       "</div>"
      ],
      "text/plain": [
       "                        user_id parent_asin  rating      timestamp\n",
       "0  AFKZENTNBQ7A7V7UXW5JJI6UGRYQ  B079BPGF6C     5.0  1534443517349\n",
       "1  AFKZENTNBQ7A7V7UXW5JJI6UGRYQ  B08L6L3X1S     4.0  1612044451196\n",
       "2  AGCI7FAH4GL5FI65HYLKWTMFZ2CQ  B00A8ZDL9Y     5.0  1408994588000\n",
       "3  AGCI7FAH4GL5FI65HYLKWTMFZ2CQ  B07XRDHDNQ     4.0  1590470082910\n",
       "4  AGCI7FAH4GL5FI65HYLKWTMFZ2CQ  B0BBGGC8F2     5.0  1629235304798"
      ]
     },
     "execution_count": 4,
     "metadata": {},
     "output_type": "execute_result"
    }
   ],
   "source": [
    "rating.head()"
   ]
  },
  {
   "cell_type": "code",
   "execution_count": 5,
   "id": "f2beed7e",
   "metadata": {
    "execution": {
     "iopub.execute_input": "2024-09-02T14:29:13.881388Z",
     "iopub.status.busy": "2024-09-02T14:29:13.881007Z",
     "iopub.status.idle": "2024-09-02T14:29:16.345638Z",
     "shell.execute_reply": "2024-09-02T14:29:16.344431Z"
    },
    "papermill": {
     "duration": 2.489686,
     "end_time": "2024-09-02T14:29:16.348427",
     "exception": false,
     "start_time": "2024-09-02T14:29:13.858741",
     "status": "completed"
    },
    "tags": []
   },
   "outputs": [],
   "source": [
    "# show timestamps as date and time format\n",
    "rating['date_time'] = pd.to_datetime(rating['timestamp'], unit='ms')"
   ]
  },
  {
   "cell_type": "code",
   "execution_count": 6,
   "id": "3fd000db",
   "metadata": {
    "execution": {
     "iopub.execute_input": "2024-09-02T14:29:16.389501Z",
     "iopub.status.busy": "2024-09-02T14:29:16.389079Z",
     "iopub.status.idle": "2024-09-02T14:29:16.405834Z",
     "shell.execute_reply": "2024-09-02T14:29:16.404221Z"
    },
    "papermill": {
     "duration": 0.039954,
     "end_time": "2024-09-02T14:29:16.408296",
     "exception": false,
     "start_time": "2024-09-02T14:29:16.368342",
     "status": "completed"
    },
    "tags": []
   },
   "outputs": [
    {
     "data": {
      "text/html": [
       "<div>\n",
       "<style scoped>\n",
       "    .dataframe tbody tr th:only-of-type {\n",
       "        vertical-align: middle;\n",
       "    }\n",
       "\n",
       "    .dataframe tbody tr th {\n",
       "        vertical-align: top;\n",
       "    }\n",
       "\n",
       "    .dataframe thead th {\n",
       "        text-align: right;\n",
       "    }\n",
       "</style>\n",
       "<table border=\"1\" class=\"dataframe\">\n",
       "  <thead>\n",
       "    <tr style=\"text-align: right;\">\n",
       "      <th></th>\n",
       "      <th>user_id</th>\n",
       "      <th>parent_asin</th>\n",
       "      <th>rating</th>\n",
       "      <th>timestamp</th>\n",
       "      <th>date_time</th>\n",
       "    </tr>\n",
       "  </thead>\n",
       "  <tbody>\n",
       "    <tr>\n",
       "      <th>0</th>\n",
       "      <td>AFKZENTNBQ7A7V7UXW5JJI6UGRYQ</td>\n",
       "      <td>B079BPGF6C</td>\n",
       "      <td>5.0</td>\n",
       "      <td>1534443517349</td>\n",
       "      <td>2018-08-16 18:18:37.349</td>\n",
       "    </tr>\n",
       "    <tr>\n",
       "      <th>1</th>\n",
       "      <td>AFKZENTNBQ7A7V7UXW5JJI6UGRYQ</td>\n",
       "      <td>B08L6L3X1S</td>\n",
       "      <td>4.0</td>\n",
       "      <td>1612044451196</td>\n",
       "      <td>2021-01-30 22:07:31.196</td>\n",
       "    </tr>\n",
       "    <tr>\n",
       "      <th>2</th>\n",
       "      <td>AGCI7FAH4GL5FI65HYLKWTMFZ2CQ</td>\n",
       "      <td>B00A8ZDL9Y</td>\n",
       "      <td>5.0</td>\n",
       "      <td>1408994588000</td>\n",
       "      <td>2014-08-25 19:23:08.000</td>\n",
       "    </tr>\n",
       "    <tr>\n",
       "      <th>3</th>\n",
       "      <td>AGCI7FAH4GL5FI65HYLKWTMFZ2CQ</td>\n",
       "      <td>B07XRDHDNQ</td>\n",
       "      <td>4.0</td>\n",
       "      <td>1590470082910</td>\n",
       "      <td>2020-05-26 05:14:42.910</td>\n",
       "    </tr>\n",
       "    <tr>\n",
       "      <th>4</th>\n",
       "      <td>AGCI7FAH4GL5FI65HYLKWTMFZ2CQ</td>\n",
       "      <td>B0BBGGC8F2</td>\n",
       "      <td>5.0</td>\n",
       "      <td>1629235304798</td>\n",
       "      <td>2021-08-17 21:21:44.798</td>\n",
       "    </tr>\n",
       "  </tbody>\n",
       "</table>\n",
       "</div>"
      ],
      "text/plain": [
       "                        user_id parent_asin  rating      timestamp  \\\n",
       "0  AFKZENTNBQ7A7V7UXW5JJI6UGRYQ  B079BPGF6C     5.0  1534443517349   \n",
       "1  AFKZENTNBQ7A7V7UXW5JJI6UGRYQ  B08L6L3X1S     4.0  1612044451196   \n",
       "2  AGCI7FAH4GL5FI65HYLKWTMFZ2CQ  B00A8ZDL9Y     5.0  1408994588000   \n",
       "3  AGCI7FAH4GL5FI65HYLKWTMFZ2CQ  B07XRDHDNQ     4.0  1590470082910   \n",
       "4  AGCI7FAH4GL5FI65HYLKWTMFZ2CQ  B0BBGGC8F2     5.0  1629235304798   \n",
       "\n",
       "                date_time  \n",
       "0 2018-08-16 18:18:37.349  \n",
       "1 2021-01-30 22:07:31.196  \n",
       "2 2014-08-25 19:23:08.000  \n",
       "3 2020-05-26 05:14:42.910  \n",
       "4 2021-08-17 21:21:44.798  "
      ]
     },
     "execution_count": 6,
     "metadata": {},
     "output_type": "execute_result"
    }
   ],
   "source": [
    "rating.head()"
   ]
  },
  {
   "cell_type": "code",
   "execution_count": 7,
   "id": "b74cb490",
   "metadata": {
    "collapsed": false,
    "execution": {
     "iopub.execute_input": "2024-09-02T14:29:16.449484Z",
     "iopub.status.busy": "2024-09-02T14:29:16.449075Z",
     "iopub.status.idle": "2024-09-02T14:29:16.455761Z",
     "shell.execute_reply": "2024-09-02T14:29:16.454286Z"
    },
    "jupyter": {
     "outputs_hidden": false
    },
    "papermill": {
     "duration": 0.030137,
     "end_time": "2024-09-02T14:29:16.458248",
     "exception": false,
     "start_time": "2024-09-02T14:29:16.428111",
     "status": "completed"
    },
    "tags": []
   },
   "outputs": [
    {
     "name": "stdout",
     "output_type": "stream",
     "text": [
      "Number of records: 20,560,480\n"
     ]
    }
   ],
   "source": [
    "print(f'Number of records: {len(rating):,}')"
   ]
  },
  {
   "cell_type": "markdown",
   "id": "653fef2d",
   "metadata": {
    "papermill": {
     "duration": 0.022191,
     "end_time": "2024-09-02T14:29:16.502567",
     "exception": false,
     "start_time": "2024-09-02T14:29:16.480376",
     "status": "completed"
    },
    "tags": []
   },
   "source": [
    "Filter the data to include only ratings of 3 or higher"
   ]
  },
  {
   "cell_type": "code",
   "execution_count": 8,
   "id": "bb0c98ec",
   "metadata": {
    "collapsed": false,
    "execution": {
     "iopub.execute_input": "2024-09-02T14:29:16.609163Z",
     "iopub.status.busy": "2024-09-02T14:29:16.608784Z",
     "iopub.status.idle": "2024-09-02T14:29:17.847914Z",
     "shell.execute_reply": "2024-09-02T14:29:17.846677Z"
    },
    "jupyter": {
     "outputs_hidden": false
    },
    "papermill": {
     "duration": 1.325481,
     "end_time": "2024-09-02T14:29:17.850467",
     "exception": false,
     "start_time": "2024-09-02T14:29:16.524986",
     "status": "completed"
    },
    "tags": []
   },
   "outputs": [
    {
     "name": "stdout",
     "output_type": "stream",
     "text": [
      "Filtered data to include ratings of 3 or higher. Remaining records: 16,559,009\n"
     ]
    }
   ],
   "source": [
    "rating = rating[rating['rating'] >= 3]\n",
    "print(f'Filtered data to include ratings of 3 or higher. Remaining records: {len(rating):,}')"
   ]
  },
  {
   "cell_type": "markdown",
   "id": "bce89486",
   "metadata": {
    "papermill": {
     "duration": 0.021174,
     "end_time": "2024-09-02T14:29:17.893194",
     "exception": false,
     "start_time": "2024-09-02T14:29:17.872020",
     "status": "completed"
    },
    "tags": []
   },
   "source": [
    "Select a subset for analysis"
   ]
  },
  {
   "cell_type": "code",
   "execution_count": 9,
   "id": "e41bd951",
   "metadata": {
    "collapsed": false,
    "execution": {
     "iopub.execute_input": "2024-09-02T14:29:17.935015Z",
     "iopub.status.busy": "2024-09-02T14:29:17.934604Z",
     "iopub.status.idle": "2024-09-02T14:29:17.940050Z",
     "shell.execute_reply": "2024-09-02T14:29:17.938941Z"
    },
    "jupyter": {
     "outputs_hidden": false
    },
    "papermill": {
     "duration": 0.029344,
     "end_time": "2024-09-02T14:29:17.942381",
     "exception": false,
     "start_time": "2024-09-02T14:29:17.913037",
     "status": "completed"
    },
    "tags": []
   },
   "outputs": [],
   "source": [
    "rating_subset = rating.iloc[:50000]  # Adjust based on data size and needs"
   ]
  },
  {
   "cell_type": "markdown",
   "id": "9ae008fa",
   "metadata": {
    "papermill": {
     "duration": 0.019548,
     "end_time": "2024-09-02T14:29:17.981560",
     "exception": false,
     "start_time": "2024-09-02T14:29:17.962012",
     "status": "completed"
    },
    "tags": []
   },
   "source": [
    "Prepare the user-item matrix using the correct column name"
   ]
  },
  {
   "cell_type": "code",
   "execution_count": 10,
   "id": "8ed46349",
   "metadata": {
    "collapsed": false,
    "execution": {
     "iopub.execute_input": "2024-09-02T14:29:18.024578Z",
     "iopub.status.busy": "2024-09-02T14:29:18.024202Z",
     "iopub.status.idle": "2024-09-02T14:29:23.305086Z",
     "shell.execute_reply": "2024-09-02T14:29:23.303499Z"
    },
    "jupyter": {
     "outputs_hidden": false
    },
    "papermill": {
     "duration": 5.306909,
     "end_time": "2024-09-02T14:29:23.308066",
     "exception": false,
     "start_time": "2024-09-02T14:29:18.001157",
     "status": "completed"
    },
    "tags": []
   },
   "outputs": [],
   "source": [
    "user_item_matrix = rating_subset.pivot(index='user_id', columns='parent_asin', values='rating').fillna(0)"
   ]
  },
  {
   "cell_type": "markdown",
   "id": "797c6d2c",
   "metadata": {
    "papermill": {
     "duration": 0.019965,
     "end_time": "2024-09-02T14:29:23.347979",
     "exception": false,
     "start_time": "2024-09-02T14:29:23.328014",
     "status": "completed"
    },
    "tags": []
   },
   "source": [
    "Standardize the data for clustering"
   ]
  },
  {
   "cell_type": "code",
   "execution_count": 11,
   "id": "99d80c6d",
   "metadata": {
    "collapsed": false,
    "execution": {
     "iopub.execute_input": "2024-09-02T14:29:23.391044Z",
     "iopub.status.busy": "2024-09-02T14:29:23.390612Z",
     "iopub.status.idle": "2024-09-02T14:29:24.777015Z",
     "shell.execute_reply": "2024-09-02T14:29:24.775930Z"
    },
    "jupyter": {
     "outputs_hidden": false
    },
    "papermill": {
     "duration": 1.410697,
     "end_time": "2024-09-02T14:29:24.779771",
     "exception": false,
     "start_time": "2024-09-02T14:29:23.369074",
     "status": "completed"
    },
    "tags": []
   },
   "outputs": [],
   "source": [
    "from sklearn.preprocessing import StandardScaler"
   ]
  },
  {
   "cell_type": "code",
   "execution_count": 12,
   "id": "00e6ff8d",
   "metadata": {
    "collapsed": false,
    "execution": {
     "iopub.execute_input": "2024-09-02T14:29:24.821636Z",
     "iopub.status.busy": "2024-09-02T14:29:24.821212Z",
     "iopub.status.idle": "2024-09-02T14:29:33.044101Z",
     "shell.execute_reply": "2024-09-02T14:29:33.042706Z"
    },
    "jupyter": {
     "outputs_hidden": false
    },
    "papermill": {
     "duration": 8.246777,
     "end_time": "2024-09-02T14:29:33.046691",
     "exception": false,
     "start_time": "2024-09-02T14:29:24.799914",
     "status": "completed"
    },
    "tags": []
   },
   "outputs": [
    {
     "name": "stdout",
     "output_type": "stream",
     "text": [
      "Data preprocessed.\n"
     ]
    }
   ],
   "source": [
    "scaler = StandardScaler()\n",
    "data_reduced = scaler.fit_transform(user_item_matrix)\n",
    "print('Data preprocessed.')"
   ]
  },
  {
   "cell_type": "markdown",
   "id": "557cbc84",
   "metadata": {
    "papermill": {
     "duration": 0.019846,
     "end_time": "2024-09-02T14:29:33.086766",
     "exception": false,
     "start_time": "2024-09-02T14:29:33.066920",
     "status": "completed"
    },
    "tags": []
   },
   "source": [
    "Perform clustering with CS-Kmeans"
   ]
  },
  {
   "cell_type": "code",
   "execution_count": 13,
   "id": "44f9a56b",
   "metadata": {
    "collapsed": false,
    "execution": {
     "iopub.execute_input": "2024-09-02T14:29:33.128080Z",
     "iopub.status.busy": "2024-09-02T14:29:33.127722Z",
     "iopub.status.idle": "2024-09-02T14:29:33.236557Z",
     "shell.execute_reply": "2024-09-02T14:29:33.235384Z"
    },
    "jupyter": {
     "outputs_hidden": false
    },
    "papermill": {
     "duration": 0.132725,
     "end_time": "2024-09-02T14:29:33.239428",
     "exception": false,
     "start_time": "2024-09-02T14:29:33.106703",
     "status": "completed"
    },
    "tags": []
   },
   "outputs": [],
   "source": [
    "import numpy as np\n",
    "from scipy.special import gamma\n",
    "from sklearn.metrics.pairwise import euclidean_distances"
   ]
  },
  {
   "cell_type": "code",
   "execution_count": 14,
   "id": "2faada75",
   "metadata": {
    "collapsed": false,
    "execution": {
     "iopub.execute_input": "2024-09-02T14:29:33.281993Z",
     "iopub.status.busy": "2024-09-02T14:29:33.281537Z",
     "iopub.status.idle": "2024-09-02T14:29:33.288829Z",
     "shell.execute_reply": "2024-09-02T14:29:33.287669Z"
    },
    "jupyter": {
     "outputs_hidden": false
    },
    "papermill": {
     "duration": 0.030913,
     "end_time": "2024-09-02T14:29:33.291185",
     "exception": false,
     "start_time": "2024-09-02T14:29:33.260272",
     "status": "completed"
    },
    "tags": []
   },
   "outputs": [],
   "source": [
    "# Lévy flight function for the Cuckoo Search optimization\n",
    "def levy_flight(lambda_=1.5, dimensions=1):\n",
    "    sigma = (gamma(1 + lambda_) * np.sin(np.pi * lambda_ / 2) /\n",
    "             (gamma((1 + lambda_) / 2) * lambda_ * 2 ** ((lambda_ - 1) / 2))) ** (1 / lambda_)\n",
    "    u = np.random.normal(0, sigma, size=dimensions)\n",
    "    v = np.random.normal(0, 1, size=dimensions)\n",
    "    step = u / (np.abs(v) ** (1 / lambda_))\n",
    "    return step"
   ]
  },
  {
   "cell_type": "code",
   "execution_count": 15,
   "id": "4cd30dea",
   "metadata": {
    "collapsed": false,
    "execution": {
     "iopub.execute_input": "2024-09-02T14:29:33.334857Z",
     "iopub.status.busy": "2024-09-02T14:29:33.333516Z",
     "iopub.status.idle": "2024-09-02T14:29:33.341670Z",
     "shell.execute_reply": "2024-09-02T14:29:33.340572Z"
    },
    "jupyter": {
     "outputs_hidden": false
    },
    "papermill": {
     "duration": 0.032683,
     "end_time": "2024-09-02T14:29:33.344438",
     "exception": false,
     "start_time": "2024-09-02T14:29:33.311755",
     "status": "completed"
    },
    "tags": []
   },
   "outputs": [],
   "source": [
    "# Functions to initialize cuckoos, update their positions, and evaluate their fitness in CS-Kmeans\n",
    "def initialize_cuckoos(n, data):\n",
    "    cuckoos = np.random.rand(n, data.shape[1])\n",
    "    return cuckoos\n",
    "\n",
    "\n",
    "def update_cuckoos(cuckoos, data, pa=0.25):\n",
    "    for i in range(len(cuckoos)):\n",
    "        step = levy_flight(lambda_=1.5, dimensions=data.shape[1])\n",
    "        cuckoos[i] += step * (np.random.rand() < pa)\n",
    "        cuckoos[i] = np.clip(cuckoos[i], a_min=0, a_max=1)\n",
    "    return cuckoos\n",
    "\n",
    "\n",
    "def evaluate_fitness(cuckoo, data):\n",
    "    distances = euclidean_distances(data, cuckoo.reshape(1, -1))\n",
    "    return -np.sum(np.min(distances, axis=1))"
   ]
  },
  {
   "cell_type": "code",
   "execution_count": 16,
   "id": "751cbfbb",
   "metadata": {
    "execution": {
     "iopub.execute_input": "2024-09-02T14:29:33.387014Z",
     "iopub.status.busy": "2024-09-02T14:29:33.386612Z",
     "iopub.status.idle": "2024-09-02T14:29:33.406259Z",
     "shell.execute_reply": "2024-09-02T14:29:33.405087Z"
    },
    "papermill": {
     "duration": 0.044198,
     "end_time": "2024-09-02T14:29:33.409090",
     "exception": false,
     "start_time": "2024-09-02T14:29:33.364892",
     "status": "completed"
    },
    "tags": []
   },
   "outputs": [],
   "source": [
    "from tqdm import tqdm"
   ]
  },
  {
   "cell_type": "code",
   "execution_count": 17,
   "id": "5e98c81c",
   "metadata": {
    "collapsed": false,
    "execution": {
     "iopub.execute_input": "2024-09-02T14:29:33.451156Z",
     "iopub.status.busy": "2024-09-02T14:29:33.450780Z",
     "iopub.status.idle": "2024-09-02T14:29:33.458968Z",
     "shell.execute_reply": "2024-09-02T14:29:33.457888Z"
    },
    "jupyter": {
     "outputs_hidden": false
    },
    "papermill": {
     "duration": 0.032206,
     "end_time": "2024-09-02T14:29:33.461521",
     "exception": false,
     "start_time": "2024-09-02T14:29:33.429315",
     "status": "completed"
    },
    "tags": []
   },
   "outputs": [],
   "source": [
    "# CS-Kmeans Clustering\n",
    "def cs_kmeans(data, n=10, max_iterations=100):\n",
    "    cuckoos = initialize_cuckoos(n, data)\n",
    "    best_fitness = float('-inf')\n",
    "    best_cuckoo_ = None\n",
    "    user_clusters_ = np.zeros(data.shape[0], dtype=int)\n",
    "\n",
    "    for iteration in tqdm(range(max_iterations)):\n",
    "        cuckoos = update_cuckoos(cuckoos, data)\n",
    "        for i, cuckoo in enumerate(cuckoos):\n",
    "            fitness = evaluate_fitness(cuckoo, data)\n",
    "            if fitness > best_fitness:\n",
    "                best_fitness = fitness\n",
    "                best_cuckoo_ = cuckoo\n",
    "\n",
    "        if iteration == max_iterations - 1:\n",
    "            for i, user_data in enumerate(data):\n",
    "                distances = euclidean_distances(user_data.reshape(1, -1), cuckoos)\n",
    "                user_clusters_[i] = np.argmin(distances)\n",
    "\n",
    "    return best_cuckoo_, user_clusters_"
   ]
  },
  {
   "cell_type": "code",
   "execution_count": 18,
   "id": "d57cc34f",
   "metadata": {
    "collapsed": false,
    "execution": {
     "iopub.execute_input": "2024-09-02T14:29:33.504240Z",
     "iopub.status.busy": "2024-09-02T14:29:33.503833Z",
     "iopub.status.idle": "2024-09-02T14:34:16.044320Z",
     "shell.execute_reply": "2024-09-02T14:34:16.042920Z"
    },
    "jupyter": {
     "outputs_hidden": false
    },
    "papermill": {
     "duration": 282.568278,
     "end_time": "2024-09-02T14:34:16.050475",
     "exception": false,
     "start_time": "2024-09-02T14:29:33.482197",
     "status": "completed"
    },
    "tags": []
   },
   "outputs": [
    {
     "name": "stderr",
     "output_type": "stream",
     "text": [
      "100%|██████████| 50/50 [04:42<00:00,  5.65s/it]"
     ]
    },
    {
     "name": "stdout",
     "output_type": "stream",
     "text": [
      "Clustering completed.\n"
     ]
    },
    {
     "name": "stderr",
     "output_type": "stream",
     "text": [
      "\n"
     ]
    }
   ],
   "source": [
    "best_cuckoo, user_clusters = cs_kmeans(data_reduced, n=5, max_iterations=50)\n",
    "print('Clustering completed.')"
   ]
  },
  {
   "cell_type": "markdown",
   "id": "f7db94cc",
   "metadata": {
    "papermill": {
     "duration": 0.02434,
     "end_time": "2024-09-02T14:34:16.103547",
     "exception": false,
     "start_time": "2024-09-02T14:34:16.079207",
     "status": "completed"
    },
    "tags": []
   },
   "source": [
    "Choose a random target user and identify their cluster"
   ]
  },
  {
   "cell_type": "code",
   "execution_count": 19,
   "id": "9185f8aa",
   "metadata": {
    "collapsed": false,
    "execution": {
     "iopub.execute_input": "2024-09-02T14:34:16.155540Z",
     "iopub.status.busy": "2024-09-02T14:34:16.154926Z",
     "iopub.status.idle": "2024-09-02T14:34:16.162936Z",
     "shell.execute_reply": "2024-09-02T14:34:16.161524Z"
    },
    "jupyter": {
     "outputs_hidden": false
    },
    "papermill": {
     "duration": 0.037784,
     "end_time": "2024-09-02T14:34:16.165702",
     "exception": false,
     "start_time": "2024-09-02T14:34:16.127918",
     "status": "completed"
    },
    "tags": []
   },
   "outputs": [],
   "source": [
    "import random"
   ]
  },
  {
   "cell_type": "code",
   "execution_count": 20,
   "id": "7c85679c",
   "metadata": {
    "collapsed": false,
    "execution": {
     "iopub.execute_input": "2024-09-02T14:34:16.216460Z",
     "iopub.status.busy": "2024-09-02T14:34:16.216009Z",
     "iopub.status.idle": "2024-09-02T14:34:16.230908Z",
     "shell.execute_reply": "2024-09-02T14:34:16.229170Z"
    },
    "jupyter": {
     "outputs_hidden": false
    },
    "papermill": {
     "duration": 0.043678,
     "end_time": "2024-09-02T14:34:16.233927",
     "exception": false,
     "start_time": "2024-09-02T14:34:16.190249",
     "status": "completed"
    },
    "tags": []
   },
   "outputs": [
    {
     "name": "stdout",
     "output_type": "stream",
     "text": [
      "Target User: AHK5WGRRDPYA6IT5NKH7ZLKH4ECQ, Cluster: 5\n"
     ]
    }
   ],
   "source": [
    "target_user_id = random.choice(user_item_matrix.index.tolist())\n",
    "target_cluster = user_clusters[user_item_matrix.index.get_loc(target_user_id)]\n",
    "print(f'Target User: {target_user_id}, Cluster: {target_cluster + 1}')"
   ]
  },
  {
   "cell_type": "markdown",
   "id": "80abb0b0",
   "metadata": {
    "papermill": {
     "duration": 0.024473,
     "end_time": "2024-09-02T14:34:16.287656",
     "exception": false,
     "start_time": "2024-09-02T14:34:16.263183",
     "status": "completed"
    },
    "tags": []
   },
   "source": [
    "Retrieve and print a part of user IDs in the same cluster"
   ]
  },
  {
   "cell_type": "code",
   "execution_count": 21,
   "id": "46758716",
   "metadata": {
    "collapsed": false,
    "execution": {
     "iopub.execute_input": "2024-09-02T14:34:16.340826Z",
     "iopub.status.busy": "2024-09-02T14:34:16.340326Z",
     "iopub.status.idle": "2024-09-02T14:34:16.352636Z",
     "shell.execute_reply": "2024-09-02T14:34:16.351315Z"
    },
    "jupyter": {
     "outputs_hidden": false
    },
    "papermill": {
     "duration": 0.042254,
     "end_time": "2024-09-02T14:34:16.355358",
     "exception": false,
     "start_time": "2024-09-02T14:34:16.313104",
     "status": "completed"
    },
    "tags": []
   },
   "outputs": [
    {
     "name": "stdout",
     "output_type": "stream",
     "text": [
      "A sample of users in the same cluster as Target User AHK5WGRRDPYA6IT5NKH7ZLKH4ECQ: ['AGZGA2B5XSMI45L7T3TJM6SZZ4LQ', 'AF62ZBRMLUGE5LZMTB343SOJSNQQ', 'AE6KN7GVWQSWPPRR6EE52T4B3MAA', 'AH4FLFM7M4QGLFSUR5GPAGYMW63A', 'AF3IELI63FDNLEAGV2I6KYJ2LXFA', 'AFTJJ6AHC3LCZAT4Y6PPRVMNBO4A', 'AEQT4H5ACHKLENKPPTUWJHZSPKMQ', 'AGHA2JSWGIAYKUFMFFRKMRF2RYNQ', 'AHJSGZG5LSL3AZXJR3OTZE7URPDA', 'AGQG375RMJZJNOSHKJH5NB7TUMKQ']\n"
     ]
    }
   ],
   "source": [
    "cluster_user_indices = [i for i, cluster in enumerate(user_clusters) if cluster == target_cluster]\n",
    "cluster_user_ids = user_item_matrix.index[cluster_user_indices].tolist()\n",
    "sample_size = 10  # Change this number to adjust the number of users to display\n",
    "print(\n",
    "    f'A sample of users in the same cluster as Target User {target_user_id}: '\n",
    "    f'{random.sample(cluster_user_ids, min(sample_size, len(cluster_user_ids)))}'\n",
    ")"
   ]
  },
  {
   "cell_type": "markdown",
   "id": "f2109e03",
   "metadata": {
    "papermill": {
     "duration": 0.024174,
     "end_time": "2024-09-02T14:34:16.404122",
     "exception": false,
     "start_time": "2024-09-02T14:34:16.379948",
     "status": "completed"
    },
    "tags": []
   },
   "source": [
    "Read the meta data"
   ]
  },
  {
   "cell_type": "code",
   "execution_count": 22,
   "id": "51095a6b",
   "metadata": {
    "execution": {
     "iopub.execute_input": "2024-09-02T14:34:16.455694Z",
     "iopub.status.busy": "2024-09-02T14:34:16.454897Z",
     "iopub.status.idle": "2024-09-02T14:35:03.486791Z",
     "shell.execute_reply": "2024-09-02T14:35:03.485465Z"
    },
    "papermill": {
     "duration": 47.084817,
     "end_time": "2024-09-02T14:35:03.513882",
     "exception": false,
     "start_time": "2024-09-02T14:34:16.429065",
     "status": "completed"
    },
    "tags": []
   },
   "outputs": [
    {
     "name": "stdout",
     "output_type": "stream",
     "text": [
      "The number of chunks is: 258\n"
     ]
    }
   ],
   "source": [
    "meta_file_path = ('/kaggle/input/amazon-cell-phones-and-accessories-reviews/'\n",
    "                  'meta_Cell_Phones_and_Accessories.jsonl/meta_Cell_Phones_and_Accessories.jsonl')\n",
    "\n",
    "# Chunk size\n",
    "chunk_size = 5000\n",
    "\n",
    "# Get the total number of lines\n",
    "num_lines = sum(1 for line in open(meta_file_path))\n",
    "\n",
    "# Calculate the number of chunks\n",
    "num_chunks = num_lines // chunk_size + (num_lines % chunk_size != 0)\n",
    "\n",
    "print(f'The number of chunks is: {num_chunks}')"
   ]
  },
  {
   "cell_type": "code",
   "execution_count": 23,
   "id": "1a6181e7",
   "metadata": {
    "execution": {
     "iopub.execute_input": "2024-09-02T14:35:03.564721Z",
     "iopub.status.busy": "2024-09-02T14:35:03.564303Z",
     "iopub.status.idle": "2024-09-02T14:38:18.891280Z",
     "shell.execute_reply": "2024-09-02T14:38:18.890066Z"
    },
    "papermill": {
     "duration": 195.356796,
     "end_time": "2024-09-02T14:38:18.895209",
     "exception": false,
     "start_time": "2024-09-02T14:35:03.538413",
     "status": "completed"
    },
    "tags": []
   },
   "outputs": [
    {
     "name": "stdout",
     "output_type": "stream",
     "text": [
      "Reading 258 chunks...\n"
     ]
    },
    {
     "name": "stderr",
     "output_type": "stream",
     "text": [
      "258it [03:15,  1.32it/s]"
     ]
    },
    {
     "name": "stdout",
     "output_type": "stream",
     "text": [
      "Done.\n"
     ]
    },
    {
     "name": "stderr",
     "output_type": "stream",
     "text": [
      "\n"
     ]
    }
   ],
   "source": [
    "meta_data_reader = pd.read_json(\n",
    "    meta_file_path,\n",
    "    lines=True,\n",
    "    chunksize=chunk_size\n",
    ")\n",
    "\n",
    "meta_data = pd.DataFrame()\n",
    "\n",
    "# Iterate over the chunks and append to the dataframe\n",
    "print(f'Reading {num_chunks} chunks...')\n",
    "for chunk in tqdm(meta_data_reader):\n",
    "    meta_data = pd.concat([meta_data, chunk])\n",
    "print('Done.')"
   ]
  },
  {
   "cell_type": "code",
   "execution_count": 24,
   "id": "2330ed58",
   "metadata": {
    "execution": {
     "iopub.execute_input": "2024-09-02T14:38:18.977993Z",
     "iopub.status.busy": "2024-09-02T14:38:18.977542Z",
     "iopub.status.idle": "2024-09-02T14:38:19.019203Z",
     "shell.execute_reply": "2024-09-02T14:38:19.017760Z"
    },
    "papermill": {
     "duration": 0.086207,
     "end_time": "2024-09-02T14:38:19.021774",
     "exception": false,
     "start_time": "2024-09-02T14:38:18.935567",
     "status": "completed"
    },
    "tags": []
   },
   "outputs": [
    {
     "name": "stdout",
     "output_type": "stream",
     "text": [
      "Number of products: 1,288,490\n"
     ]
    },
    {
     "data": {
      "text/html": [
       "<div>\n",
       "<style scoped>\n",
       "    .dataframe tbody tr th:only-of-type {\n",
       "        vertical-align: middle;\n",
       "    }\n",
       "\n",
       "    .dataframe tbody tr th {\n",
       "        vertical-align: top;\n",
       "    }\n",
       "\n",
       "    .dataframe thead th {\n",
       "        text-align: right;\n",
       "    }\n",
       "</style>\n",
       "<table border=\"1\" class=\"dataframe\">\n",
       "  <thead>\n",
       "    <tr style=\"text-align: right;\">\n",
       "      <th></th>\n",
       "      <th>main_category</th>\n",
       "      <th>title</th>\n",
       "      <th>average_rating</th>\n",
       "      <th>rating_number</th>\n",
       "      <th>features</th>\n",
       "      <th>description</th>\n",
       "      <th>price</th>\n",
       "      <th>images</th>\n",
       "      <th>videos</th>\n",
       "      <th>store</th>\n",
       "      <th>categories</th>\n",
       "      <th>details</th>\n",
       "      <th>parent_asin</th>\n",
       "      <th>bought_together</th>\n",
       "      <th>subtitle</th>\n",
       "      <th>author</th>\n",
       "    </tr>\n",
       "  </thead>\n",
       "  <tbody>\n",
       "    <tr>\n",
       "      <th>0</th>\n",
       "      <td>Cell Phones &amp; Accessories</td>\n",
       "      <td>ARAREE Slim Diary Cell Phone Case for Samsung ...</td>\n",
       "      <td>3.8</td>\n",
       "      <td>5</td>\n",
       "      <td>[Genuine Cow leather with 6 different colors, ...</td>\n",
       "      <td>[JUST LOOK, You can tell the difference. Make ...</td>\n",
       "      <td>NaN</td>\n",
       "      <td>[{'thumb': 'https://m.media-amazon.com/images/...</td>\n",
       "      <td>[]</td>\n",
       "      <td>araree</td>\n",
       "      <td>[Cell Phones &amp; Accessories, Cases, Holsters &amp; ...</td>\n",
       "      <td>{'Product Dimensions': '3.35 x 0.59 x 6.18 inc...</td>\n",
       "      <td>B013SK1JTY</td>\n",
       "      <td>NaN</td>\n",
       "      <td>NaN</td>\n",
       "      <td>NaN</td>\n",
       "    </tr>\n",
       "    <tr>\n",
       "      <th>1</th>\n",
       "      <td>Cell Phones &amp; Accessories</td>\n",
       "      <td>Bastmei for OnePlus 7T Case Extremely Light Ul...</td>\n",
       "      <td>4.4</td>\n",
       "      <td>177</td>\n",
       "      <td>[Ultra-thin &amp; Ultra-light: The ultra slim fit ...</td>\n",
       "      <td>[]</td>\n",
       "      <td>11.98</td>\n",
       "      <td>[{'thumb': 'https://m.media-amazon.com/images/...</td>\n",
       "      <td>[]</td>\n",
       "      <td>Bastmei</td>\n",
       "      <td>[Cell Phones &amp; Accessories, Cases, Holsters &amp; ...</td>\n",
       "      <td>{'Package Dimensions': '7.6 x 4.29 x 0.75 inch...</td>\n",
       "      <td>B07ZPSG8P5</td>\n",
       "      <td>NaN</td>\n",
       "      <td>NaN</td>\n",
       "      <td>NaN</td>\n",
       "    </tr>\n",
       "    <tr>\n",
       "      <th>2</th>\n",
       "      <td>Cell Phones &amp; Accessories</td>\n",
       "      <td>Wireless Fones Branded New Iphone 5C/LITE Hot ...</td>\n",
       "      <td>4.0</td>\n",
       "      <td>2</td>\n",
       "      <td>[]</td>\n",
       "      <td>[]</td>\n",
       "      <td>NaN</td>\n",
       "      <td>[{'thumb': 'https://m.media-amazon.com/images/...</td>\n",
       "      <td>[]</td>\n",
       "      <td>WIRELESS FONES</td>\n",
       "      <td>[Cell Phones &amp; Accessories, iPhone Accessories]</td>\n",
       "      <td>{'Item model number': 'Apple Iphone 5C', 'Othe...</td>\n",
       "      <td>B00GKR3L12</td>\n",
       "      <td>NaN</td>\n",
       "      <td>NaN</td>\n",
       "      <td>NaN</td>\n",
       "    </tr>\n",
       "    <tr>\n",
       "      <th>3</th>\n",
       "      <td>Cell Phones &amp; Accessories</td>\n",
       "      <td>iPhone 6 Plus + Case, DandyCase Perfect PATTER...</td>\n",
       "      <td>4.0</td>\n",
       "      <td>15</td>\n",
       "      <td>[Slim-Fit design for the iPhone 6 Plus (5.5\" s...</td>\n",
       "      <td>[Case does not need to be removed for charging...</td>\n",
       "      <td>NaN</td>\n",
       "      <td>[{'thumb': 'https://m.media-amazon.com/images/...</td>\n",
       "      <td>[]</td>\n",
       "      <td>DandyCase</td>\n",
       "      <td>[Cell Phones &amp; Accessories, iPhone Accessories]</td>\n",
       "      <td>{'Product Dimensions': '5.43 x 0.28 x 2.64 inc...</td>\n",
       "      <td>B00PB8U8BW</td>\n",
       "      <td>NaN</td>\n",
       "      <td>NaN</td>\n",
       "      <td>NaN</td>\n",
       "    </tr>\n",
       "    <tr>\n",
       "      <th>4</th>\n",
       "      <td>Cell Phones &amp; Accessories</td>\n",
       "      <td>Case for Galaxy S6/S6 Edge, Thin Translucent V...</td>\n",
       "      <td>4.0</td>\n",
       "      <td>1</td>\n",
       "      <td>[]</td>\n",
       "      <td>[]</td>\n",
       "      <td>NaN</td>\n",
       "      <td>[{'thumb': 'https://m.media-amazon.com/images/...</td>\n",
       "      <td>[]</td>\n",
       "      <td>7Pite</td>\n",
       "      <td>[Cell Phones &amp; Accessories, Cases, Holsters &amp; ...</td>\n",
       "      <td>{'Package Dimensions': '8.31 x 3.74 x 0.55 inc...</td>\n",
       "      <td>B07D3RHSRV</td>\n",
       "      <td>NaN</td>\n",
       "      <td>NaN</td>\n",
       "      <td>NaN</td>\n",
       "    </tr>\n",
       "  </tbody>\n",
       "</table>\n",
       "</div>"
      ],
      "text/plain": [
       "               main_category  \\\n",
       "0  Cell Phones & Accessories   \n",
       "1  Cell Phones & Accessories   \n",
       "2  Cell Phones & Accessories   \n",
       "3  Cell Phones & Accessories   \n",
       "4  Cell Phones & Accessories   \n",
       "\n",
       "                                               title  average_rating  \\\n",
       "0  ARAREE Slim Diary Cell Phone Case for Samsung ...             3.8   \n",
       "1  Bastmei for OnePlus 7T Case Extremely Light Ul...             4.4   \n",
       "2  Wireless Fones Branded New Iphone 5C/LITE Hot ...             4.0   \n",
       "3  iPhone 6 Plus + Case, DandyCase Perfect PATTER...             4.0   \n",
       "4  Case for Galaxy S6/S6 Edge, Thin Translucent V...             4.0   \n",
       "\n",
       "   rating_number                                           features  \\\n",
       "0              5  [Genuine Cow leather with 6 different colors, ...   \n",
       "1            177  [Ultra-thin & Ultra-light: The ultra slim fit ...   \n",
       "2              2                                                 []   \n",
       "3             15  [Slim-Fit design for the iPhone 6 Plus (5.5\" s...   \n",
       "4              1                                                 []   \n",
       "\n",
       "                                         description  price  \\\n",
       "0  [JUST LOOK, You can tell the difference. Make ...    NaN   \n",
       "1                                                 []  11.98   \n",
       "2                                                 []    NaN   \n",
       "3  [Case does not need to be removed for charging...    NaN   \n",
       "4                                                 []    NaN   \n",
       "\n",
       "                                              images videos           store  \\\n",
       "0  [{'thumb': 'https://m.media-amazon.com/images/...     []          araree   \n",
       "1  [{'thumb': 'https://m.media-amazon.com/images/...     []         Bastmei   \n",
       "2  [{'thumb': 'https://m.media-amazon.com/images/...     []  WIRELESS FONES   \n",
       "3  [{'thumb': 'https://m.media-amazon.com/images/...     []       DandyCase   \n",
       "4  [{'thumb': 'https://m.media-amazon.com/images/...     []           7Pite   \n",
       "\n",
       "                                          categories  \\\n",
       "0  [Cell Phones & Accessories, Cases, Holsters & ...   \n",
       "1  [Cell Phones & Accessories, Cases, Holsters & ...   \n",
       "2    [Cell Phones & Accessories, iPhone Accessories]   \n",
       "3    [Cell Phones & Accessories, iPhone Accessories]   \n",
       "4  [Cell Phones & Accessories, Cases, Holsters & ...   \n",
       "\n",
       "                                             details parent_asin  \\\n",
       "0  {'Product Dimensions': '3.35 x 0.59 x 6.18 inc...  B013SK1JTY   \n",
       "1  {'Package Dimensions': '7.6 x 4.29 x 0.75 inch...  B07ZPSG8P5   \n",
       "2  {'Item model number': 'Apple Iphone 5C', 'Othe...  B00GKR3L12   \n",
       "3  {'Product Dimensions': '5.43 x 0.28 x 2.64 inc...  B00PB8U8BW   \n",
       "4  {'Package Dimensions': '8.31 x 3.74 x 0.55 inc...  B07D3RHSRV   \n",
       "\n",
       "   bought_together subtitle author  \n",
       "0              NaN      NaN    NaN  \n",
       "1              NaN      NaN    NaN  \n",
       "2              NaN      NaN    NaN  \n",
       "3              NaN      NaN    NaN  \n",
       "4              NaN      NaN    NaN  "
      ]
     },
     "execution_count": 24,
     "metadata": {},
     "output_type": "execute_result"
    }
   ],
   "source": [
    "print(f'Number of products: {len(meta_data):,}')\n",
    "meta_data.head()"
   ]
  },
  {
   "cell_type": "markdown",
   "id": "ff44661b",
   "metadata": {
    "papermill": {
     "duration": 0.04158,
     "end_time": "2024-09-02T14:38:19.105756",
     "exception": false,
     "start_time": "2024-09-02T14:38:19.064176",
     "status": "completed"
    },
    "tags": []
   },
   "source": [
    "Acquire wanted meta data of each record from target cluster"
   ]
  },
  {
   "cell_type": "code",
   "execution_count": 25,
   "id": "dd61bc19",
   "metadata": {
    "execution": {
     "iopub.execute_input": "2024-09-02T14:38:19.189071Z",
     "iopub.status.busy": "2024-09-02T14:38:19.188659Z",
     "iopub.status.idle": "2024-09-02T15:23:31.226390Z",
     "shell.execute_reply": "2024-09-02T15:23:31.224761Z"
    },
    "papermill": {
     "duration": 2712.083303,
     "end_time": "2024-09-02T15:23:31.229746",
     "exception": false,
     "start_time": "2024-09-02T14:38:19.146443",
     "status": "completed"
    },
    "tags": []
   },
   "outputs": [
    {
     "name": "stdout",
     "output_type": "stream",
     "text": [
      "Preparing the records of 2718 users...\n"
     ]
    },
    {
     "name": "stderr",
     "output_type": "stream",
     "text": [
      "100%|██████████| 2718/2718 [45:12<00:00,  1.00it/s]"
     ]
    },
    {
     "name": "stdout",
     "output_type": "stream",
     "text": [
      "Done succesfully.\n"
     ]
    },
    {
     "name": "stderr",
     "output_type": "stream",
     "text": [
      "\n"
     ]
    }
   ],
   "source": [
    "print(f'Preparing the records of {len(cluster_user_ids)} users...')\n",
    "\n",
    "cluster_records = {}\n",
    "\n",
    "# Iterate over the user ids\n",
    "for user_id in tqdm(cluster_user_ids):\n",
    "    # Filter the records for the current user\n",
    "    user_records = rating_subset[rating_subset['user_id'] == user_id]\n",
    "    \n",
    "    # Sort the records by timestamp\n",
    "    sorted_user_records = user_records.sort_values(by='timestamp', ascending=False).reset_index(drop=True)\n",
    "    \n",
    "    # Create new columns for title and details\n",
    "    sorted_user_records['title'] = ''\n",
    "    sorted_user_records['brand'] = ''\n",
    "    sorted_user_records['material'] = ''\n",
    "    sorted_user_records['product_dimensions'] = ''\n",
    "    \n",
    "    # Iterate over the rows in the sorted records\n",
    "    for index, row in sorted_user_records.iterrows():\n",
    "        # Find the corresponding record in the meta_data\n",
    "        product_record = meta_data[meta_data['parent_asin'] == row['parent_asin']]\n",
    "        \n",
    "        # Get the title and details\n",
    "        title = product_record['title'].values[0]\n",
    "        brand = product_record['details'].values[0].get('Brand', np.nan)\n",
    "        material = product_record['details'].values[0].get('Material', np.nan)\n",
    "        product_dimensions = product_record['details'].values[0].get('Product Dimensions', np.nan)\n",
    "        \n",
    "        # Add the title and product dimensions to the sorted records\n",
    "        sorted_user_records.at[index, 'title'] = title\n",
    "        sorted_user_records.at[index, 'brand'] = brand\n",
    "        sorted_user_records.at[index, 'material'] = material\n",
    "        sorted_user_records.at[index, 'product_dimensions'] = product_dimensions\n",
    "    \n",
    "    # Store the sorted records in the dictionary\n",
    "    cluster_records[user_id] = sorted_user_records\n",
    "    \n",
    "print('Done succesfully.')"
   ]
  },
  {
   "cell_type": "markdown",
   "id": "d3931a1c",
   "metadata": {
    "papermill": {
     "duration": 0.218909,
     "end_time": "2024-09-02T15:23:31.667599",
     "exception": false,
     "start_time": "2024-09-02T15:23:31.448690",
     "status": "completed"
    },
    "tags": []
   },
   "source": [
    "Show sample of one user's records"
   ]
  },
  {
   "cell_type": "code",
   "execution_count": 26,
   "id": "afed9c60",
   "metadata": {
    "execution": {
     "iopub.execute_input": "2024-09-02T15:23:32.183915Z",
     "iopub.status.busy": "2024-09-02T15:23:32.183454Z",
     "iopub.status.idle": "2024-09-02T15:23:32.205310Z",
     "shell.execute_reply": "2024-09-02T15:23:32.204064Z"
    },
    "papermill": {
     "duration": 0.322211,
     "end_time": "2024-09-02T15:23:32.207950",
     "exception": false,
     "start_time": "2024-09-02T15:23:31.885739",
     "status": "completed"
    },
    "tags": []
   },
   "outputs": [
    {
     "data": {
      "text/html": [
       "<div>\n",
       "<style scoped>\n",
       "    .dataframe tbody tr th:only-of-type {\n",
       "        vertical-align: middle;\n",
       "    }\n",
       "\n",
       "    .dataframe tbody tr th {\n",
       "        vertical-align: top;\n",
       "    }\n",
       "\n",
       "    .dataframe thead th {\n",
       "        text-align: right;\n",
       "    }\n",
       "</style>\n",
       "<table border=\"1\" class=\"dataframe\">\n",
       "  <thead>\n",
       "    <tr style=\"text-align: right;\">\n",
       "      <th></th>\n",
       "      <th>user_id</th>\n",
       "      <th>parent_asin</th>\n",
       "      <th>rating</th>\n",
       "      <th>timestamp</th>\n",
       "      <th>date_time</th>\n",
       "      <th>title</th>\n",
       "      <th>brand</th>\n",
       "      <th>material</th>\n",
       "      <th>product_dimensions</th>\n",
       "    </tr>\n",
       "  </thead>\n",
       "  <tbody>\n",
       "    <tr>\n",
       "      <th>0</th>\n",
       "      <td>AF43G5PP3S4LWKSE3HTXZOB6SUTQ</td>\n",
       "      <td>B0BYS7ZYJ1</td>\n",
       "      <td>5.0</td>\n",
       "      <td>1636216178814</td>\n",
       "      <td>2021-11-06 16:29:38.814</td>\n",
       "      <td>Lamicall Cell Phone Stand, Desk Phone Holder C...</td>\n",
       "      <td>Lamicall</td>\n",
       "      <td>NaN</td>\n",
       "      <td>NaN</td>\n",
       "    </tr>\n",
       "    <tr>\n",
       "      <th>1</th>\n",
       "      <td>AF43G5PP3S4LWKSE3HTXZOB6SUTQ</td>\n",
       "      <td>B0C575KCXJ</td>\n",
       "      <td>5.0</td>\n",
       "      <td>1563456480161</td>\n",
       "      <td>2019-07-18 13:28:00.161</td>\n",
       "      <td>NEWVANGA International Universal All in One Wo...</td>\n",
       "      <td>NEWVANGA</td>\n",
       "      <td>NaN</td>\n",
       "      <td>3 x 1.5 x 1.9 inches</td>\n",
       "    </tr>\n",
       "    <tr>\n",
       "      <th>2</th>\n",
       "      <td>AF43G5PP3S4LWKSE3HTXZOB6SUTQ</td>\n",
       "      <td>B01FU8PYFW</td>\n",
       "      <td>5.0</td>\n",
       "      <td>1480625509000</td>\n",
       "      <td>2016-12-01 20:51:49.000</td>\n",
       "      <td>Ailun Phone Case for iPhone 6s iPhone 6 Solid ...</td>\n",
       "      <td>NaN</td>\n",
       "      <td>NaN</td>\n",
       "      <td>NaN</td>\n",
       "    </tr>\n",
       "  </tbody>\n",
       "</table>\n",
       "</div>"
      ],
      "text/plain": [
       "                        user_id parent_asin  rating      timestamp  \\\n",
       "0  AF43G5PP3S4LWKSE3HTXZOB6SUTQ  B0BYS7ZYJ1     5.0  1636216178814   \n",
       "1  AF43G5PP3S4LWKSE3HTXZOB6SUTQ  B0C575KCXJ     5.0  1563456480161   \n",
       "2  AF43G5PP3S4LWKSE3HTXZOB6SUTQ  B01FU8PYFW     5.0  1480625509000   \n",
       "\n",
       "                date_time                                              title  \\\n",
       "0 2021-11-06 16:29:38.814  Lamicall Cell Phone Stand, Desk Phone Holder C...   \n",
       "1 2019-07-18 13:28:00.161  NEWVANGA International Universal All in One Wo...   \n",
       "2 2016-12-01 20:51:49.000  Ailun Phone Case for iPhone 6s iPhone 6 Solid ...   \n",
       "\n",
       "      brand material    product_dimensions  \n",
       "0  Lamicall      NaN                   NaN  \n",
       "1  NEWVANGA      NaN  3 x 1.5 x 1.9 inches  \n",
       "2       NaN      NaN                   NaN  "
      ]
     },
     "execution_count": 26,
     "metadata": {},
     "output_type": "execute_result"
    }
   ],
   "source": [
    "cluster_records[list(cluster_records.keys())[random.randint(0, len(cluster_records))]]"
   ]
  },
  {
   "cell_type": "markdown",
   "id": "4c4f1cb3",
   "metadata": {
    "papermill": {
     "duration": 0.216759,
     "end_time": "2024-09-02T15:23:32.642694",
     "exception": false,
     "start_time": "2024-09-02T15:23:32.425935",
     "status": "completed"
    },
    "tags": []
   },
   "source": [
    "Build vocabulary from details columns"
   ]
  },
  {
   "cell_type": "code",
   "execution_count": 27,
   "id": "f201c23d",
   "metadata": {
    "execution": {
     "iopub.execute_input": "2024-09-02T15:23:33.079474Z",
     "iopub.status.busy": "2024-09-02T15:23:33.079070Z",
     "iopub.status.idle": "2024-09-02T15:23:34.268493Z",
     "shell.execute_reply": "2024-09-02T15:23:34.267319Z"
    },
    "papermill": {
     "duration": 1.412613,
     "end_time": "2024-09-02T15:23:34.271820",
     "exception": false,
     "start_time": "2024-09-02T15:23:32.859207",
     "status": "completed"
    },
    "tags": []
   },
   "outputs": [],
   "source": [
    "import nltk\n",
    "\n",
    "nltk.download('punkt', quiet=True)\n",
    "nltk.download('stopwords', quiet=True)\n",
    "\n",
    "stop_words = set(nltk.corpus.stopwords.words('english'))"
   ]
  },
  {
   "cell_type": "code",
   "execution_count": 28,
   "id": "9e84b61c",
   "metadata": {
    "execution": {
     "iopub.execute_input": "2024-09-02T15:23:34.706556Z",
     "iopub.status.busy": "2024-09-02T15:23:34.705490Z",
     "iopub.status.idle": "2024-09-02T15:23:34.714098Z",
     "shell.execute_reply": "2024-09-02T15:23:34.712870Z"
    },
    "papermill": {
     "duration": 0.228488,
     "end_time": "2024-09-02T15:23:34.716492",
     "exception": false,
     "start_time": "2024-09-02T15:23:34.488004",
     "status": "completed"
    },
    "tags": []
   },
   "outputs": [],
   "source": [
    "def tokenize_text(text_):\n",
    "    if type(text_) == str:\n",
    "        # tokenize\n",
    "        tokens = nltk.tokenize.word_tokenize(text_)\n",
    "        # to lowercase\n",
    "        tokens = [token.lower() for token in tokens]\n",
    "        # remove stop words\n",
    "        tokens = [token for token in tokens if token not in stop_words]\n",
    "        # remove punctuation\n",
    "        tokens = [token for token in tokens if token.isalnum()]\n",
    "        return tokens\n",
    "    else:\n",
    "        return np.nan"
   ]
  },
  {
   "cell_type": "code",
   "execution_count": 29,
   "id": "33c07ee6",
   "metadata": {
    "execution": {
     "iopub.execute_input": "2024-09-02T15:23:35.157820Z",
     "iopub.status.busy": "2024-09-02T15:23:35.157393Z",
     "iopub.status.idle": "2024-09-02T15:23:35.165200Z",
     "shell.execute_reply": "2024-09-02T15:23:35.164031Z"
    },
    "papermill": {
     "duration": 0.233543,
     "end_time": "2024-09-02T15:23:35.167657",
     "exception": false,
     "start_time": "2024-09-02T15:23:34.934114",
     "status": "completed"
    },
    "tags": []
   },
   "outputs": [],
   "source": [
    "def build_vocab(texts_, min_freq=2):\n",
    "    word_count = {}\n",
    "    idx2token = {}\n",
    "    token2idx = {}\n",
    "\n",
    "    texts_ = texts_.to_list()\n",
    "    for text_ in texts_:\n",
    "        if type(text_) == float:\n",
    "            continue\n",
    "        for token in text_:\n",
    "            if not token in word_count:\n",
    "                word_count[token] = 1\n",
    "            else:\n",
    "                word_count[token] += 1\n",
    "\n",
    "    idx = 0\n",
    "    for word in word_count:\n",
    "        if word_count[word] >= min_freq:\n",
    "            idx2token[idx] = word\n",
    "            token2idx[word] = idx\n",
    "            idx += 1\n",
    "\n",
    "    return {'idx2token': idx2token, 'token2idx': token2idx}"
   ]
  },
  {
   "cell_type": "code",
   "execution_count": 30,
   "id": "6bd41556",
   "metadata": {
    "execution": {
     "iopub.execute_input": "2024-09-02T15:23:35.599229Z",
     "iopub.status.busy": "2024-09-02T15:23:35.598850Z",
     "iopub.status.idle": "2024-09-02T15:23:45.788450Z",
     "shell.execute_reply": "2024-09-02T15:23:45.786980Z"
    },
    "papermill": {
     "duration": 10.409097,
     "end_time": "2024-09-02T15:23:45.791748",
     "exception": false,
     "start_time": "2024-09-02T15:23:35.382651",
     "status": "completed"
    },
    "tags": []
   },
   "outputs": [
    {
     "name": "stdout",
     "output_type": "stream",
     "text": [
      "Tokenizing...\n"
     ]
    },
    {
     "name": "stderr",
     "output_type": "stream",
     "text": [
      "100%|██████████| 2718/2718 [00:10<00:00, 267.04it/s]"
     ]
    },
    {
     "name": "stdout",
     "output_type": "stream",
     "text": [
      "Done successfully.\n"
     ]
    },
    {
     "name": "stderr",
     "output_type": "stream",
     "text": [
      "\n"
     ]
    }
   ],
   "source": [
    "print('Tokenizing...')\n",
    "for user_id in tqdm(cluster_records):\n",
    "    cluster_records[user_id]['title_tokenized'] = cluster_records[user_id]['title'].apply(tokenize_text)\n",
    "    cluster_records[user_id]['brand_tokenized'] = cluster_records[user_id]['brand'].apply(tokenize_text)\n",
    "    cluster_records[user_id]['material_tokenized'] = cluster_records[user_id]['material'].apply(tokenize_text)\n",
    "    cluster_records[user_id]['product_dimensions_tokenized'] = cluster_records[user_id]['product_dimensions'].apply(tokenize_text)\n",
    "print('Done successfully.')"
   ]
  },
  {
   "cell_type": "markdown",
   "id": "3af07803",
   "metadata": {
    "papermill": {
     "duration": 0.292438,
     "end_time": "2024-09-02T15:23:46.309643",
     "exception": false,
     "start_time": "2024-09-02T15:23:46.017205",
     "status": "completed"
    },
    "tags": []
   },
   "source": [
    "Show sample of one user's tokenized records"
   ]
  },
  {
   "cell_type": "code",
   "execution_count": 31,
   "id": "1cbe4f1f",
   "metadata": {
    "execution": {
     "iopub.execute_input": "2024-09-02T15:23:46.768895Z",
     "iopub.status.busy": "2024-09-02T15:23:46.768119Z",
     "iopub.status.idle": "2024-09-02T15:23:46.811835Z",
     "shell.execute_reply": "2024-09-02T15:23:46.810226Z"
    },
    "papermill": {
     "duration": 0.281053,
     "end_time": "2024-09-02T15:23:46.815011",
     "exception": false,
     "start_time": "2024-09-02T15:23:46.533958",
     "status": "completed"
    },
    "tags": []
   },
   "outputs": [
    {
     "data": {
      "text/html": [
       "<div>\n",
       "<style scoped>\n",
       "    .dataframe tbody tr th:only-of-type {\n",
       "        vertical-align: middle;\n",
       "    }\n",
       "\n",
       "    .dataframe tbody tr th {\n",
       "        vertical-align: top;\n",
       "    }\n",
       "\n",
       "    .dataframe thead th {\n",
       "        text-align: right;\n",
       "    }\n",
       "</style>\n",
       "<table border=\"1\" class=\"dataframe\">\n",
       "  <thead>\n",
       "    <tr style=\"text-align: right;\">\n",
       "      <th></th>\n",
       "      <th>user_id</th>\n",
       "      <th>parent_asin</th>\n",
       "      <th>rating</th>\n",
       "      <th>timestamp</th>\n",
       "      <th>date_time</th>\n",
       "      <th>title</th>\n",
       "      <th>brand</th>\n",
       "      <th>material</th>\n",
       "      <th>product_dimensions</th>\n",
       "      <th>title_tokenized</th>\n",
       "      <th>brand_tokenized</th>\n",
       "      <th>material_tokenized</th>\n",
       "      <th>product_dimensions_tokenized</th>\n",
       "    </tr>\n",
       "  </thead>\n",
       "  <tbody>\n",
       "    <tr>\n",
       "      <th>0</th>\n",
       "      <td>AFFV5FPBT6MMQUT53PRHJU6PFQIQ</td>\n",
       "      <td>B09XDS2FZR</td>\n",
       "      <td>3.0</td>\n",
       "      <td>1667267844752</td>\n",
       "      <td>2022-11-01 01:57:24.752</td>\n",
       "      <td>KANGHAR Designed for Samsung Galaxy S22 Ultra ...</td>\n",
       "      <td>KANGHAR</td>\n",
       "      <td>Thermoplastic Polyurethane</td>\n",
       "      <td>6.1 x 3.15 x 0.47 inches</td>\n",
       "      <td>[kanghar, designed, samsung, galaxy, s22, ultr...</td>\n",
       "      <td>[kanghar]</td>\n",
       "      <td>[thermoplastic, polyurethane]</td>\n",
       "      <td>[x, x, inches]</td>\n",
       "    </tr>\n",
       "    <tr>\n",
       "      <th>1</th>\n",
       "      <td>AFFV5FPBT6MMQUT53PRHJU6PFQIQ</td>\n",
       "      <td>B099ZZ9YMT</td>\n",
       "      <td>5.0</td>\n",
       "      <td>1636381861325</td>\n",
       "      <td>2021-11-08 14:31:01.325</td>\n",
       "      <td>Samsung Galaxy S21 Ultra Case 6.8 inch, Temdan...</td>\n",
       "      <td>Temdan</td>\n",
       "      <td>NaN</td>\n",
       "      <td>6.5 x 0.65 x 3.35 inches</td>\n",
       "      <td>[samsung, galaxy, s21, ultra, case, inch, temd...</td>\n",
       "      <td>[temdan]</td>\n",
       "      <td>NaN</td>\n",
       "      <td>[x, x, inches]</td>\n",
       "    </tr>\n",
       "    <tr>\n",
       "      <th>2</th>\n",
       "      <td>AFFV5FPBT6MMQUT53PRHJU6PFQIQ</td>\n",
       "      <td>B08XJQCSFJ</td>\n",
       "      <td>4.0</td>\n",
       "      <td>1628824294144</td>\n",
       "      <td>2021-08-13 03:11:34.144</td>\n",
       "      <td>3 Pack EGV 1pcs Privacy TPU Screen Protector a...</td>\n",
       "      <td>EGV</td>\n",
       "      <td>Thermoplastic Polyurethane</td>\n",
       "      <td>NaN</td>\n",
       "      <td>[3, pack, egv, 1pcs, privacy, tpu, screen, pro...</td>\n",
       "      <td>[egv]</td>\n",
       "      <td>[thermoplastic, polyurethane]</td>\n",
       "      <td>NaN</td>\n",
       "    </tr>\n",
       "    <tr>\n",
       "      <th>3</th>\n",
       "      <td>AFFV5FPBT6MMQUT53PRHJU6PFQIQ</td>\n",
       "      <td>B08F529562</td>\n",
       "      <td>5.0</td>\n",
       "      <td>1616979592420</td>\n",
       "      <td>2021-03-29 00:59:52.420</td>\n",
       "      <td>BAZO [2+2 Pack Compatible for Samsung Galaxy A...</td>\n",
       "      <td>BAZO</td>\n",
       "      <td>Glass</td>\n",
       "      <td>15.99\"L x 8.99\"W</td>\n",
       "      <td>[bazo, pack, compatible, samsung, galaxy, a11,...</td>\n",
       "      <td>[bazo]</td>\n",
       "      <td>[glass]</td>\n",
       "      <td>[l, x, w]</td>\n",
       "    </tr>\n",
       "    <tr>\n",
       "      <th>4</th>\n",
       "      <td>AFFV5FPBT6MMQUT53PRHJU6PFQIQ</td>\n",
       "      <td>B08BQ2JWYD</td>\n",
       "      <td>5.0</td>\n",
       "      <td>1616979374610</td>\n",
       "      <td>2021-03-29 00:56:14.610</td>\n",
       "      <td>lovpec Compatible with Galaxy A11 Case with Sc...</td>\n",
       "      <td>Lovpec</td>\n",
       "      <td>Silicone, Polycarbonate</td>\n",
       "      <td>6.38 x 3.02 x 0.33 inches</td>\n",
       "      <td>[lovpec, compatible, galaxy, a11, case, screen...</td>\n",
       "      <td>[lovpec]</td>\n",
       "      <td>[silicone, polycarbonate]</td>\n",
       "      <td>[x, x, inches]</td>\n",
       "    </tr>\n",
       "    <tr>\n",
       "      <th>5</th>\n",
       "      <td>AFFV5FPBT6MMQUT53PRHJU6PFQIQ</td>\n",
       "      <td>B07PFZDK61</td>\n",
       "      <td>5.0</td>\n",
       "      <td>1603148178202</td>\n",
       "      <td>2020-10-19 22:56:18.202</td>\n",
       "      <td>XINBAOHONG Selfie Ring Light Rechargeable Port...</td>\n",
       "      <td>XINBAOHONG</td>\n",
       "      <td>NaN</td>\n",
       "      <td>3.35\"L x 1.1\"W x 3.35\"H</td>\n",
       "      <td>[xinbaohong, selfie, ring, light, rechargeable...</td>\n",
       "      <td>[xinbaohong]</td>\n",
       "      <td>NaN</td>\n",
       "      <td>[l, x, w, x, h]</td>\n",
       "    </tr>\n",
       "    <tr>\n",
       "      <th>6</th>\n",
       "      <td>AFFV5FPBT6MMQUT53PRHJU6PFQIQ</td>\n",
       "      <td>B07H85M595</td>\n",
       "      <td>5.0</td>\n",
       "      <td>1551965362773</td>\n",
       "      <td>2019-03-07 13:29:22.773</td>\n",
       "      <td>IQ Shield Screen Protector Compatible with Ama...</td>\n",
       "      <td>IQShield</td>\n",
       "      <td>Crystal</td>\n",
       "      <td>NaN</td>\n",
       "      <td>[iq, shield, screen, protector, compatible, am...</td>\n",
       "      <td>[iqshield]</td>\n",
       "      <td>[crystal]</td>\n",
       "      <td>NaN</td>\n",
       "    </tr>\n",
       "    <tr>\n",
       "      <th>7</th>\n",
       "      <td>AFFV5FPBT6MMQUT53PRHJU6PFQIQ</td>\n",
       "      <td>B07VW3K8X7</td>\n",
       "      <td>5.0</td>\n",
       "      <td>1547194424463</td>\n",
       "      <td>2019-01-11 08:13:44.463</td>\n",
       "      <td>IQShield Screen Protector Compatible with Sams...</td>\n",
       "      <td>IQShield</td>\n",
       "      <td>Crystal</td>\n",
       "      <td>NaN</td>\n",
       "      <td>[iqshield, screen, protector, compatible, sams...</td>\n",
       "      <td>[iqshield]</td>\n",
       "      <td>[crystal]</td>\n",
       "      <td>NaN</td>\n",
       "    </tr>\n",
       "    <tr>\n",
       "      <th>8</th>\n",
       "      <td>AFFV5FPBT6MMQUT53PRHJU6PFQIQ</td>\n",
       "      <td>B013D1WN7A</td>\n",
       "      <td>5.0</td>\n",
       "      <td>1463797765000</td>\n",
       "      <td>2016-05-21 02:29:25.000</td>\n",
       "      <td>STARSHOP Desire 526 Case, Slim Dual Layer Armo...</td>\n",
       "      <td>STARSHOP</td>\n",
       "      <td>Plastic</td>\n",
       "      <td>5.8 x 3.9 x 0.8 inches</td>\n",
       "      <td>[starshop, desire, 526, case, slim, dual, laye...</td>\n",
       "      <td>[starshop]</td>\n",
       "      <td>[plastic]</td>\n",
       "      <td>[x, x, inches]</td>\n",
       "    </tr>\n",
       "    <tr>\n",
       "      <th>9</th>\n",
       "      <td>AFFV5FPBT6MMQUT53PRHJU6PFQIQ</td>\n",
       "      <td>B004KFXTOA</td>\n",
       "      <td>5.0</td>\n",
       "      <td>1357437049000</td>\n",
       "      <td>2013-01-06 01:50:49.000</td>\n",
       "      <td>HTC EVO Design SL892 Android Phone (Boost Mobi...</td>\n",
       "      <td>HTC</td>\n",
       "      <td>NaN</td>\n",
       "      <td>0.51 x 2.6 x 4.8 inches</td>\n",
       "      <td>[htc, evo, design, sl892, android, phone, boos...</td>\n",
       "      <td>[htc]</td>\n",
       "      <td>NaN</td>\n",
       "      <td>[x, x, inches]</td>\n",
       "    </tr>\n",
       "  </tbody>\n",
       "</table>\n",
       "</div>"
      ],
      "text/plain": [
       "                        user_id parent_asin  rating      timestamp  \\\n",
       "0  AFFV5FPBT6MMQUT53PRHJU6PFQIQ  B09XDS2FZR     3.0  1667267844752   \n",
       "1  AFFV5FPBT6MMQUT53PRHJU6PFQIQ  B099ZZ9YMT     5.0  1636381861325   \n",
       "2  AFFV5FPBT6MMQUT53PRHJU6PFQIQ  B08XJQCSFJ     4.0  1628824294144   \n",
       "3  AFFV5FPBT6MMQUT53PRHJU6PFQIQ  B08F529562     5.0  1616979592420   \n",
       "4  AFFV5FPBT6MMQUT53PRHJU6PFQIQ  B08BQ2JWYD     5.0  1616979374610   \n",
       "5  AFFV5FPBT6MMQUT53PRHJU6PFQIQ  B07PFZDK61     5.0  1603148178202   \n",
       "6  AFFV5FPBT6MMQUT53PRHJU6PFQIQ  B07H85M595     5.0  1551965362773   \n",
       "7  AFFV5FPBT6MMQUT53PRHJU6PFQIQ  B07VW3K8X7     5.0  1547194424463   \n",
       "8  AFFV5FPBT6MMQUT53PRHJU6PFQIQ  B013D1WN7A     5.0  1463797765000   \n",
       "9  AFFV5FPBT6MMQUT53PRHJU6PFQIQ  B004KFXTOA     5.0  1357437049000   \n",
       "\n",
       "                date_time                                              title  \\\n",
       "0 2022-11-01 01:57:24.752  KANGHAR Designed for Samsung Galaxy S22 Ultra ...   \n",
       "1 2021-11-08 14:31:01.325  Samsung Galaxy S21 Ultra Case 6.8 inch, Temdan...   \n",
       "2 2021-08-13 03:11:34.144  3 Pack EGV 1pcs Privacy TPU Screen Protector a...   \n",
       "3 2021-03-29 00:59:52.420  BAZO [2+2 Pack Compatible for Samsung Galaxy A...   \n",
       "4 2021-03-29 00:56:14.610  lovpec Compatible with Galaxy A11 Case with Sc...   \n",
       "5 2020-10-19 22:56:18.202  XINBAOHONG Selfie Ring Light Rechargeable Port...   \n",
       "6 2019-03-07 13:29:22.773  IQ Shield Screen Protector Compatible with Ama...   \n",
       "7 2019-01-11 08:13:44.463  IQShield Screen Protector Compatible with Sams...   \n",
       "8 2016-05-21 02:29:25.000  STARSHOP Desire 526 Case, Slim Dual Layer Armo...   \n",
       "9 2013-01-06 01:50:49.000  HTC EVO Design SL892 Android Phone (Boost Mobi...   \n",
       "\n",
       "        brand                    material         product_dimensions  \\\n",
       "0     KANGHAR  Thermoplastic Polyurethane   6.1 x 3.15 x 0.47 inches   \n",
       "1      Temdan                         NaN   6.5 x 0.65 x 3.35 inches   \n",
       "2         EGV  Thermoplastic Polyurethane                        NaN   \n",
       "3        BAZO                       Glass           15.99\"L x 8.99\"W   \n",
       "4      Lovpec     Silicone, Polycarbonate  6.38 x 3.02 x 0.33 inches   \n",
       "5  XINBAOHONG                         NaN    3.35\"L x 1.1\"W x 3.35\"H   \n",
       "6    IQShield                     Crystal                        NaN   \n",
       "7    IQShield                     Crystal                        NaN   \n",
       "8    STARSHOP                     Plastic     5.8 x 3.9 x 0.8 inches   \n",
       "9         HTC                         NaN    0.51 x 2.6 x 4.8 inches   \n",
       "\n",
       "                                     title_tokenized brand_tokenized  \\\n",
       "0  [kanghar, designed, samsung, galaxy, s22, ultr...       [kanghar]   \n",
       "1  [samsung, galaxy, s21, ultra, case, inch, temd...        [temdan]   \n",
       "2  [3, pack, egv, 1pcs, privacy, tpu, screen, pro...           [egv]   \n",
       "3  [bazo, pack, compatible, samsung, galaxy, a11,...          [bazo]   \n",
       "4  [lovpec, compatible, galaxy, a11, case, screen...        [lovpec]   \n",
       "5  [xinbaohong, selfie, ring, light, rechargeable...    [xinbaohong]   \n",
       "6  [iq, shield, screen, protector, compatible, am...      [iqshield]   \n",
       "7  [iqshield, screen, protector, compatible, sams...      [iqshield]   \n",
       "8  [starshop, desire, 526, case, slim, dual, laye...      [starshop]   \n",
       "9  [htc, evo, design, sl892, android, phone, boos...           [htc]   \n",
       "\n",
       "              material_tokenized product_dimensions_tokenized  \n",
       "0  [thermoplastic, polyurethane]               [x, x, inches]  \n",
       "1                            NaN               [x, x, inches]  \n",
       "2  [thermoplastic, polyurethane]                          NaN  \n",
       "3                        [glass]                    [l, x, w]  \n",
       "4      [silicone, polycarbonate]               [x, x, inches]  \n",
       "5                            NaN              [l, x, w, x, h]  \n",
       "6                      [crystal]                          NaN  \n",
       "7                      [crystal]                          NaN  \n",
       "8                      [plastic]               [x, x, inches]  \n",
       "9                            NaN               [x, x, inches]  "
      ]
     },
     "execution_count": 31,
     "metadata": {},
     "output_type": "execute_result"
    }
   ],
   "source": [
    "cluster_records[list(cluster_records.keys())[random.randint(0, len(cluster_records))]]"
   ]
  },
  {
   "cell_type": "code",
   "execution_count": 32,
   "id": "48d384c6",
   "metadata": {
    "execution": {
     "iopub.execute_input": "2024-09-02T15:23:47.277483Z",
     "iopub.status.busy": "2024-09-02T15:23:47.277062Z",
     "iopub.status.idle": "2024-09-02T15:24:04.572933Z",
     "shell.execute_reply": "2024-09-02T15:24:04.571542Z"
    },
    "papermill": {
     "duration": 17.52568,
     "end_time": "2024-09-02T15:24:04.575500",
     "exception": false,
     "start_time": "2024-09-02T15:23:47.049820",
     "status": "completed"
    },
    "tags": []
   },
   "outputs": [
    {
     "name": "stdout",
     "output_type": "stream",
     "text": [
      "Building vocabularies...\n"
     ]
    },
    {
     "name": "stderr",
     "output_type": "stream",
     "text": [
      "100%|██████████| 2718/2718 [00:17<00:00, 157.96it/s]\n"
     ]
    },
    {
     "name": "stdout",
     "output_type": "stream",
     "text": [
      "Done successfully.\n"
     ]
    }
   ],
   "source": [
    "all_titles = pd.DataFrame(columns=['title_tokenized'])\n",
    "all_brands = pd.DataFrame(columns=['brand_tokenized'])\n",
    "all_materials = pd.DataFrame(columns=['material_tokenized'])\n",
    "all_dimensions = pd.DataFrame(columns=['product_dimensions_tokenized'])\n",
    "print('Building vocabularies...')\n",
    "for user_id in tqdm(cluster_records):\n",
    "    all_titles = pd.concat([all_titles[['title_tokenized']], cluster_records[user_id]['title_tokenized']])\n",
    "    all_brands = pd.concat([all_brands[['brand_tokenized']], cluster_records[user_id]['brand_tokenized']])\n",
    "    all_materials = pd.concat([all_materials[['material_tokenized']], cluster_records[user_id]['material_tokenized']])\n",
    "    all_dimensions = pd.concat([all_dimensions[['product_dimensions_tokenized']], cluster_records[user_id]['product_dimensions_tokenized']])\n",
    "title_vocab = build_vocab(texts_=all_titles.squeeze())\n",
    "brand_vocab = build_vocab(texts_=all_brands.squeeze())\n",
    "material_vocab = build_vocab(texts_=all_materials.squeeze())\n",
    "dimensions_vocab = build_vocab(texts_=all_dimensions.squeeze())\n",
    "print('Done successfully.')"
   ]
  },
  {
   "cell_type": "code",
   "execution_count": 33,
   "id": "d5b93b2b",
   "metadata": {
    "execution": {
     "iopub.execute_input": "2024-09-02T15:24:05.058050Z",
     "iopub.status.busy": "2024-09-02T15:24:05.057579Z",
     "iopub.status.idle": "2024-09-02T15:24:05.064205Z",
     "shell.execute_reply": "2024-09-02T15:24:05.062747Z"
    },
    "papermill": {
     "duration": 0.255098,
     "end_time": "2024-09-02T15:24:05.066826",
     "exception": false,
     "start_time": "2024-09-02T15:24:04.811728",
     "status": "completed"
    },
    "tags": []
   },
   "outputs": [
    {
     "name": "stdout",
     "output_type": "stream",
     "text": [
      "Size of vocabularies:\n",
      "Title: 4,424\n",
      "Brand: 1,119\n",
      "Material: 333\n",
      "Product Dimensions: 32\n"
     ]
    }
   ],
   "source": [
    "print(\n",
    "    'Size of vocabularies:\\n'\n",
    "    f\"Title: {len(title_vocab['idx2token']):,}\\n\"\n",
    "    f\"Brand: {len(brand_vocab['idx2token']):,}\\n\"\n",
    "    f\"Material: {len(material_vocab['idx2token']):,}\\n\"\n",
    "    f\"Product Dimensions: {len(dimensions_vocab['idx2token']):,}\"\n",
    ")"
   ]
  },
  {
   "cell_type": "code",
   "execution_count": 34,
   "id": "bf265114",
   "metadata": {
    "execution": {
     "iopub.execute_input": "2024-09-02T15:24:05.554183Z",
     "iopub.status.busy": "2024-09-02T15:24:05.553755Z",
     "iopub.status.idle": "2024-09-02T15:24:07.347280Z",
     "shell.execute_reply": "2024-09-02T15:24:07.346004Z"
    },
    "papermill": {
     "duration": 2.037109,
     "end_time": "2024-09-02T15:24:07.349742",
     "exception": false,
     "start_time": "2024-09-02T15:24:05.312633",
     "status": "completed"
    },
    "tags": []
   },
   "outputs": [
    {
     "name": "stderr",
     "output_type": "stream",
     "text": [
      "100%|██████████| 2718/2718 [00:01<00:00, 1523.93it/s]\n"
     ]
    }
   ],
   "source": [
    "for user_id in tqdm(cluster_records):\n",
    "    # Drop the specified columns\n",
    "    cluster_records[user_id].drop(['title_tokenized', 'brand_tokenized', 'material_tokenized', 'product_dimensions_tokenized'], axis=1, inplace=True)"
   ]
  },
  {
   "cell_type": "code",
   "execution_count": 35,
   "id": "0e73fbb7",
   "metadata": {
    "execution": {
     "iopub.execute_input": "2024-09-02T15:24:07.825141Z",
     "iopub.status.busy": "2024-09-02T15:24:07.824762Z",
     "iopub.status.idle": "2024-09-02T15:24:11.212991Z",
     "shell.execute_reply": "2024-09-02T15:24:11.211722Z"
    },
    "papermill": {
     "duration": 3.630374,
     "end_time": "2024-09-02T15:24:11.215965",
     "exception": false,
     "start_time": "2024-09-02T15:24:07.585591",
     "status": "completed"
    },
    "tags": []
   },
   "outputs": [
    {
     "name": "stderr",
     "output_type": "stream",
     "text": [
      "100%|██████████| 2718/2718 [00:03<00:00, 804.68it/s]\n"
     ]
    }
   ],
   "source": [
    "for user_id in tqdm(cluster_records):\n",
    "    columns_to_rem = ['brand', 'material', 'product_dimensions']\n",
    "    cluster_records[user_id].dropna(subset=columns_to_rem, inplace=True)\n",
    "    cluster_records[user_id].reset_index(drop=True, inplace=True)"
   ]
  },
  {
   "cell_type": "code",
   "execution_count": 36,
   "id": "461cbf90",
   "metadata": {
    "execution": {
     "iopub.execute_input": "2024-09-02T15:24:11.779546Z",
     "iopub.status.busy": "2024-09-02T15:24:11.779086Z",
     "iopub.status.idle": "2024-09-02T15:24:11.794218Z",
     "shell.execute_reply": "2024-09-02T15:24:11.792998Z"
    },
    "papermill": {
     "duration": 0.262238,
     "end_time": "2024-09-02T15:24:11.796516",
     "exception": false,
     "start_time": "2024-09-02T15:24:11.534278",
     "status": "completed"
    },
    "tags": []
   },
   "outputs": [
    {
     "data": {
      "text/html": [
       "<div>\n",
       "<style scoped>\n",
       "    .dataframe tbody tr th:only-of-type {\n",
       "        vertical-align: middle;\n",
       "    }\n",
       "\n",
       "    .dataframe tbody tr th {\n",
       "        vertical-align: top;\n",
       "    }\n",
       "\n",
       "    .dataframe thead th {\n",
       "        text-align: right;\n",
       "    }\n",
       "</style>\n",
       "<table border=\"1\" class=\"dataframe\">\n",
       "  <thead>\n",
       "    <tr style=\"text-align: right;\">\n",
       "      <th></th>\n",
       "      <th>user_id</th>\n",
       "      <th>parent_asin</th>\n",
       "      <th>rating</th>\n",
       "      <th>timestamp</th>\n",
       "      <th>date_time</th>\n",
       "      <th>title</th>\n",
       "      <th>brand</th>\n",
       "      <th>material</th>\n",
       "      <th>product_dimensions</th>\n",
       "    </tr>\n",
       "  </thead>\n",
       "  <tbody>\n",
       "    <tr>\n",
       "      <th>0</th>\n",
       "      <td>AHJBGT5RWXHU46VPTPOSC2GCFTFA</td>\n",
       "      <td>B00XVLY434</td>\n",
       "      <td>5.0</td>\n",
       "      <td>1454856883000</td>\n",
       "      <td>2016-02-07 14:54:43</td>\n",
       "      <td>iCarez Tempered Glass Screen Protector for LG ...</td>\n",
       "      <td>ICarez</td>\n",
       "      <td>Tempered Glass</td>\n",
       "      <td>8 x 4 x 0.5 inches</td>\n",
       "    </tr>\n",
       "  </tbody>\n",
       "</table>\n",
       "</div>"
      ],
      "text/plain": [
       "                        user_id parent_asin  rating      timestamp  \\\n",
       "0  AHJBGT5RWXHU46VPTPOSC2GCFTFA  B00XVLY434     5.0  1454856883000   \n",
       "\n",
       "            date_time                                              title  \\\n",
       "0 2016-02-07 14:54:43  iCarez Tempered Glass Screen Protector for LG ...   \n",
       "\n",
       "    brand        material  product_dimensions  \n",
       "0  ICarez  Tempered Glass  8 x 4 x 0.5 inches  "
      ]
     },
     "execution_count": 36,
     "metadata": {},
     "output_type": "execute_result"
    }
   ],
   "source": [
    "cluster_records[list(cluster_records.keys())[random.randint(0, len(cluster_records))]]"
   ]
  },
  {
   "cell_type": "code",
   "execution_count": 37,
   "id": "e6629c7a",
   "metadata": {
    "execution": {
     "iopub.execute_input": "2024-09-02T15:24:12.286666Z",
     "iopub.status.busy": "2024-09-02T15:24:12.286075Z",
     "iopub.status.idle": "2024-09-02T15:24:12.328192Z",
     "shell.execute_reply": "2024-09-02T15:24:12.326637Z"
    },
    "papermill": {
     "duration": 0.297216,
     "end_time": "2024-09-02T15:24:12.342468",
     "exception": false,
     "start_time": "2024-09-02T15:24:12.045252",
     "status": "completed"
    },
    "tags": []
   },
   "outputs": [],
   "source": [
    "# Remove key-value pairs where the value is an empty DataFrame\n",
    "keys_to_remove = [key for key, df in cluster_records.items() if df.empty]\n",
    "\n",
    "for key in keys_to_remove:\n",
    "    del cluster_records[key]"
   ]
  },
  {
   "cell_type": "markdown",
   "id": "d2bc0cf7",
   "metadata": {
    "papermill": {
     "duration": 0.240841,
     "end_time": "2024-09-02T15:24:12.825751",
     "exception": false,
     "start_time": "2024-09-02T15:24:12.584910",
     "status": "completed"
    },
    "tags": []
   },
   "source": [
    "Vectorize the text data with vocabs created"
   ]
  },
  {
   "cell_type": "code",
   "execution_count": 38,
   "id": "7a69892e",
   "metadata": {
    "execution": {
     "iopub.execute_input": "2024-09-02T15:24:13.315198Z",
     "iopub.status.busy": "2024-09-02T15:24:13.314720Z",
     "iopub.status.idle": "2024-09-02T15:24:13.320819Z",
     "shell.execute_reply": "2024-09-02T15:24:13.319190Z"
    },
    "papermill": {
     "duration": 0.256234,
     "end_time": "2024-09-02T15:24:13.323548",
     "exception": false,
     "start_time": "2024-09-02T15:24:13.067314",
     "status": "completed"
    },
    "tags": []
   },
   "outputs": [],
   "source": [
    "from sklearn.feature_extraction.text import CountVectorizer"
   ]
  },
  {
   "cell_type": "code",
   "execution_count": 39,
   "id": "4904abbc",
   "metadata": {
    "execution": {
     "iopub.execute_input": "2024-09-02T15:24:13.882818Z",
     "iopub.status.busy": "2024-09-02T15:24:13.882381Z",
     "iopub.status.idle": "2024-09-02T15:24:13.888715Z",
     "shell.execute_reply": "2024-09-02T15:24:13.887404Z"
    },
    "papermill": {
     "duration": 0.251605,
     "end_time": "2024-09-02T15:24:13.891266",
     "exception": false,
     "start_time": "2024-09-02T15:24:13.639661",
     "status": "completed"
    },
    "tags": []
   },
   "outputs": [],
   "source": [
    "title_vectorizer = CountVectorizer(vocabulary=title_vocab['token2idx'])\n",
    "brand_vectorizer = CountVectorizer(vocabulary=brand_vocab['token2idx'])\n",
    "material_vectorizer = CountVectorizer(vocabulary=material_vocab['token2idx'])\n",
    "dimensions_vectorizer = CountVectorizer(vocabulary=dimensions_vocab['token2idx'])"
   ]
  },
  {
   "cell_type": "code",
   "execution_count": 40,
   "id": "488a4ba5",
   "metadata": {
    "execution": {
     "iopub.execute_input": "2024-09-02T15:24:14.375582Z",
     "iopub.status.busy": "2024-09-02T15:24:14.375166Z",
     "iopub.status.idle": "2024-09-02T15:24:28.283815Z",
     "shell.execute_reply": "2024-09-02T15:24:28.282302Z"
    },
    "papermill": {
     "duration": 14.153571,
     "end_time": "2024-09-02T15:24:28.286337",
     "exception": false,
     "start_time": "2024-09-02T15:24:14.132766",
     "status": "completed"
    },
    "tags": []
   },
   "outputs": [
    {
     "name": "stdout",
     "output_type": "stream",
     "text": [
      "Vectorizing...\n"
     ]
    },
    {
     "name": "stderr",
     "output_type": "stream",
     "text": [
      "100%|██████████| 1678/1678 [00:13<00:00, 120.80it/s]"
     ]
    },
    {
     "name": "stdout",
     "output_type": "stream",
     "text": [
      "Done successfully.\n"
     ]
    },
    {
     "name": "stderr",
     "output_type": "stream",
     "text": [
      "\n"
     ]
    }
   ],
   "source": [
    "print('Vectorizing...')\n",
    "title_vectors = {}\n",
    "brand_vectors = {}\n",
    "material_vectors = {}\n",
    "dimensions_vectors = {}\n",
    "for user_id in tqdm(cluster_records):\n",
    "    title_vectors[user_id] = title_vectorizer.fit_transform(cluster_records[user_id]['title'])\n",
    "    brand_vectors[user_id] = brand_vectorizer.fit_transform(cluster_records[user_id]['brand'])\n",
    "    material_vectors[user_id] = material_vectorizer.fit_transform(cluster_records[user_id]['material'])\n",
    "    dimensions_vectors[user_id] = dimensions_vectorizer.fit_transform(cluster_records[user_id]['product_dimensions'])\n",
    "print('Done successfully.')"
   ]
  },
  {
   "cell_type": "markdown",
   "id": "c5a8e7fb",
   "metadata": {
    "papermill": {
     "duration": 0.240812,
     "end_time": "2024-09-02T15:24:28.775778",
     "exception": false,
     "start_time": "2024-09-02T15:24:28.534966",
     "status": "completed"
    },
    "tags": []
   },
   "source": [
    "Normalize timestamps for TCC calculation"
   ]
  },
  {
   "cell_type": "code",
   "execution_count": 41,
   "id": "79fe3c49",
   "metadata": {
    "execution": {
     "iopub.execute_input": "2024-09-02T15:24:29.263375Z",
     "iopub.status.busy": "2024-09-02T15:24:29.262957Z",
     "iopub.status.idle": "2024-09-02T15:24:30.540103Z",
     "shell.execute_reply": "2024-09-02T15:24:30.538704Z"
    },
    "papermill": {
     "duration": 1.525457,
     "end_time": "2024-09-02T15:24:30.542772",
     "exception": false,
     "start_time": "2024-09-02T15:24:29.017315",
     "status": "completed"
    },
    "tags": []
   },
   "outputs": [
    {
     "name": "stderr",
     "output_type": "stream",
     "text": [
      "100%|██████████| 1678/1678 [00:01<00:00, 1325.04it/s]\n"
     ]
    }
   ],
   "source": [
    "for user_id in tqdm(cluster_records):\n",
    "    cluster_records[user_id].insert(4, 'timestamp_norm', (\n",
    "        (cluster_records[user_id]['timestamp'] - cluster_records[user_id]['timestamp'].min()) \n",
    "        / (cluster_records[user_id]['timestamp'].max() - cluster_records[user_id]['timestamp'].min())\n",
    "    ))"
   ]
  },
  {
   "cell_type": "code",
   "execution_count": 42,
   "id": "d27ecf82",
   "metadata": {
    "execution": {
     "iopub.execute_input": "2024-09-02T15:24:31.110474Z",
     "iopub.status.busy": "2024-09-02T15:24:31.110057Z",
     "iopub.status.idle": "2024-09-02T15:24:31.126348Z",
     "shell.execute_reply": "2024-09-02T15:24:31.125242Z"
    },
    "papermill": {
     "duration": 0.341321,
     "end_time": "2024-09-02T15:24:31.128934",
     "exception": false,
     "start_time": "2024-09-02T15:24:30.787613",
     "status": "completed"
    },
    "tags": []
   },
   "outputs": [
    {
     "data": {
      "text/html": [
       "<div>\n",
       "<style scoped>\n",
       "    .dataframe tbody tr th:only-of-type {\n",
       "        vertical-align: middle;\n",
       "    }\n",
       "\n",
       "    .dataframe tbody tr th {\n",
       "        vertical-align: top;\n",
       "    }\n",
       "\n",
       "    .dataframe thead th {\n",
       "        text-align: right;\n",
       "    }\n",
       "</style>\n",
       "<table border=\"1\" class=\"dataframe\">\n",
       "  <thead>\n",
       "    <tr style=\"text-align: right;\">\n",
       "      <th></th>\n",
       "      <th>user_id</th>\n",
       "      <th>parent_asin</th>\n",
       "      <th>rating</th>\n",
       "      <th>timestamp</th>\n",
       "      <th>timestamp_norm</th>\n",
       "      <th>date_time</th>\n",
       "      <th>title</th>\n",
       "      <th>brand</th>\n",
       "      <th>material</th>\n",
       "      <th>product_dimensions</th>\n",
       "    </tr>\n",
       "  </thead>\n",
       "  <tbody>\n",
       "    <tr>\n",
       "      <th>0</th>\n",
       "      <td>AETYVZ7NB5NVM2BCVVLJYUZMS7JQ</td>\n",
       "      <td>B01N8TVUFX</td>\n",
       "      <td>4.0</td>\n",
       "      <td>1526229325123</td>\n",
       "      <td>NaN</td>\n",
       "      <td>2018-05-13 16:35:25.123</td>\n",
       "      <td>Eco-Fused Book Cover Case Compatible with Appl...</td>\n",
       "      <td>Eco-Fused</td>\n",
       "      <td>Faux Leather</td>\n",
       "      <td>6.3 x 3.54 x 0.39 inches</td>\n",
       "    </tr>\n",
       "  </tbody>\n",
       "</table>\n",
       "</div>"
      ],
      "text/plain": [
       "                        user_id parent_asin  rating      timestamp  \\\n",
       "0  AETYVZ7NB5NVM2BCVVLJYUZMS7JQ  B01N8TVUFX     4.0  1526229325123   \n",
       "\n",
       "   timestamp_norm               date_time  \\\n",
       "0             NaN 2018-05-13 16:35:25.123   \n",
       "\n",
       "                                               title      brand      material  \\\n",
       "0  Eco-Fused Book Cover Case Compatible with Appl...  Eco-Fused  Faux Leather   \n",
       "\n",
       "         product_dimensions  \n",
       "0  6.3 x 3.54 x 0.39 inches  "
      ]
     },
     "execution_count": 42,
     "metadata": {},
     "output_type": "execute_result"
    }
   ],
   "source": [
    "cluster_records[list(cluster_records.keys())[random.randint(0, len(cluster_records))]]"
   ]
  },
  {
   "cell_type": "markdown",
   "id": "2197ceea",
   "metadata": {
    "papermill": {
     "duration": 0.24098,
     "end_time": "2024-09-02T15:24:31.616985",
     "exception": false,
     "start_time": "2024-09-02T15:24:31.376005",
     "status": "completed"
    },
    "tags": []
   },
   "source": [
    "Calculate new ratings using TCC"
   ]
  },
  {
   "cell_type": "code",
   "execution_count": 43,
   "id": "7cf03efd",
   "metadata": {
    "execution": {
     "iopub.execute_input": "2024-09-02T15:24:32.111610Z",
     "iopub.status.busy": "2024-09-02T15:24:32.111185Z",
     "iopub.status.idle": "2024-09-02T15:24:32.515979Z",
     "shell.execute_reply": "2024-09-02T15:24:32.514680Z"
    },
    "papermill": {
     "duration": 0.655511,
     "end_time": "2024-09-02T15:24:32.518569",
     "exception": false,
     "start_time": "2024-09-02T15:24:31.863058",
     "status": "completed"
    },
    "tags": []
   },
   "outputs": [],
   "source": [
    "from scipy.optimize import curve_fit\n",
    "from surprise import Dataset, Reader, SVD, accuracy\n",
    "from surprise.model_selection import train_test_split\n",
    "from sklearn.metrics.pairwise import cosine_similarity\n",
    "from collections import defaultdict\n",
    "import copy\n",
    "import math"
   ]
  },
  {
   "cell_type": "code",
   "execution_count": 44,
   "id": "a55e0d35",
   "metadata": {
    "execution": {
     "iopub.execute_input": "2024-09-02T15:24:33.011948Z",
     "iopub.status.busy": "2024-09-02T15:24:33.011242Z",
     "iopub.status.idle": "2024-09-02T15:24:33.023111Z",
     "shell.execute_reply": "2024-09-02T15:24:33.021712Z"
    },
    "papermill": {
     "duration": 0.261119,
     "end_time": "2024-09-02T15:24:33.025718",
     "exception": false,
     "start_time": "2024-09-02T15:24:32.764599",
     "status": "completed"
    },
    "tags": []
   },
   "outputs": [],
   "source": [
    "def precision_recall_fmeasure(predictions, threshold=3.5):\n",
    "    # First map the predictions to each user.\n",
    "    user_est_true = defaultdict(list)\n",
    "    for uid, _, true_r, est, _ in predictions:\n",
    "        user_est_true[uid].append((est, true_r))\n",
    "\n",
    "    precisions = dict()\n",
    "    recalls = dict()\n",
    "    fmeasures = dict()\n",
    "    for uid, user_ratings in user_est_true.items():\n",
    "        # Count number of relevant and recommended items\n",
    "        n_rel_and_rec_k = sum((true_r >= threshold) and (est >= threshold) for (est, true_r) in user_ratings)\n",
    "        n_rec_k = sum((est >= threshold) for (est, true_r) in user_ratings)\n",
    "        n_rel = sum((true_r >= threshold) for (est, true_r) in user_ratings)\n",
    "\n",
    "        # Precision and recall calculation\n",
    "        precisions[uid] = n_rel_and_rec_k / n_rec_k if n_rec_k != 0 else 1\n",
    "        recalls[uid] = n_rel_and_rec_k / n_rel if n_rel != 0 else 1\n",
    "\n",
    "        # F-measure calculation\n",
    "        if precisions[uid] + recalls[uid] != 0:\n",
    "            fmeasures[uid] = 2 * (precisions[uid] * recalls[uid]) / (precisions[uid] + recalls[uid])\n",
    "        else:\n",
    "            fmeasures[uid] = 0\n",
    "            \n",
    "     # Calculate the average precision, recall and F-measure across all users\n",
    "    avg_precision = sum(prec for prec in precisions.values()) / len(precisions)\n",
    "    avg_recall = sum(rec for rec in recalls.values()) / len(recalls)\n",
    "    avg_fmeasure = sum(fm for fm in fmeasures.values()) / len(fmeasures)\n",
    "\n",
    "    return avg_precision, avg_recall, avg_fmeasure"
   ]
  },
  {
   "cell_type": "code",
   "execution_count": 45,
   "id": "b981a031",
   "metadata": {
    "execution": {
     "iopub.execute_input": "2024-09-02T15:24:33.524829Z",
     "iopub.status.busy": "2024-09-02T15:24:33.523535Z",
     "iopub.status.idle": "2024-09-02T15:24:33.531975Z",
     "shell.execute_reply": "2024-09-02T15:24:33.530391Z"
    },
    "papermill": {
     "duration": 0.260611,
     "end_time": "2024-09-02T15:24:33.534722",
     "exception": false,
     "start_time": "2024-09-02T15:24:33.274111",
     "status": "completed"
    },
    "tags": []
   },
   "outputs": [],
   "source": [
    "def calculate_tcc(records, i, sigma):\n",
    "    # Reverse the timestamp_norm\n",
    "    reversed_timestamp = max(records['timestamp_norm']) - records.iloc[i]['timestamp_norm']\n",
    "    \n",
    "    # Compute the Gaussian component\n",
    "    gaussian_component = (1 / (math.sqrt(2 * math.pi) * sigma)) * \\\n",
    "                         math.exp(-((reversed_timestamp - records.iloc[0]['timestamp_norm']) ** 2 / (2 * sigma ** 2)))\n",
    "    \n",
    "    # Ensure the Gaussian component is less than or equal to 1\n",
    "    gaussian_component = min(gaussian_component, 1)\n",
    "    \n",
    "    tcc = 1 - gaussian_component\n",
    "    return tcc"
   ]
  },
  {
   "cell_type": "code",
   "execution_count": 46,
   "id": "da443f36",
   "metadata": {
    "execution": {
     "iopub.execute_input": "2024-09-02T15:24:34.102166Z",
     "iopub.status.busy": "2024-09-02T15:24:34.101783Z",
     "iopub.status.idle": "2024-09-02T15:24:34.129524Z",
     "shell.execute_reply": "2024-09-02T15:24:34.128425Z"
    },
    "papermill": {
     "duration": 0.278362,
     "end_time": "2024-09-02T15:24:34.132097",
     "exception": false,
     "start_time": "2024-09-02T15:24:33.853735",
     "status": "completed"
    },
    "tags": []
   },
   "outputs": [],
   "source": [
    "def initialize_population(pop_size, sigma_range):\n",
    "    return np.random.uniform(sigma_range[0], sigma_range[1], pop_size)\n",
    "\n",
    "def levy_flight(Lambda):\n",
    "    sigma = sigma = (np.math.gamma(1 + Lambda) * np.sin(np.pi * Lambda / 2)) / (np.math.gamma((1 + Lambda) / 2) * Lambda * 2 * ((Lambda - 1) / 2)) ** (1 / Lambda)\n",
    "    u = np.random.normal(0, sigma, size=1)\n",
    "    v = np.random.normal(0, 1, size=1)\n",
    "    step = u / abs(v) ** (1 / Lambda)\n",
    "    return step\n",
    "\n",
    "def fitness_function(sigma):\n",
    "    for user_id in cluster_records:\n",
    "        # Initialize lists to store TCCs\n",
    "        cluster_tccs_3[user_id] = []\n",
    "    \n",
    "        # Calculate TCC for all other records\n",
    "        for i in range(1, len(cluster_records[user_id])):        \n",
    "            # Calculate the TCC\n",
    "            tcc = calculate_tcc(cluster_records[user_id], i, sigma)\n",
    "        \n",
    "            cluster_tccs_3[user_id].extend(np.array(tcc).flatten())\n",
    "    \n",
    "        # Create a new column 'new_rating' and store the product of 'tcc' and the 'rating' in it\n",
    "        cluster_records[user_id]['new_rating_3'] = cluster_records[user_id]['rating'].iloc[1:] * np.array(cluster_tccs_3[user_id]).flatten()\n",
    "    \n",
    "        # Compute the min and max of the original column\n",
    "        min_val = cluster_records[user_id]['new_rating_3'].min()\n",
    "        max_val = cluster_records[user_id]['new_rating_3'].max()\n",
    "    \n",
    "        # Perform min-max normalization to scale the values between 1 and 5\n",
    "        if max_val == min_val:\n",
    "            if max_val > 5:\n",
    "                cluster_records[user_id]['new_rating_3'] = 5\n",
    "            elif max_val < 1:\n",
    "                cluster_records[user_id]['new_rating_3'] = 1\n",
    "            else:\n",
    "                cluster_records[user_id]['new_rating_3'] = max_val\n",
    "        else:\n",
    "            cluster_records[user_id]['new_rating_3'] = 1 + (cluster_records[user_id]['new_rating_3'] - min_val) * (5 - 1) / (max_val - min_val)\n",
    "        \n",
    "    records = copy.deepcopy(cluster_records)\n",
    "\n",
    "    for user_id, df in records.items():\n",
    "        df['tcc_3'] = np.nan\n",
    "        \n",
    "        # Assign values to the new columns starting from the second row\n",
    "        df.loc[1:, 'tcc_3'] = cluster_tccs_3[user_id]\n",
    "        \n",
    "        # Set the first row's values\n",
    "        df.loc[0, 'new_rating_3'] = df.loc[0, 'rating']\n",
    "        df.loc[0, 'tcc_3'] = 1\n",
    "    \n",
    "        # Update the dataframe in the dictionary\n",
    "        records[user_id] = df\n",
    "    \n",
    "    # Concatenate all dataframes into one\n",
    "    df = pd.concat(records.values(), ignore_index=True)\n",
    "        \n",
    "    reader = Reader(rating_scale=(1, 5))\n",
    "    data_3 = Dataset.load_from_df(df[['user_id', 'parent_asin', 'new_rating_3']], reader)\n",
    "    train_data_3, test_data_3 = train_test_split(data_3, test_size=0.3)\n",
    "    \n",
    "    # Train your model with the suggested sigma value\n",
    "    algo_3 = SVD()\n",
    "    algo_3.fit(train_data_3)\n",
    "    predictions_3 = algo_3.test(test_data_3)\n",
    "\n",
    "    # Calculate combined metric (e.g., weighted average)\n",
    "    mae = accuracy.mae(predictions_3, verbose=False)\n",
    "    p, r, f = precision_recall_fmeasure(predictions_3)\n",
    "    combined_metric = (p + r + f) / 3 - mae \n",
    "    \n",
    "    print(f'Value: {combined_metric}')\n",
    "    \n",
    "    return combined_metric\n",
    "\n",
    "def cuckoo_search_optimization(initial_sigma, sigma_range, max_iterations=2, pop_size=20, pa=0.25):\n",
    "    # Initialize population\n",
    "    population = initialize_population(pop_size, sigma_range)\n",
    "    best_sigma = population[0]\n",
    "    print(f'(Init) sigma: {best_sigma:.10f}', end=', ')\n",
    "    best_fitness = fitness_function(best_sigma)\n",
    "\n",
    "    for iteration in range(max_iterations):\n",
    "        for i in range(pop_size):\n",
    "            # Update position by Lévy flights\n",
    "            step_size = levy_flight(1.5)\n",
    "            new_sigma = population[i] + step_size * (population[i] - best_sigma)\n",
    "            new_sigma = np.clip(new_sigma, sigma_range[0], sigma_range[1])\n",
    "            print(f'(i:{iteration}, pop: {i:02d}) sigma: {new_sigma[0]:.10f}', end=', ')\n",
    "            new_fitness = fitness_function(new_sigma)\n",
    "\n",
    "            if new_fitness > best_fitness:\n",
    "                best_sigma = new_sigma\n",
    "                best_fitness = new_fitness\n",
    "\n",
    "            # Abandon some solutions with probability pa\n",
    "            if np.random.rand() < pa:\n",
    "                population[i] = np.random.uniform(sigma_range[0], sigma_range[1])\n",
    "\n",
    "    return best_sigma\n",
    "\n",
    "def calculate_sigma_2(user_data):\n",
    "    # Calculate the time difference between each rating and the next one\n",
    "    time_diffs = user_data['timestamp_norm'].diff().fillna(0)\n",
    "    # Calculate the decay factor\n",
    "    decay_factor = 0.5\n",
    "    # Calculate sigma as the exponential decay of the time differences\n",
    "    sigma = np.exp(-decay_factor * time_diffs)\n",
    "    sigma = np.mean(sigma)\n",
    "    \n",
    "    if sigma != 0:\n",
    "        return sigma\n",
    "    else:\n",
    "        return 1.0\n",
    "\n",
    "def calculate_sigma_3():\n",
    "    print('Finding the optimized sigma (Method 3)...')\n",
    "    initial_sigma = 1.0  # Initial guess for sigma\n",
    "    sigma_range = (0.1, 10.0)  # Range of sigma values to explore\n",
    "    optimal_sigma = cuckoo_search_optimization(initial_sigma, sigma_range)\n",
    "    print(f'Optimal sigma: {optimal_sigma}')\n",
    "    return optimal_sigma\n",
    "\n",
    "def exponential_decay(x, a, b):\n",
    "    return a * np.exp(-b * x)\n",
    "\n",
    "def gaussian_decay(x, a, b):\n",
    "    return a * np.exp(-0.5 * (x / b)**2)\n",
    "\n",
    "def calculate_sigma_4(user_data):\n",
    "    date_time = pd.to_datetime(user_data['date_time'])\n",
    "    x_data = date_time.diff().dt.days.fillna(0)\n",
    "    y_data = user_data['rating'].diff().fillna(0)\n",
    "    x_data = x_data[x_data > 0]\n",
    "    y_data = y_data[x_data.index]\n",
    "\n",
    "    # Reset indices\n",
    "    x_data = x_data.reset_index(drop=True)\n",
    "    y_data = y_data.reset_index(drop=True)\n",
    "    \n",
    "    if len(x_data) < 2:\n",
    "        return None, None # Not enough data to fit\n",
    "\n",
    "    try:\n",
    "        params_exp, _ = curve_fit(exponential_decay, x_data, y_data, p0=(1, 0.1))\n",
    "        b_exp = params_exp[1]\n",
    "    except:\n",
    "        b_exp = None\n",
    "        \n",
    "    try:\n",
    "        params_gauss, _ = curve_fit(gaussian_decay, x_data, y_data, p0=(1, 1))\n",
    "        b_gauss = params_gauss[1]\n",
    "    except:\n",
    "        b_gauss = None\n",
    "\n",
    "    return b_exp, b_gauss"
   ]
  },
  {
   "cell_type": "code",
   "execution_count": 47,
   "id": "685fc8b9",
   "metadata": {
    "execution": {
     "iopub.execute_input": "2024-09-02T15:24:34.667903Z",
     "iopub.status.busy": "2024-09-02T15:24:34.667349Z",
     "iopub.status.idle": "2024-09-02T15:28:44.322950Z",
     "shell.execute_reply": "2024-09-02T15:28:44.321698Z"
    },
    "papermill": {
     "duration": 249.92649,
     "end_time": "2024-09-02T15:28:44.325634",
     "exception": false,
     "start_time": "2024-09-02T15:24:34.399144",
     "status": "completed"
    },
    "tags": []
   },
   "outputs": [
    {
     "name": "stdout",
     "output_type": "stream",
     "text": [
      "Finding the optimized sigma (Method 3)...\n",
      "(Init) sigma: 4.5996449672, Value: -0.30120253351695503\n",
      "(i:0, pop: 00) sigma: 4.5996449672, Value: -0.26873967234504714\n",
      "(i:0, pop: 01) sigma: 3.8440829416, Value: -0.3124228458163162\n",
      "(i:0, pop: 02) sigma: 1.6829428160, Value: -0.2821855327137198\n",
      "(i:0, pop: 03) sigma: 6.0073517613, Value: -0.3034469183137237\n",
      "(i:0, pop: 04) sigma: 10.0000000000, Value: -0.3301321570147949\n",
      "(i:0, pop: 05) sigma: 4.6005829743, Value: -0.2972691049741074\n",
      "(i:0, pop: 06) sigma: 7.6323606622, Value: -0.3198414155673096\n",
      "(i:0, pop: 07) sigma: 4.5901619874, Value: -0.2983477837908286\n",
      "(i:0, pop: 08) sigma: 10.0000000000, Value: -0.31173465007166146\n",
      "(i:0, pop: 09) sigma: 9.8511251854, Value: -0.29643689343886725\n",
      "(i:0, pop: 10) sigma: 1.8140938290, Value: -0.34991665195506216\n",
      "(i:0, pop: 11) sigma: 3.3923533017, Value: -0.3315115980799139\n",
      "(i:0, pop: 12) sigma: 4.2204119305, Value: -0.33889506137219727\n",
      "(i:0, pop: 13) sigma: 0.1000000000, Value: -0.8500334872096552\n",
      "(i:0, pop: 14) sigma: 9.9839296274, Value: -0.33390515745346383\n",
      "(i:0, pop: 15) sigma: 10.0000000000, Value: -0.32348727487373763\n",
      "(i:0, pop: 16) sigma: 0.1000000000, Value: -0.8616059370574943\n",
      "(i:0, pop: 17) sigma: 2.8356546034, Value: -0.31001474255047523\n",
      "(i:0, pop: 18) sigma: 5.7634504755, Value: -0.29818349043121806\n",
      "(i:0, pop: 19) sigma: 2.0027514990, Value: -0.3124843384150394\n",
      "(i:1, pop: 00) sigma: 10.0000000000, Value: -0.28265550877494927\n",
      "(i:1, pop: 01) sigma: 2.0483438760, Value: -0.3274583647487558\n",
      "(i:1, pop: 02) sigma: 0.1000000000, Value: -0.8277533000902033\n",
      "(i:1, pop: 03) sigma: 5.2683204686, Value: -0.2907872966582362\n",
      "(i:1, pop: 04) sigma: 10.0000000000, Value: -0.3090935869478445\n",
      "(i:1, pop: 05) sigma: 10.0000000000, Value: -0.28686297241357195\n",
      "(i:1, pop: 06) sigma: 7.1691820113, Value: -0.30907427985259484\n",
      "(i:1, pop: 07) sigma: 4.5944855432, Value: -0.32283183976423524\n",
      "(i:1, pop: 08) sigma: 2.0479701479, Value: -0.3125645483238133\n",
      "(i:1, pop: 09) sigma: 3.3578465411, Value: -0.2995568712526212\n",
      "(i:1, pop: 10) sigma: 2.0209115789, Value: -0.32897020204074356\n",
      "(i:1, pop: 11) sigma: 4.2233319108, Value: -0.33917400018332533\n",
      "(i:1, pop: 12) sigma: 6.0559283650, Value: -0.28917042386741076\n",
      "(i:1, pop: 13) sigma: 8.4012668086, Value: -0.30937082883732603\n",
      "(i:1, pop: 14) sigma: 3.8776215085, Value: -0.28798391242170485\n",
      "(i:1, pop: 15) sigma: 9.9886109416, Value: -0.29697305577387556\n",
      "(i:1, pop: 16) sigma: 10.0000000000, Value: -0.34491840338823565\n",
      "(i:1, pop: 17) sigma: 0.1000000000, Value: -0.8396671256093767\n",
      "(i:1, pop: 18) sigma: 4.5984333443, Value: -0.30065033513470996\n",
      "(i:1, pop: 19) sigma: 10.0000000000, Value: -0.34586632460951494\n",
      "Optimal sigma: [4.59964497]\n"
     ]
    },
    {
     "name": "stderr",
     "output_type": "stream",
     "text": [
      "100%|██████████| 1678/1678 [00:24<00:00, 67.56it/s]\n"
     ]
    }
   ],
   "source": [
    "cluster_tccs_0 = {}\n",
    "cluster_tccs_1 = {}\n",
    "cluster_tccs_2 = {}\n",
    "cluster_tccs_3 = {}\n",
    "cluster_tccs_4 = {}\n",
    "\n",
    "sigma_3 = calculate_sigma_3()\n",
    "if np.isnan(sigma_3):\n",
    "    sigma_3 = 1.0\n",
    "\n",
    "# Method 0 (Paper): O(n * m)\n",
    "# Method 1 (Content-Based Similarity): O (n * m * d)\n",
    "# Method 2 (Time-Based Decay): O (n * m)\n",
    "# Method 3 (Optimized Sigma - Cuckoo Search): O (i * p * n * m)\n",
    "# Method 4 (Decay Model Selection): O (f * n * m)\n",
    "# Where:\n",
    "# n is the number of users\n",
    "# m is the number of records for a user\n",
    "# d is the dimension of the vectors\n",
    "# i is the number of iterations in the Cuckoo Search optimization\n",
    "# p is the population size in the Cuckoo Search optimization\n",
    "# f is the complexity of fitting the decay models (generally small but variable)\n",
    "\n",
    "for user_id in tqdm(cluster_records):\n",
    "    ##-- method 0 (Paper) --##\n",
    "    sigma = 1.0\n",
    "    \n",
    "    # Initialize lists to store TCCs\n",
    "    cluster_tccs_0[user_id] = []\n",
    "    \n",
    "    # Calculate TCC for all other records\n",
    "    for i in range(1, len(cluster_records[user_id])):        \n",
    "        # Calculate the TCC\n",
    "        tcc = calculate_tcc(cluster_records[user_id], i, sigma)\n",
    "        \n",
    "        # Append the TCC to its list\n",
    "        cluster_tccs_0[user_id].append(tcc)\n",
    "    \n",
    "    # Create a new column 'new_rating' and store the product of 'tcc' and the 'rating' in it\n",
    "    cluster_records[user_id]['new_rating_0'] = cluster_records[user_id]['rating'].iloc[1:] * np.array(cluster_tccs_0[user_id]).flatten()\n",
    "    \n",
    "    # Compute the min and max of the original column\n",
    "    min_val = cluster_records[user_id]['new_rating_0'].min()\n",
    "    max_val = cluster_records[user_id]['new_rating_0'].max()\n",
    "    \n",
    "    # Perform min-max normalization to scale the values between 1 and 5\n",
    "    if max_val == min_val:\n",
    "        if max_val > 5:\n",
    "            cluster_records[user_id]['new_rating_0'] = 5\n",
    "        elif max_val < 1:\n",
    "            cluster_records[user_id]['new_rating_0'] = 1\n",
    "        else:\n",
    "            cluster_records[user_id]['new_rating_0'] = max_val\n",
    "    else:\n",
    "        cluster_records[user_id]['new_rating_0'] = 1 + (cluster_records[user_id]['new_rating_0'] - min_val) * (5 - 1) / (max_val - min_val)\n",
    "    \n",
    "    ##-- method 1 (Content-Based Similarity) --##\n",
    "    sigma = 1.0\n",
    "    \n",
    "    # Get the vector for the most recent record\n",
    "    latest_title_vector = title_vectors[user_id][0].toarray()\n",
    "    latest_brand_vector = brand_vectors[user_id][0].toarray()\n",
    "    latest_material_vector = material_vectors[user_id][0].toarray()\n",
    "    latest_dimensions_vector = dimensions_vectors[user_id][0].toarray()\n",
    "    \n",
    "    # Initialize lists to store similarity scores and TCCs\n",
    "    similarity_scores = []\n",
    "    cluster_tccs_1[user_id] = []\n",
    "    \n",
    "    # Calculate TCC for all other records\n",
    "    for i in range(1, len(cluster_records[user_id])):\n",
    "        title_cs = cosine_similarity(latest_title_vector, title_vectors[user_id][i].toarray())\n",
    "        brand_cs = cosine_similarity(latest_brand_vector, brand_vectors[user_id][i].toarray())\n",
    "        material_cs = cosine_similarity(latest_material_vector, material_vectors[user_id][i].toarray())\n",
    "        dimensions_cs = cosine_similarity(latest_dimensions_vector, dimensions_vectors[user_id][i].toarray())\n",
    "\n",
    "        # Calculate the similarity score\n",
    "        details_score = np.mean([brand_cs, material_cs, dimensions_cs])\n",
    "        similarity_score = np.mean([title_cs, [[details_score]]])\n",
    "        similarity_scores.append(similarity_score)\n",
    "        \n",
    "        # Calculate the TCC\n",
    "        if similarity_score > 0.3:\n",
    "            tcc = 1.0\n",
    "        else:\n",
    "            tcc = calculate_tcc(cluster_records[user_id], i, sigma)\n",
    "            \n",
    "        # Append the TCC to its list\n",
    "        cluster_tccs_1[user_id].append(tcc)\n",
    "        \n",
    "    # Create a new column for 'similarity_score' \n",
    "    cluster_records[user_id]['similarity_score'] = [1] + similarity_scores\n",
    "    \n",
    "    # Create a new column 'new_rating' and store the product of 'tcc' and the 'rating' in it\n",
    "    cluster_records[user_id]['new_rating_1'] = cluster_records[user_id]['rating'].iloc[1:] * np.array(cluster_tccs_1[user_id]).flatten()\n",
    "    \n",
    "    # Compute the min and max of the original column\n",
    "    min_val = cluster_records[user_id]['new_rating_1'].min()\n",
    "    max_val = cluster_records[user_id]['new_rating_1'].max()\n",
    "    \n",
    "    # Perform min-max normalization to scale the values between 1 and 5\n",
    "    if max_val == min_val:\n",
    "        if max_val > 5:\n",
    "            cluster_records[user_id]['new_rating_1'] = 5\n",
    "        elif max_val < 1:\n",
    "            cluster_records[user_id]['new_rating_1'] = 1\n",
    "        else:\n",
    "            cluster_records[user_id]['new_rating_1'] = max_val\n",
    "    else:\n",
    "        cluster_records[user_id]['new_rating_1'] = 1 + (cluster_records[user_id]['new_rating_1'] - min_val) * (5 - 1) / (max_val - min_val)\n",
    "        \n",
    "    ##-- method 2 (Time-Based Decay) --##\n",
    "    sigma = calculate_sigma_2(cluster_records[user_id])\n",
    "    \n",
    "    # Initialize lists to store TCCs\n",
    "    cluster_tccs_2[user_id] = []\n",
    "    \n",
    "    # Calculate TCC for all other records\n",
    "    for i in range(1, len(cluster_records[user_id])):        \n",
    "        # Calculate the TCC\n",
    "        tcc = calculate_tcc(cluster_records[user_id], i, sigma)\n",
    "        \n",
    "        # Append the TCC to its list\n",
    "        cluster_tccs_2[user_id].append(tcc)\n",
    "    \n",
    "    # Create a new column 'new_rating' and store the product of 'tcc' and the 'rating' in it\n",
    "    cluster_records[user_id]['new_rating_2'] = cluster_records[user_id]['rating'].iloc[1:] * np.array(cluster_tccs_2[user_id]).flatten()\n",
    "    \n",
    "    # Compute the min and max of the original column\n",
    "    min_val = cluster_records[user_id]['new_rating_2'].min()\n",
    "    max_val = cluster_records[user_id]['new_rating_2'].max()\n",
    "    \n",
    "    # Perform min-max normalization to scale the values between 1 and 5\n",
    "    if max_val == min_val:\n",
    "        if max_val > 5:\n",
    "            cluster_records[user_id]['new_rating_2'] = 5\n",
    "        elif max_val < 1:\n",
    "            cluster_records[user_id]['new_rating_2'] = 1\n",
    "        else:\n",
    "            cluster_records[user_id]['new_rating_2'] = max_val\n",
    "    else:\n",
    "        cluster_records[user_id]['new_rating_2'] = 1 + (cluster_records[user_id]['new_rating_2'] - min_val) * (5 - 1) / (max_val - min_val)\n",
    "    \n",
    "    ##-- method 3 (Optimized Sigma - Cuckoo Search) --##\n",
    "    sigma = sigma_3\n",
    "    \n",
    "    # Initialize lists to store TCCs\n",
    "    cluster_tccs_3[user_id] = []\n",
    "    \n",
    "    # Calculate TCC for all other records\n",
    "    for i in range(1, len(cluster_records[user_id])):        \n",
    "        # Calculate the TCC\n",
    "        tcc = calculate_tcc(cluster_records[user_id], i, sigma)\n",
    "        \n",
    "        # Append the TCC to its list\n",
    "        cluster_tccs_3[user_id].extend(np.array(tcc).flatten())\n",
    "    \n",
    "    # Create a new column 'new_rating' and store the product of 'tcc' and the 'rating' in it\n",
    "    cluster_records[user_id]['new_rating_3'] = cluster_records[user_id]['rating'].iloc[1:] * np.array(cluster_tccs_3[user_id]).flatten()\n",
    "    \n",
    "    # Compute the min and max of the original column\n",
    "    min_val = cluster_records[user_id]['new_rating_3'].min()\n",
    "    max_val = cluster_records[user_id]['new_rating_3'].max()\n",
    "    \n",
    "    # Perform min-max normalization to scale the values between 1 and 5\n",
    "    if max_val == min_val:\n",
    "        if max_val > 5:\n",
    "            cluster_records[user_id]['new_rating_3'] = 5\n",
    "        elif max_val < 1:\n",
    "            cluster_records[user_id]['new_rating_3'] = 1\n",
    "        else:\n",
    "            cluster_records[user_id]['new_rating_3'] = max_val\n",
    "    else:\n",
    "        cluster_records[user_id]['new_rating_3'] = 1 + (cluster_records[user_id]['new_rating_3'] - min_val) * (5 - 1) / (max_val - min_val)\n",
    "        \n",
    "    ##-- method 4 (Decay Model Selection) --##\n",
    "    b_exp, b_gauss = calculate_sigma_4(cluster_records[user_id])\n",
    "    if b_exp is not None and b_gauss is not None:\n",
    "        # Choose the best fit model\n",
    "        if b_exp < b_gauss:\n",
    "            sigma = b_exp\n",
    "        else:\n",
    "            sigma = b_gauss\n",
    "    else:\n",
    "        sigma = 1.0\n",
    "        \n",
    "    # Initialize lists to store TCCs\n",
    "    cluster_tccs_4[user_id] = []\n",
    "    \n",
    "    # Calculate TCC for all other records\n",
    "    for i in range(1, len(cluster_records[user_id])):        \n",
    "        # Calculate the TCC\n",
    "        tcc = calculate_tcc(cluster_records[user_id], i, sigma)\n",
    "        \n",
    "        # Append the TCC to its list\n",
    "        cluster_tccs_4[user_id].append(tcc)\n",
    "    \n",
    "    # Create a new column 'new_rating' and store the product of 'tcc' and the 'rating' in it\n",
    "    cluster_records[user_id]['new_rating_4'] = cluster_records[user_id]['rating'].iloc[1:] * np.array(cluster_tccs_4[user_id]).flatten()\n",
    "    \n",
    "    # Compute the min and max of the original column\n",
    "    min_val = cluster_records[user_id]['new_rating_4'].min()\n",
    "    max_val = cluster_records[user_id]['new_rating_4'].max()\n",
    "    \n",
    "    # Perform min-max normalization to scale the values between 1 and 5\n",
    "    if max_val == min_val:\n",
    "        if max_val > 5:\n",
    "            cluster_records[user_id]['new_rating_4'] = 5\n",
    "        elif max_val < 1:\n",
    "            cluster_records[user_id]['new_rating_4'] = 1\n",
    "        else:\n",
    "            cluster_records[user_id]['new_rating_4'] = max_val\n",
    "    else:\n",
    "        cluster_records[user_id]['new_rating_4'] = 1 + (cluster_records[user_id]['new_rating_4'] - min_val) * (5 - 1) / (max_val - min_val)"
   ]
  },
  {
   "cell_type": "code",
   "execution_count": 48,
   "id": "500ea310",
   "metadata": {
    "execution": {
     "iopub.execute_input": "2024-09-02T15:28:44.859516Z",
     "iopub.status.busy": "2024-09-02T15:28:44.859118Z",
     "iopub.status.idle": "2024-09-02T15:28:44.881576Z",
     "shell.execute_reply": "2024-09-02T15:28:44.880202Z"
    },
    "papermill": {
     "duration": 0.292954,
     "end_time": "2024-09-02T15:28:44.884261",
     "exception": false,
     "start_time": "2024-09-02T15:28:44.591307",
     "status": "completed"
    },
    "tags": []
   },
   "outputs": [
    {
     "data": {
      "text/html": [
       "<div>\n",
       "<style scoped>\n",
       "    .dataframe tbody tr th:only-of-type {\n",
       "        vertical-align: middle;\n",
       "    }\n",
       "\n",
       "    .dataframe tbody tr th {\n",
       "        vertical-align: top;\n",
       "    }\n",
       "\n",
       "    .dataframe thead th {\n",
       "        text-align: right;\n",
       "    }\n",
       "</style>\n",
       "<table border=\"1\" class=\"dataframe\">\n",
       "  <thead>\n",
       "    <tr style=\"text-align: right;\">\n",
       "      <th></th>\n",
       "      <th>user_id</th>\n",
       "      <th>parent_asin</th>\n",
       "      <th>rating</th>\n",
       "      <th>timestamp</th>\n",
       "      <th>timestamp_norm</th>\n",
       "      <th>date_time</th>\n",
       "      <th>title</th>\n",
       "      <th>brand</th>\n",
       "      <th>material</th>\n",
       "      <th>product_dimensions</th>\n",
       "      <th>new_rating_3</th>\n",
       "      <th>new_rating_0</th>\n",
       "      <th>similarity_score</th>\n",
       "      <th>new_rating_1</th>\n",
       "      <th>new_rating_2</th>\n",
       "      <th>new_rating_4</th>\n",
       "    </tr>\n",
       "  </thead>\n",
       "  <tbody>\n",
       "    <tr>\n",
       "      <th>0</th>\n",
       "      <td>AHE53RZYVK7PXJ2XM6NYYDRNN62Q</td>\n",
       "      <td>B07BKTFKGM</td>\n",
       "      <td>5.0</td>\n",
       "      <td>1586884250314</td>\n",
       "      <td>1.0</td>\n",
       "      <td>2020-04-14 17:10:50.314</td>\n",
       "      <td>Moto E5 Play Case, Moto E5 Go/Moto E5 Cruise w...</td>\n",
       "      <td>NageBee</td>\n",
       "      <td>Plastic</td>\n",
       "      <td>5.5 x 0.2 x 2.7 inches</td>\n",
       "      <td>2.7398</td>\n",
       "      <td>1.803173</td>\n",
       "      <td>1.000000</td>\n",
       "      <td>3.0</td>\n",
       "      <td>2.096298</td>\n",
       "      <td>1.803173</td>\n",
       "    </tr>\n",
       "    <tr>\n",
       "      <th>1</th>\n",
       "      <td>AHE53RZYVK7PXJ2XM6NYYDRNN62Q</td>\n",
       "      <td>B0814NF9YV</td>\n",
       "      <td>3.0</td>\n",
       "      <td>1586874657892</td>\n",
       "      <td>0.0</td>\n",
       "      <td>2020-04-14 14:30:57.892</td>\n",
       "      <td>Moto E5 Play Case, Moto E5 Cruise Case with HD...</td>\n",
       "      <td>KaiMai</td>\n",
       "      <td>Metal, Polycarbonate, Thermoplastic Polyurethane</td>\n",
       "      <td>7.09 x 3.94 x 0.59 inches</td>\n",
       "      <td>2.7398</td>\n",
       "      <td>1.803173</td>\n",
       "      <td>0.506617</td>\n",
       "      <td>3.0</td>\n",
       "      <td>2.096298</td>\n",
       "      <td>1.803173</td>\n",
       "    </tr>\n",
       "  </tbody>\n",
       "</table>\n",
       "</div>"
      ],
      "text/plain": [
       "                        user_id parent_asin  rating      timestamp  \\\n",
       "0  AHE53RZYVK7PXJ2XM6NYYDRNN62Q  B07BKTFKGM     5.0  1586884250314   \n",
       "1  AHE53RZYVK7PXJ2XM6NYYDRNN62Q  B0814NF9YV     3.0  1586874657892   \n",
       "\n",
       "   timestamp_norm               date_time  \\\n",
       "0             1.0 2020-04-14 17:10:50.314   \n",
       "1             0.0 2020-04-14 14:30:57.892   \n",
       "\n",
       "                                               title    brand  \\\n",
       "0  Moto E5 Play Case, Moto E5 Go/Moto E5 Cruise w...  NageBee   \n",
       "1  Moto E5 Play Case, Moto E5 Cruise Case with HD...   KaiMai   \n",
       "\n",
       "                                           material  \\\n",
       "0                                           Plastic   \n",
       "1  Metal, Polycarbonate, Thermoplastic Polyurethane   \n",
       "\n",
       "          product_dimensions  new_rating_3  new_rating_0  similarity_score  \\\n",
       "0     5.5 x 0.2 x 2.7 inches        2.7398      1.803173          1.000000   \n",
       "1  7.09 x 3.94 x 0.59 inches        2.7398      1.803173          0.506617   \n",
       "\n",
       "   new_rating_1  new_rating_2  new_rating_4  \n",
       "0           3.0      2.096298      1.803173  \n",
       "1           3.0      2.096298      1.803173  "
      ]
     },
     "execution_count": 48,
     "metadata": {},
     "output_type": "execute_result"
    }
   ],
   "source": [
    "cluster_records[list(cluster_records.keys())[random.randint(0, len(cluster_records))]]"
   ]
  },
  {
   "cell_type": "markdown",
   "id": "a13f0daf",
   "metadata": {
    "papermill": {
     "duration": 0.268118,
     "end_time": "2024-09-02T15:28:45.416273",
     "exception": false,
     "start_time": "2024-09-02T15:28:45.148155",
     "status": "completed"
    },
    "tags": []
   },
   "source": [
    "Prepare a copy dataframe with new calculated ratings"
   ]
  },
  {
   "cell_type": "code",
   "execution_count": 49,
   "id": "3bf406ac",
   "metadata": {
    "execution": {
     "iopub.execute_input": "2024-09-02T15:28:46.021368Z",
     "iopub.status.busy": "2024-09-02T15:28:46.020935Z",
     "iopub.status.idle": "2024-09-02T15:29:00.917884Z",
     "shell.execute_reply": "2024-09-02T15:29:00.916759Z"
    },
    "papermill": {
     "duration": 15.238077,
     "end_time": "2024-09-02T15:29:00.920348",
     "exception": false,
     "start_time": "2024-09-02T15:28:45.682271",
     "status": "completed"
    },
    "tags": []
   },
   "outputs": [],
   "source": [
    "records = copy.deepcopy(cluster_records)\n",
    "\n",
    "for user_id, df in records.items():    \n",
    "    # Add new columns with NaN values\n",
    "    df['tcc_0'] = np.nan\n",
    "    df['tcc_1'] = np.nan\n",
    "    df['tcc_2'] = np.nan\n",
    "    df['tcc_3'] = np.nan\n",
    "    df['tcc_4'] = np.nan\n",
    "    \n",
    "    # Assign values to the new columns starting from the second row\n",
    "    df.loc[1:, 'tcc_0'] = cluster_tccs_0[user_id]\n",
    "    df.loc[1:, 'tcc_1'] = cluster_tccs_1[user_id]\n",
    "    df.loc[1:, 'tcc_2'] = cluster_tccs_2[user_id]\n",
    "    df.loc[1:, 'tcc_3'] = cluster_tccs_3[user_id]\n",
    "    df.loc[1:, 'tcc_4'] = cluster_tccs_4[user_id]\n",
    "    \n",
    "    # Set the first row's values\n",
    "    df.loc[0, 'new_rating_0'] = df.loc[0, 'rating']\n",
    "    df.loc[0, 'tcc_0'] = 1\n",
    "    df.loc[0, 'new_rating_1'] = df.loc[0, 'rating']\n",
    "    df.loc[0, 'tcc_1'] = 1\n",
    "    df.loc[0, 'new_rating_2'] = df.loc[0, 'rating']\n",
    "    df.loc[0, 'tcc_2'] = 1\n",
    "    df.loc[0, 'new_rating_3'] = df.loc[0, 'rating']\n",
    "    df.loc[0, 'tcc_3'] = 1\n",
    "    df.loc[0, 'new_rating_4'] = df.loc[0, 'rating']\n",
    "    df.loc[0, 'tcc_4'] = 1\n",
    "\n",
    "    # Update the dataframe in the dictionary\n",
    "    records[user_id] = df"
   ]
  },
  {
   "cell_type": "code",
   "execution_count": 50,
   "id": "8f566efa",
   "metadata": {
    "execution": {
     "iopub.execute_input": "2024-09-02T15:29:01.455391Z",
     "iopub.status.busy": "2024-09-02T15:29:01.454971Z",
     "iopub.status.idle": "2024-09-02T15:29:01.483212Z",
     "shell.execute_reply": "2024-09-02T15:29:01.481605Z"
    },
    "papermill": {
     "duration": 0.303319,
     "end_time": "2024-09-02T15:29:01.486120",
     "exception": false,
     "start_time": "2024-09-02T15:29:01.182801",
     "status": "completed"
    },
    "tags": []
   },
   "outputs": [
    {
     "data": {
      "text/html": [
       "<div>\n",
       "<style scoped>\n",
       "    .dataframe tbody tr th:only-of-type {\n",
       "        vertical-align: middle;\n",
       "    }\n",
       "\n",
       "    .dataframe tbody tr th {\n",
       "        vertical-align: top;\n",
       "    }\n",
       "\n",
       "    .dataframe thead th {\n",
       "        text-align: right;\n",
       "    }\n",
       "</style>\n",
       "<table border=\"1\" class=\"dataframe\">\n",
       "  <thead>\n",
       "    <tr style=\"text-align: right;\">\n",
       "      <th></th>\n",
       "      <th>user_id</th>\n",
       "      <th>parent_asin</th>\n",
       "      <th>rating</th>\n",
       "      <th>timestamp</th>\n",
       "      <th>timestamp_norm</th>\n",
       "      <th>date_time</th>\n",
       "      <th>title</th>\n",
       "      <th>brand</th>\n",
       "      <th>material</th>\n",
       "      <th>product_dimensions</th>\n",
       "      <th>...</th>\n",
       "      <th>new_rating_0</th>\n",
       "      <th>similarity_score</th>\n",
       "      <th>new_rating_1</th>\n",
       "      <th>new_rating_2</th>\n",
       "      <th>new_rating_4</th>\n",
       "      <th>tcc_0</th>\n",
       "      <th>tcc_1</th>\n",
       "      <th>tcc_2</th>\n",
       "      <th>tcc_3</th>\n",
       "      <th>tcc_4</th>\n",
       "    </tr>\n",
       "  </thead>\n",
       "  <tbody>\n",
       "    <tr>\n",
       "      <th>0</th>\n",
       "      <td>AGD6MTEKYRPDZA6KF2IO22ELPUYQ</td>\n",
       "      <td>B07779TP1H</td>\n",
       "      <td>5.0</td>\n",
       "      <td>1583240673431</td>\n",
       "      <td>1.0</td>\n",
       "      <td>2020-03-03 13:04:33.431</td>\n",
       "      <td>Spigen Slim Armor CS Designed for iPhone Xs Ca...</td>\n",
       "      <td>Spigen</td>\n",
       "      <td>Polycarbonate, Thermoplastic Polyurethane</td>\n",
       "      <td>3 x 0.4 x 6 inches</td>\n",
       "      <td>...</td>\n",
       "      <td>5.000000</td>\n",
       "      <td>1.000000</td>\n",
       "      <td>5.000000</td>\n",
       "      <td>5.000000</td>\n",
       "      <td>5.000000</td>\n",
       "      <td>1.000000</td>\n",
       "      <td>1.000000</td>\n",
       "      <td>1.000000</td>\n",
       "      <td>1.000000</td>\n",
       "      <td>1.000000</td>\n",
       "    </tr>\n",
       "    <tr>\n",
       "      <th>1</th>\n",
       "      <td>AGD6MTEKYRPDZA6KF2IO22ELPUYQ</td>\n",
       "      <td>B01CNDT9QM</td>\n",
       "      <td>5.0</td>\n",
       "      <td>1466030021000</td>\n",
       "      <td>0.0</td>\n",
       "      <td>2016-06-15 22:33:41.000</td>\n",
       "      <td>Stylus Pen, 12 Pack 2 in 1 Universal Stylus Pe...</td>\n",
       "      <td>MINGTONG</td>\n",
       "      <td>Aluminum</td>\n",
       "      <td>5.7 x 0.3 x 0.3 inches</td>\n",
       "      <td>...</td>\n",
       "      <td>3.005289</td>\n",
       "      <td>0.215462</td>\n",
       "      <td>3.005289</td>\n",
       "      <td>3.493831</td>\n",
       "      <td>3.005289</td>\n",
       "      <td>0.601058</td>\n",
       "      <td>0.601058</td>\n",
       "      <td>0.698766</td>\n",
       "      <td>0.913267</td>\n",
       "      <td>0.601058</td>\n",
       "    </tr>\n",
       "  </tbody>\n",
       "</table>\n",
       "<p>2 rows × 21 columns</p>\n",
       "</div>"
      ],
      "text/plain": [
       "                        user_id parent_asin  rating      timestamp  \\\n",
       "0  AGD6MTEKYRPDZA6KF2IO22ELPUYQ  B07779TP1H     5.0  1583240673431   \n",
       "1  AGD6MTEKYRPDZA6KF2IO22ELPUYQ  B01CNDT9QM     5.0  1466030021000   \n",
       "\n",
       "   timestamp_norm               date_time  \\\n",
       "0             1.0 2020-03-03 13:04:33.431   \n",
       "1             0.0 2016-06-15 22:33:41.000   \n",
       "\n",
       "                                               title     brand  \\\n",
       "0  Spigen Slim Armor CS Designed for iPhone Xs Ca...    Spigen   \n",
       "1  Stylus Pen, 12 Pack 2 in 1 Universal Stylus Pe...  MINGTONG   \n",
       "\n",
       "                                    material      product_dimensions  ...  \\\n",
       "0  Polycarbonate, Thermoplastic Polyurethane      3 x 0.4 x 6 inches  ...   \n",
       "1                                   Aluminum  5.7 x 0.3 x 0.3 inches  ...   \n",
       "\n",
       "   new_rating_0  similarity_score  new_rating_1  new_rating_2  new_rating_4  \\\n",
       "0      5.000000          1.000000      5.000000      5.000000      5.000000   \n",
       "1      3.005289          0.215462      3.005289      3.493831      3.005289   \n",
       "\n",
       "      tcc_0     tcc_1     tcc_2     tcc_3     tcc_4  \n",
       "0  1.000000  1.000000  1.000000  1.000000  1.000000  \n",
       "1  0.601058  0.601058  0.698766  0.913267  0.601058  \n",
       "\n",
       "[2 rows x 21 columns]"
      ]
     },
     "execution_count": 50,
     "metadata": {},
     "output_type": "execute_result"
    }
   ],
   "source": [
    "records[list(records.keys())[random.randint(0, len(records))]]"
   ]
  },
  {
   "cell_type": "code",
   "execution_count": 51,
   "id": "23a5bc82",
   "metadata": {
    "execution": {
     "iopub.execute_input": "2024-09-02T15:29:02.020507Z",
     "iopub.status.busy": "2024-09-02T15:29:02.020065Z",
     "iopub.status.idle": "2024-09-02T15:29:02.442072Z",
     "shell.execute_reply": "2024-09-02T15:29:02.440704Z"
    },
    "papermill": {
     "duration": 0.695678,
     "end_time": "2024-09-02T15:29:02.445441",
     "exception": false,
     "start_time": "2024-09-02T15:29:01.749763",
     "status": "completed"
    },
    "tags": []
   },
   "outputs": [],
   "source": [
    "# Concatenate all dataframes into one\n",
    "df = pd.concat(records.values(), ignore_index=True)"
   ]
  },
  {
   "cell_type": "code",
   "execution_count": 52,
   "id": "bd416f93",
   "metadata": {
    "execution": {
     "iopub.execute_input": "2024-09-02T15:29:02.980302Z",
     "iopub.status.busy": "2024-09-02T15:29:02.979856Z",
     "iopub.status.idle": "2024-09-02T15:29:03.022697Z",
     "shell.execute_reply": "2024-09-02T15:29:03.021532Z"
    },
    "papermill": {
     "duration": 0.315391,
     "end_time": "2024-09-02T15:29:03.025123",
     "exception": false,
     "start_time": "2024-09-02T15:29:02.709732",
     "status": "completed"
    },
    "tags": []
   },
   "outputs": [
    {
     "name": "stdout",
     "output_type": "stream",
     "text": [
      "Size of dataset: 3471\n"
     ]
    },
    {
     "data": {
      "text/html": [
       "<div>\n",
       "<style scoped>\n",
       "    .dataframe tbody tr th:only-of-type {\n",
       "        vertical-align: middle;\n",
       "    }\n",
       "\n",
       "    .dataframe tbody tr th {\n",
       "        vertical-align: top;\n",
       "    }\n",
       "\n",
       "    .dataframe thead th {\n",
       "        text-align: right;\n",
       "    }\n",
       "</style>\n",
       "<table border=\"1\" class=\"dataframe\">\n",
       "  <thead>\n",
       "    <tr style=\"text-align: right;\">\n",
       "      <th></th>\n",
       "      <th>user_id</th>\n",
       "      <th>parent_asin</th>\n",
       "      <th>rating</th>\n",
       "      <th>timestamp</th>\n",
       "      <th>timestamp_norm</th>\n",
       "      <th>date_time</th>\n",
       "      <th>title</th>\n",
       "      <th>brand</th>\n",
       "      <th>material</th>\n",
       "      <th>product_dimensions</th>\n",
       "      <th>...</th>\n",
       "      <th>new_rating_0</th>\n",
       "      <th>similarity_score</th>\n",
       "      <th>new_rating_1</th>\n",
       "      <th>new_rating_2</th>\n",
       "      <th>new_rating_4</th>\n",
       "      <th>tcc_0</th>\n",
       "      <th>tcc_1</th>\n",
       "      <th>tcc_2</th>\n",
       "      <th>tcc_3</th>\n",
       "      <th>tcc_4</th>\n",
       "    </tr>\n",
       "  </thead>\n",
       "  <tbody>\n",
       "    <tr>\n",
       "      <th>0</th>\n",
       "      <td>AE24AB4DW5KYK3F5DYOT5VPW2VLA</td>\n",
       "      <td>B08DQGH9T1</td>\n",
       "      <td>3.0</td>\n",
       "      <td>1629056802471</td>\n",
       "      <td>1.000000</td>\n",
       "      <td>2021-08-15 19:46:42.471</td>\n",
       "      <td>Spigen Tempered Glass Screen Protector [GlasTR...</td>\n",
       "      <td>Spigen</td>\n",
       "      <td>Tempered Glass</td>\n",
       "      <td>6.17\"L x 2.91\"W</td>\n",
       "      <td>...</td>\n",
       "      <td>3.000000</td>\n",
       "      <td>1.000000</td>\n",
       "      <td>3.000000</td>\n",
       "      <td>3.000000</td>\n",
       "      <td>3.000000</td>\n",
       "      <td>1.000000</td>\n",
       "      <td>1.000000</td>\n",
       "      <td>1.000000</td>\n",
       "      <td>1.000000</td>\n",
       "      <td>1.000000</td>\n",
       "    </tr>\n",
       "    <tr>\n",
       "      <th>1</th>\n",
       "      <td>AE24AB4DW5KYK3F5DYOT5VPW2VLA</td>\n",
       "      <td>B00DMKGR66</td>\n",
       "      <td>5.0</td>\n",
       "      <td>1450916777000</td>\n",
       "      <td>0.336418</td>\n",
       "      <td>2015-12-24 00:26:17.000</td>\n",
       "      <td>Spigen Tough Armor Desigend for Apple iPhone S...</td>\n",
       "      <td>Spigen</td>\n",
       "      <td>PC + TPU</td>\n",
       "      <td>2.6 x 5.13 x 0.45 inches</td>\n",
       "      <td>...</td>\n",
       "      <td>5.000000</td>\n",
       "      <td>0.348568</td>\n",
       "      <td>5.000000</td>\n",
       "      <td>5.000000</td>\n",
       "      <td>5.000000</td>\n",
       "      <td>0.623006</td>\n",
       "      <td>1.000000</td>\n",
       "      <td>0.657989</td>\n",
       "      <td>0.913498</td>\n",
       "      <td>0.623006</td>\n",
       "    </tr>\n",
       "    <tr>\n",
       "      <th>2</th>\n",
       "      <td>AE24AB4DW5KYK3F5DYOT5VPW2VLA</td>\n",
       "      <td>B010MVQBBI</td>\n",
       "      <td>4.0</td>\n",
       "      <td>1446391584000</td>\n",
       "      <td>0.319561</td>\n",
       "      <td>2015-11-01 15:26:24.000</td>\n",
       "      <td>Spigen iPhone 6s Plus Screen Protector Tempere...</td>\n",
       "      <td>Spigen</td>\n",
       "      <td>Tempered Glass</td>\n",
       "      <td>7.32 x 3.46 x 0.63 inches</td>\n",
       "      <td>...</td>\n",
       "      <td>1.096337</td>\n",
       "      <td>0.501727</td>\n",
       "      <td>2.994697</td>\n",
       "      <td>1.067252</td>\n",
       "      <td>1.096337</td>\n",
       "      <td>0.620916</td>\n",
       "      <td>1.000000</td>\n",
       "      <td>0.656464</td>\n",
       "      <td>0.913476</td>\n",
       "      <td>0.620916</td>\n",
       "    </tr>\n",
       "    <tr>\n",
       "      <th>3</th>\n",
       "      <td>AE24AB4DW5KYK3F5DYOT5VPW2VLA</td>\n",
       "      <td>B00BT8L2MW</td>\n",
       "      <td>4.0</td>\n",
       "      <td>1437324236000</td>\n",
       "      <td>0.285785</td>\n",
       "      <td>2015-07-19 16:43:56.000</td>\n",
       "      <td>Tech Armor Ballistic Glass Screen Protector De...</td>\n",
       "      <td>Tech Armor</td>\n",
       "      <td>Tempered Glass, Ballistic Glass</td>\n",
       "      <td>7.87 x 3.15 x 0.2 inches</td>\n",
       "      <td>...</td>\n",
       "      <td>1.000000</td>\n",
       "      <td>0.366560</td>\n",
       "      <td>2.994697</td>\n",
       "      <td>1.000000</td>\n",
       "      <td>1.000000</td>\n",
       "      <td>0.617021</td>\n",
       "      <td>1.000000</td>\n",
       "      <td>0.653624</td>\n",
       "      <td>0.913434</td>\n",
       "      <td>0.617021</td>\n",
       "    </tr>\n",
       "    <tr>\n",
       "      <th>4</th>\n",
       "      <td>AE24AB4DW5KYK3F5DYOT5VPW2VLA</td>\n",
       "      <td>B00974L2MK</td>\n",
       "      <td>5.0</td>\n",
       "      <td>1360604667000</td>\n",
       "      <td>0.000000</td>\n",
       "      <td>2013-02-11 17:44:27.000</td>\n",
       "      <td>OtterBox Defender Series Case for iPhone 5/5s ...</td>\n",
       "      <td>OtterBox</td>\n",
       "      <td>HardsidedNeoprene/Silicone</td>\n",
       "      <td>8 x 2 x 4 inches</td>\n",
       "      <td>...</td>\n",
       "      <td>4.321470</td>\n",
       "      <td>0.098058</td>\n",
       "      <td>1.000000</td>\n",
       "      <td>4.527974</td>\n",
       "      <td>4.321470</td>\n",
       "      <td>0.601058</td>\n",
       "      <td>0.601058</td>\n",
       "      <td>0.642048</td>\n",
       "      <td>0.913267</td>\n",
       "      <td>0.601058</td>\n",
       "    </tr>\n",
       "    <tr>\n",
       "      <th>5</th>\n",
       "      <td>AE257SG5NR3BZMRYIVVY7YW7UVBQ</td>\n",
       "      <td>B07BWNC1M6</td>\n",
       "      <td>3.0</td>\n",
       "      <td>1481276704000</td>\n",
       "      <td>NaN</td>\n",
       "      <td>2016-12-09 09:45:04.000</td>\n",
       "      <td>Hengwin Phone Pouch for iPhone 14 Pro Max 14 P...</td>\n",
       "      <td>Hengwin</td>\n",
       "      <td>Nylon</td>\n",
       "      <td>4.33 x 1.55 x 7.9 inches</td>\n",
       "      <td>...</td>\n",
       "      <td>3.000000</td>\n",
       "      <td>1.000000</td>\n",
       "      <td>3.000000</td>\n",
       "      <td>3.000000</td>\n",
       "      <td>3.000000</td>\n",
       "      <td>1.000000</td>\n",
       "      <td>1.000000</td>\n",
       "      <td>1.000000</td>\n",
       "      <td>1.000000</td>\n",
       "      <td>1.000000</td>\n",
       "    </tr>\n",
       "    <tr>\n",
       "      <th>6</th>\n",
       "      <td>AE2CO6MCKFITWP2QMMS2HZAVXD7A</td>\n",
       "      <td>B00JLFJ5HE</td>\n",
       "      <td>5.0</td>\n",
       "      <td>1442102459000</td>\n",
       "      <td>1.000000</td>\n",
       "      <td>2015-09-13 00:00:59.000</td>\n",
       "      <td>Samsung Galaxy S5 S View Flip Cover Case - Ret...</td>\n",
       "      <td>SAMSUNG</td>\n",
       "      <td>Silicone/gel/rubber</td>\n",
       "      <td>3.5 x 0.75 x 7 inches</td>\n",
       "      <td>...</td>\n",
       "      <td>5.000000</td>\n",
       "      <td>1.000000</td>\n",
       "      <td>5.000000</td>\n",
       "      <td>5.000000</td>\n",
       "      <td>5.000000</td>\n",
       "      <td>1.000000</td>\n",
       "      <td>1.000000</td>\n",
       "      <td>1.000000</td>\n",
       "      <td>1.000000</td>\n",
       "      <td>1.000000</td>\n",
       "    </tr>\n",
       "    <tr>\n",
       "      <th>7</th>\n",
       "      <td>AE2CO6MCKFITWP2QMMS2HZAVXD7A</td>\n",
       "      <td>B00BRTE5S6</td>\n",
       "      <td>5.0</td>\n",
       "      <td>1441778009000</td>\n",
       "      <td>0.987368</td>\n",
       "      <td>2015-09-09 05:53:29.000</td>\n",
       "      <td>Trident Case AEGIS for Motorola Droid Razr MAX...</td>\n",
       "      <td>T</td>\n",
       "      <td>Plastic</td>\n",
       "      <td>7.9 x 5.15 x 0.75 inches</td>\n",
       "      <td>...</td>\n",
       "      <td>5.000000</td>\n",
       "      <td>0.254215</td>\n",
       "      <td>2.543232</td>\n",
       "      <td>5.000000</td>\n",
       "      <td>5.000000</td>\n",
       "      <td>0.754973</td>\n",
       "      <td>0.754973</td>\n",
       "      <td>0.760665</td>\n",
       "      <td>0.915242</td>\n",
       "      <td>0.754973</td>\n",
       "    </tr>\n",
       "    <tr>\n",
       "      <th>8</th>\n",
       "      <td>AE2CO6MCKFITWP2QMMS2HZAVXD7A</td>\n",
       "      <td>B0088LYCZC</td>\n",
       "      <td>5.0</td>\n",
       "      <td>1416417987000</td>\n",
       "      <td>0.000004</td>\n",
       "      <td>2014-11-19 17:26:27.000</td>\n",
       "      <td>Tech Armor Premium High Definition Clear Scree...</td>\n",
       "      <td>Tech Armor</td>\n",
       "      <td>Polyethylene Terephthalate</td>\n",
       "      <td>7.48 x 3.94 x 0.04 inches</td>\n",
       "      <td>...</td>\n",
       "      <td>1.000000</td>\n",
       "      <td>0.195701</td>\n",
       "      <td>1.000000</td>\n",
       "      <td>1.000000</td>\n",
       "      <td>1.000000</td>\n",
       "      <td>0.601058</td>\n",
       "      <td>0.601058</td>\n",
       "      <td>0.656430</td>\n",
       "      <td>0.913267</td>\n",
       "      <td>0.601058</td>\n",
       "    </tr>\n",
       "    <tr>\n",
       "      <th>9</th>\n",
       "      <td>AE2CO6MCKFITWP2QMMS2HZAVXD7A</td>\n",
       "      <td>B00AAKGF72</td>\n",
       "      <td>5.0</td>\n",
       "      <td>1416417881000</td>\n",
       "      <td>0.000000</td>\n",
       "      <td>2014-11-19 17:24:41.000</td>\n",
       "      <td>OtterBox Defender Series Case and Holster for ...</td>\n",
       "      <td>OtterBox</td>\n",
       "      <td>HardsidedNeoprene/Silicone</td>\n",
       "      <td>8 x 2 x 4 inches</td>\n",
       "      <td>...</td>\n",
       "      <td>1.000000</td>\n",
       "      <td>0.451336</td>\n",
       "      <td>5.000000</td>\n",
       "      <td>1.000000</td>\n",
       "      <td>1.000000</td>\n",
       "      <td>0.601058</td>\n",
       "      <td>1.000000</td>\n",
       "      <td>0.656430</td>\n",
       "      <td>0.913267</td>\n",
       "      <td>0.601058</td>\n",
       "    </tr>\n",
       "    <tr>\n",
       "      <th>10</th>\n",
       "      <td>AE2IXS44ZDWKYFI3RAH5S7OEQW6Q</td>\n",
       "      <td>B07B8G1LQW</td>\n",
       "      <td>5.0</td>\n",
       "      <td>1556453155247</td>\n",
       "      <td>1.000000</td>\n",
       "      <td>2019-04-28 12:05:55.247</td>\n",
       "      <td>ProCase Wallet Case for LG V30, Folio Folding ...</td>\n",
       "      <td>ProCase</td>\n",
       "      <td>Leather</td>\n",
       "      <td>5.97 x 2.97 x 0.29 inches</td>\n",
       "      <td>...</td>\n",
       "      <td>5.000000</td>\n",
       "      <td>1.000000</td>\n",
       "      <td>5.000000</td>\n",
       "      <td>5.000000</td>\n",
       "      <td>5.000000</td>\n",
       "      <td>1.000000</td>\n",
       "      <td>1.000000</td>\n",
       "      <td>1.000000</td>\n",
       "      <td>1.000000</td>\n",
       "      <td>1.000000</td>\n",
       "    </tr>\n",
       "    <tr>\n",
       "      <th>11</th>\n",
       "      <td>AE2IXS44ZDWKYFI3RAH5S7OEQW6Q</td>\n",
       "      <td>B07GQBN1MX</td>\n",
       "      <td>5.0</td>\n",
       "      <td>1546266386166</td>\n",
       "      <td>0.899184</td>\n",
       "      <td>2018-12-31 14:26:26.166</td>\n",
       "      <td>Spigen Rugged Armor Designed for LG V40 ThinQ ...</td>\n",
       "      <td>Spigen</td>\n",
       "      <td>Silicone</td>\n",
       "      <td>10 x 2 x 15 inches</td>\n",
       "      <td>...</td>\n",
       "      <td>5.000000</td>\n",
       "      <td>0.293217</td>\n",
       "      <td>5.000000</td>\n",
       "      <td>5.000000</td>\n",
       "      <td>5.000000</td>\n",
       "      <td>0.733719</td>\n",
       "      <td>0.733719</td>\n",
       "      <td>0.743530</td>\n",
       "      <td>0.914908</td>\n",
       "      <td>0.733719</td>\n",
       "    </tr>\n",
       "    <tr>\n",
       "      <th>12</th>\n",
       "      <td>AE2IXS44ZDWKYFI3RAH5S7OEQW6Q</td>\n",
       "      <td>B01LX0AXQO</td>\n",
       "      <td>5.0</td>\n",
       "      <td>1496329744000</td>\n",
       "      <td>0.404972</td>\n",
       "      <td>2017-06-01 15:09:04.000</td>\n",
       "      <td>Puregear 61620PG Screen Protector for LG V20 -...</td>\n",
       "      <td>PureGear</td>\n",
       "      <td>Tempered Glass</td>\n",
       "      <td>8 x 1 x 4 inches</td>\n",
       "      <td>...</td>\n",
       "      <td>1.947024</td>\n",
       "      <td>0.263202</td>\n",
       "      <td>1.947024</td>\n",
       "      <td>1.915084</td>\n",
       "      <td>1.947024</td>\n",
       "      <td>0.632466</td>\n",
       "      <td>0.632466</td>\n",
       "      <td>0.671226</td>\n",
       "      <td>0.913602</td>\n",
       "      <td>0.632466</td>\n",
       "    </tr>\n",
       "    <tr>\n",
       "      <th>13</th>\n",
       "      <td>AE2IXS44ZDWKYFI3RAH5S7OEQW6Q</td>\n",
       "      <td>B0155T39DK</td>\n",
       "      <td>5.0</td>\n",
       "      <td>1455410101000</td>\n",
       "      <td>0.000000</td>\n",
       "      <td>2016-02-14 00:35:01.000</td>\n",
       "      <td>Despicable Me Minions Authentic Licensed Lanya...</td>\n",
       "      <td>Despicable Me</td>\n",
       "      <td>Vinyl</td>\n",
       "      <td>7 x 0.1 x 4 inches</td>\n",
       "      <td>...</td>\n",
       "      <td>1.000000</td>\n",
       "      <td>0.140279</td>\n",
       "      <td>1.000000</td>\n",
       "      <td>1.000000</td>\n",
       "      <td>1.000000</td>\n",
       "      <td>0.601058</td>\n",
       "      <td>0.601058</td>\n",
       "      <td>0.649779</td>\n",
       "      <td>0.913267</td>\n",
       "      <td>0.601058</td>\n",
       "    </tr>\n",
       "    <tr>\n",
       "      <th>14</th>\n",
       "      <td>AE2MTX7DFREKGZ6BQVTAQ6NN5VUA</td>\n",
       "      <td>B08BHGWM2R</td>\n",
       "      <td>5.0</td>\n",
       "      <td>1641400959678</td>\n",
       "      <td>1.000000</td>\n",
       "      <td>2022-01-05 16:42:39.678</td>\n",
       "      <td>Spigen Slim Armor CS iPhone 12/12 Pro Case - R...</td>\n",
       "      <td>Spigen</td>\n",
       "      <td>Thermoplastic Polyurethane</td>\n",
       "      <td>2.5 x 0.5 x 6.5 inches</td>\n",
       "      <td>...</td>\n",
       "      <td>5.000000</td>\n",
       "      <td>1.000000</td>\n",
       "      <td>5.000000</td>\n",
       "      <td>5.000000</td>\n",
       "      <td>5.000000</td>\n",
       "      <td>1.000000</td>\n",
       "      <td>1.000000</td>\n",
       "      <td>1.000000</td>\n",
       "      <td>1.000000</td>\n",
       "      <td>1.000000</td>\n",
       "    </tr>\n",
       "    <tr>\n",
       "      <th>15</th>\n",
       "      <td>AE2MTX7DFREKGZ6BQVTAQ6NN5VUA</td>\n",
       "      <td>B09XSK5JYM</td>\n",
       "      <td>5.0</td>\n",
       "      <td>1540203335004</td>\n",
       "      <td>0.000000</td>\n",
       "      <td>2018-10-22 10:15:35.004</td>\n",
       "      <td>Ringke Slot Card Holder (2 Pack) Designed for ...</td>\n",
       "      <td>Ringke</td>\n",
       "      <td>Polycarbonate</td>\n",
       "      <td>3.7 x 2.32 x 0.2 inches</td>\n",
       "      <td>...</td>\n",
       "      <td>3.005289</td>\n",
       "      <td>0.304287</td>\n",
       "      <td>5.000000</td>\n",
       "      <td>3.493831</td>\n",
       "      <td>3.005289</td>\n",
       "      <td>0.601058</td>\n",
       "      <td>1.000000</td>\n",
       "      <td>0.698766</td>\n",
       "      <td>0.913267</td>\n",
       "      <td>0.601058</td>\n",
       "    </tr>\n",
       "    <tr>\n",
       "      <th>16</th>\n",
       "      <td>AE2NBWIRSOZSJQ3YOG4FI67XJYJA</td>\n",
       "      <td>B016U4CBUQ</td>\n",
       "      <td>5.0</td>\n",
       "      <td>1662001670099</td>\n",
       "      <td>NaN</td>\n",
       "      <td>2022-09-01 03:07:50.099</td>\n",
       "      <td>Brccee AC 10pcs FR PVC Cover Flame Retardant S...</td>\n",
       "      <td>Brccee AC</td>\n",
       "      <td>Pvc</td>\n",
       "      <td>1.57\"L x 0.59\"W</td>\n",
       "      <td>...</td>\n",
       "      <td>5.000000</td>\n",
       "      <td>1.000000</td>\n",
       "      <td>5.000000</td>\n",
       "      <td>5.000000</td>\n",
       "      <td>5.000000</td>\n",
       "      <td>1.000000</td>\n",
       "      <td>1.000000</td>\n",
       "      <td>1.000000</td>\n",
       "      <td>1.000000</td>\n",
       "      <td>1.000000</td>\n",
       "    </tr>\n",
       "    <tr>\n",
       "      <th>17</th>\n",
       "      <td>AE2QCQ452USRFX2M523MLSQKCMDQ</td>\n",
       "      <td>B07C71HG36</td>\n",
       "      <td>4.0</td>\n",
       "      <td>1572799987477</td>\n",
       "      <td>1.000000</td>\n",
       "      <td>2019-11-03 16:53:07.477</td>\n",
       "      <td>Cell Phone Cover - Slim Fit - Compatible with ...</td>\n",
       "      <td>Art Plates</td>\n",
       "      <td>Polycarbonate</td>\n",
       "      <td>5.7 x 2.9 x 0.4 inches</td>\n",
       "      <td>...</td>\n",
       "      <td>4.000000</td>\n",
       "      <td>1.000000</td>\n",
       "      <td>4.000000</td>\n",
       "      <td>4.000000</td>\n",
       "      <td>4.000000</td>\n",
       "      <td>1.000000</td>\n",
       "      <td>1.000000</td>\n",
       "      <td>1.000000</td>\n",
       "      <td>1.000000</td>\n",
       "      <td>1.000000</td>\n",
       "    </tr>\n",
       "    <tr>\n",
       "      <th>18</th>\n",
       "      <td>AE2QCQ452USRFX2M523MLSQKCMDQ</td>\n",
       "      <td>B00ESYO5IW</td>\n",
       "      <td>5.0</td>\n",
       "      <td>1546187753281</td>\n",
       "      <td>0.746292</td>\n",
       "      <td>2018-12-30 16:35:53.281</td>\n",
       "      <td>OTTERBOX COMMUTER WALLET SERIES Case for iPhon...</td>\n",
       "      <td>OtterBox</td>\n",
       "      <td>Silicone, Polycarbonate</td>\n",
       "      <td>6 x 0.9 x 12.6 inches</td>\n",
       "      <td>...</td>\n",
       "      <td>5.000000</td>\n",
       "      <td>0.355225</td>\n",
       "      <td>5.000000</td>\n",
       "      <td>5.000000</td>\n",
       "      <td>5.000000</td>\n",
       "      <td>0.698026</td>\n",
       "      <td>1.000000</td>\n",
       "      <td>0.725424</td>\n",
       "      <td>0.914401</td>\n",
       "      <td>0.698026</td>\n",
       "    </tr>\n",
       "    <tr>\n",
       "      <th>19</th>\n",
       "      <td>AE2QCQ452USRFX2M523MLSQKCMDQ</td>\n",
       "      <td>B00UOFAFZ6</td>\n",
       "      <td>5.0</td>\n",
       "      <td>1467906966000</td>\n",
       "      <td>0.000000</td>\n",
       "      <td>2016-07-07 15:56:06.000</td>\n",
       "      <td>Cell Phone Cover - Slim Fit - Compatible with ...</td>\n",
       "      <td>Art Plates</td>\n",
       "      <td>Polycarbonate</td>\n",
       "      <td>5.7 x 2.9 x 0.4 inches</td>\n",
       "      <td>...</td>\n",
       "      <td>1.000000</td>\n",
       "      <td>0.983046</td>\n",
       "      <td>5.000000</td>\n",
       "      <td>1.000000</td>\n",
       "      <td>1.000000</td>\n",
       "      <td>0.601058</td>\n",
       "      <td>1.000000</td>\n",
       "      <td>0.666394</td>\n",
       "      <td>0.913267</td>\n",
       "      <td>0.601058</td>\n",
       "    </tr>\n",
       "  </tbody>\n",
       "</table>\n",
       "<p>20 rows × 21 columns</p>\n",
       "</div>"
      ],
      "text/plain": [
       "                         user_id parent_asin  rating      timestamp  \\\n",
       "0   AE24AB4DW5KYK3F5DYOT5VPW2VLA  B08DQGH9T1     3.0  1629056802471   \n",
       "1   AE24AB4DW5KYK3F5DYOT5VPW2VLA  B00DMKGR66     5.0  1450916777000   \n",
       "2   AE24AB4DW5KYK3F5DYOT5VPW2VLA  B010MVQBBI     4.0  1446391584000   \n",
       "3   AE24AB4DW5KYK3F5DYOT5VPW2VLA  B00BT8L2MW     4.0  1437324236000   \n",
       "4   AE24AB4DW5KYK3F5DYOT5VPW2VLA  B00974L2MK     5.0  1360604667000   \n",
       "5   AE257SG5NR3BZMRYIVVY7YW7UVBQ  B07BWNC1M6     3.0  1481276704000   \n",
       "6   AE2CO6MCKFITWP2QMMS2HZAVXD7A  B00JLFJ5HE     5.0  1442102459000   \n",
       "7   AE2CO6MCKFITWP2QMMS2HZAVXD7A  B00BRTE5S6     5.0  1441778009000   \n",
       "8   AE2CO6MCKFITWP2QMMS2HZAVXD7A  B0088LYCZC     5.0  1416417987000   \n",
       "9   AE2CO6MCKFITWP2QMMS2HZAVXD7A  B00AAKGF72     5.0  1416417881000   \n",
       "10  AE2IXS44ZDWKYFI3RAH5S7OEQW6Q  B07B8G1LQW     5.0  1556453155247   \n",
       "11  AE2IXS44ZDWKYFI3RAH5S7OEQW6Q  B07GQBN1MX     5.0  1546266386166   \n",
       "12  AE2IXS44ZDWKYFI3RAH5S7OEQW6Q  B01LX0AXQO     5.0  1496329744000   \n",
       "13  AE2IXS44ZDWKYFI3RAH5S7OEQW6Q  B0155T39DK     5.0  1455410101000   \n",
       "14  AE2MTX7DFREKGZ6BQVTAQ6NN5VUA  B08BHGWM2R     5.0  1641400959678   \n",
       "15  AE2MTX7DFREKGZ6BQVTAQ6NN5VUA  B09XSK5JYM     5.0  1540203335004   \n",
       "16  AE2NBWIRSOZSJQ3YOG4FI67XJYJA  B016U4CBUQ     5.0  1662001670099   \n",
       "17  AE2QCQ452USRFX2M523MLSQKCMDQ  B07C71HG36     4.0  1572799987477   \n",
       "18  AE2QCQ452USRFX2M523MLSQKCMDQ  B00ESYO5IW     5.0  1546187753281   \n",
       "19  AE2QCQ452USRFX2M523MLSQKCMDQ  B00UOFAFZ6     5.0  1467906966000   \n",
       "\n",
       "    timestamp_norm               date_time  \\\n",
       "0         1.000000 2021-08-15 19:46:42.471   \n",
       "1         0.336418 2015-12-24 00:26:17.000   \n",
       "2         0.319561 2015-11-01 15:26:24.000   \n",
       "3         0.285785 2015-07-19 16:43:56.000   \n",
       "4         0.000000 2013-02-11 17:44:27.000   \n",
       "5              NaN 2016-12-09 09:45:04.000   \n",
       "6         1.000000 2015-09-13 00:00:59.000   \n",
       "7         0.987368 2015-09-09 05:53:29.000   \n",
       "8         0.000004 2014-11-19 17:26:27.000   \n",
       "9         0.000000 2014-11-19 17:24:41.000   \n",
       "10        1.000000 2019-04-28 12:05:55.247   \n",
       "11        0.899184 2018-12-31 14:26:26.166   \n",
       "12        0.404972 2017-06-01 15:09:04.000   \n",
       "13        0.000000 2016-02-14 00:35:01.000   \n",
       "14        1.000000 2022-01-05 16:42:39.678   \n",
       "15        0.000000 2018-10-22 10:15:35.004   \n",
       "16             NaN 2022-09-01 03:07:50.099   \n",
       "17        1.000000 2019-11-03 16:53:07.477   \n",
       "18        0.746292 2018-12-30 16:35:53.281   \n",
       "19        0.000000 2016-07-07 15:56:06.000   \n",
       "\n",
       "                                                title          brand  \\\n",
       "0   Spigen Tempered Glass Screen Protector [GlasTR...         Spigen   \n",
       "1   Spigen Tough Armor Desigend for Apple iPhone S...         Spigen   \n",
       "2   Spigen iPhone 6s Plus Screen Protector Tempere...         Spigen   \n",
       "3   Tech Armor Ballistic Glass Screen Protector De...     Tech Armor   \n",
       "4   OtterBox Defender Series Case for iPhone 5/5s ...       OtterBox   \n",
       "5   Hengwin Phone Pouch for iPhone 14 Pro Max 14 P...        Hengwin   \n",
       "6   Samsung Galaxy S5 S View Flip Cover Case - Ret...        SAMSUNG   \n",
       "7   Trident Case AEGIS for Motorola Droid Razr MAX...              T   \n",
       "8   Tech Armor Premium High Definition Clear Scree...     Tech Armor   \n",
       "9   OtterBox Defender Series Case and Holster for ...       OtterBox   \n",
       "10  ProCase Wallet Case for LG V30, Folio Folding ...        ProCase   \n",
       "11  Spigen Rugged Armor Designed for LG V40 ThinQ ...         Spigen   \n",
       "12  Puregear 61620PG Screen Protector for LG V20 -...       PureGear   \n",
       "13  Despicable Me Minions Authentic Licensed Lanya...  Despicable Me   \n",
       "14  Spigen Slim Armor CS iPhone 12/12 Pro Case - R...         Spigen   \n",
       "15  Ringke Slot Card Holder (2 Pack) Designed for ...         Ringke   \n",
       "16  Brccee AC 10pcs FR PVC Cover Flame Retardant S...      Brccee AC   \n",
       "17  Cell Phone Cover - Slim Fit - Compatible with ...     Art Plates   \n",
       "18  OTTERBOX COMMUTER WALLET SERIES Case for iPhon...       OtterBox   \n",
       "19  Cell Phone Cover - Slim Fit - Compatible with ...     Art Plates   \n",
       "\n",
       "                           material         product_dimensions  ...  \\\n",
       "0                    Tempered Glass            6.17\"L x 2.91\"W  ...   \n",
       "1                          PC + TPU   2.6 x 5.13 x 0.45 inches  ...   \n",
       "2                    Tempered Glass  7.32 x 3.46 x 0.63 inches  ...   \n",
       "3   Tempered Glass, Ballistic Glass   7.87 x 3.15 x 0.2 inches  ...   \n",
       "4        HardsidedNeoprene/Silicone           8 x 2 x 4 inches  ...   \n",
       "5                             Nylon   4.33 x 1.55 x 7.9 inches  ...   \n",
       "6               Silicone/gel/rubber      3.5 x 0.75 x 7 inches  ...   \n",
       "7                           Plastic   7.9 x 5.15 x 0.75 inches  ...   \n",
       "8        Polyethylene Terephthalate  7.48 x 3.94 x 0.04 inches  ...   \n",
       "9        HardsidedNeoprene/Silicone           8 x 2 x 4 inches  ...   \n",
       "10                          Leather  5.97 x 2.97 x 0.29 inches  ...   \n",
       "11                         Silicone         10 x 2 x 15 inches  ...   \n",
       "12                   Tempered Glass           8 x 1 x 4 inches  ...   \n",
       "13                            Vinyl         7 x 0.1 x 4 inches  ...   \n",
       "14       Thermoplastic Polyurethane     2.5 x 0.5 x 6.5 inches  ...   \n",
       "15                    Polycarbonate    3.7 x 2.32 x 0.2 inches  ...   \n",
       "16                              Pvc            1.57\"L x 0.59\"W  ...   \n",
       "17                    Polycarbonate     5.7 x 2.9 x 0.4 inches  ...   \n",
       "18          Silicone, Polycarbonate      6 x 0.9 x 12.6 inches  ...   \n",
       "19                    Polycarbonate     5.7 x 2.9 x 0.4 inches  ...   \n",
       "\n",
       "    new_rating_0  similarity_score  new_rating_1  new_rating_2  new_rating_4  \\\n",
       "0       3.000000          1.000000      3.000000      3.000000      3.000000   \n",
       "1       5.000000          0.348568      5.000000      5.000000      5.000000   \n",
       "2       1.096337          0.501727      2.994697      1.067252      1.096337   \n",
       "3       1.000000          0.366560      2.994697      1.000000      1.000000   \n",
       "4       4.321470          0.098058      1.000000      4.527974      4.321470   \n",
       "5       3.000000          1.000000      3.000000      3.000000      3.000000   \n",
       "6       5.000000          1.000000      5.000000      5.000000      5.000000   \n",
       "7       5.000000          0.254215      2.543232      5.000000      5.000000   \n",
       "8       1.000000          0.195701      1.000000      1.000000      1.000000   \n",
       "9       1.000000          0.451336      5.000000      1.000000      1.000000   \n",
       "10      5.000000          1.000000      5.000000      5.000000      5.000000   \n",
       "11      5.000000          0.293217      5.000000      5.000000      5.000000   \n",
       "12      1.947024          0.263202      1.947024      1.915084      1.947024   \n",
       "13      1.000000          0.140279      1.000000      1.000000      1.000000   \n",
       "14      5.000000          1.000000      5.000000      5.000000      5.000000   \n",
       "15      3.005289          0.304287      5.000000      3.493831      3.005289   \n",
       "16      5.000000          1.000000      5.000000      5.000000      5.000000   \n",
       "17      4.000000          1.000000      4.000000      4.000000      4.000000   \n",
       "18      5.000000          0.355225      5.000000      5.000000      5.000000   \n",
       "19      1.000000          0.983046      5.000000      1.000000      1.000000   \n",
       "\n",
       "       tcc_0     tcc_1     tcc_2     tcc_3     tcc_4  \n",
       "0   1.000000  1.000000  1.000000  1.000000  1.000000  \n",
       "1   0.623006  1.000000  0.657989  0.913498  0.623006  \n",
       "2   0.620916  1.000000  0.656464  0.913476  0.620916  \n",
       "3   0.617021  1.000000  0.653624  0.913434  0.617021  \n",
       "4   0.601058  0.601058  0.642048  0.913267  0.601058  \n",
       "5   1.000000  1.000000  1.000000  1.000000  1.000000  \n",
       "6   1.000000  1.000000  1.000000  1.000000  1.000000  \n",
       "7   0.754973  0.754973  0.760665  0.915242  0.754973  \n",
       "8   0.601058  0.601058  0.656430  0.913267  0.601058  \n",
       "9   0.601058  1.000000  0.656430  0.913267  0.601058  \n",
       "10  1.000000  1.000000  1.000000  1.000000  1.000000  \n",
       "11  0.733719  0.733719  0.743530  0.914908  0.733719  \n",
       "12  0.632466  0.632466  0.671226  0.913602  0.632466  \n",
       "13  0.601058  0.601058  0.649779  0.913267  0.601058  \n",
       "14  1.000000  1.000000  1.000000  1.000000  1.000000  \n",
       "15  0.601058  1.000000  0.698766  0.913267  0.601058  \n",
       "16  1.000000  1.000000  1.000000  1.000000  1.000000  \n",
       "17  1.000000  1.000000  1.000000  1.000000  1.000000  \n",
       "18  0.698026  1.000000  0.725424  0.914401  0.698026  \n",
       "19  0.601058  1.000000  0.666394  0.913267  0.601058  \n",
       "\n",
       "[20 rows x 21 columns]"
      ]
     },
     "execution_count": 52,
     "metadata": {},
     "output_type": "execute_result"
    }
   ],
   "source": [
    "print(f'Size of dataset: {len(df)}')\n",
    "df.head(20)"
   ]
  },
  {
   "cell_type": "markdown",
   "id": "beccba9d",
   "metadata": {
    "papermill": {
     "duration": 0.261795,
     "end_time": "2024-09-02T15:29:03.632082",
     "exception": false,
     "start_time": "2024-09-02T15:29:03.370287",
     "status": "completed"
    },
    "tags": []
   },
   "source": [
    "Show the distribution of ratings with different methods"
   ]
  },
  {
   "cell_type": "code",
   "execution_count": 53,
   "id": "f8dbb71d",
   "metadata": {
    "execution": {
     "iopub.execute_input": "2024-09-02T15:29:04.172228Z",
     "iopub.status.busy": "2024-09-02T15:29:04.171798Z",
     "iopub.status.idle": "2024-09-02T15:29:04.548455Z",
     "shell.execute_reply": "2024-09-02T15:29:04.547305Z"
    },
    "papermill": {
     "duration": 0.652187,
     "end_time": "2024-09-02T15:29:04.551184",
     "exception": false,
     "start_time": "2024-09-02T15:29:03.898997",
     "status": "completed"
    },
    "tags": []
   },
   "outputs": [],
   "source": [
    "import matplotlib.pyplot as plt\n",
    "import seaborn as sns\n",
    "\n",
    "color_0 = '#6a057f'\n",
    "color_1 = '#264b96'\n",
    "color_2 = '#27b376'\n",
    "color_3 = '#bf212f'\n",
    "color_4 = '#f4d35e'"
   ]
  },
  {
   "cell_type": "markdown",
   "id": "f06249c9",
   "metadata": {
    "papermill": {
     "duration": 0.267647,
     "end_time": "2024-09-02T15:29:05.084098",
     "exception": false,
     "start_time": "2024-09-02T15:29:04.816451",
     "status": "completed"
    },
    "tags": []
   },
   "source": [
    "Show the the distribution of tccs of each methods"
   ]
  },
  {
   "cell_type": "code",
   "execution_count": 54,
   "id": "7acccd7b",
   "metadata": {
    "execution": {
     "iopub.execute_input": "2024-09-02T15:29:05.612295Z",
     "iopub.status.busy": "2024-09-02T15:29:05.611871Z",
     "iopub.status.idle": "2024-09-02T15:29:06.283907Z",
     "shell.execute_reply": "2024-09-02T15:29:06.282314Z"
    },
    "papermill": {
     "duration": 0.938118,
     "end_time": "2024-09-02T15:29:06.287217",
     "exception": false,
     "start_time": "2024-09-02T15:29:05.349099",
     "status": "completed"
    },
    "tags": []
   },
   "outputs": [
    {
     "data": {
      "image/png": "[encoded data removed]",
      "text/plain": [
       "<Figure size 640x480 with 1 Axes>"
      ]
     },
     "metadata": {},
     "output_type": "display_data"
    }
   ],
   "source": [
    "sns.kdeplot(data=df, x='tcc_0', label='Paper', color=color_0, fill=True)\n",
    "sns.kdeplot(data=df, x='tcc_1', label='Content-Based Similarity', color=color_1, fill=True)\n",
    "sns.kdeplot(data=df, x='tcc_2', label='Time-Based Decay', color=color_2, fill=True)\n",
    "sns.kdeplot(data=df, x='tcc_3', label='Optimized Sigma - Cuckoo Search', color=color_3, fill=True)\n",
    "sns.kdeplot(data=df, x='tcc_4', label='Decay Model Selection', color=color_4, fill=True)\n",
    "plt.xlabel('TCC')\n",
    "plt.ylabel('Density')\n",
    "plt.title('Distribution of TCCs for Each Method')\n",
    "plt.legend(loc='upper left', bbox_to_anchor=(1, 1))\n",
    "plt.show()"
   ]
  },
  {
   "cell_type": "markdown",
   "id": "88e4129e",
   "metadata": {
    "papermill": {
     "duration": 0.362919,
     "end_time": "2024-09-02T15:29:06.927726",
     "exception": false,
     "start_time": "2024-09-02T15:29:06.564807",
     "status": "completed"
    },
    "tags": []
   },
   "source": [
    "Use surprise package to build a recommender system using the new dataframe"
   ]
  },
  {
   "cell_type": "code",
   "execution_count": 55,
   "id": "f1aad0b8",
   "metadata": {
    "execution": {
     "iopub.execute_input": "2024-09-02T15:29:07.487343Z",
     "iopub.status.busy": "2024-09-02T15:29:07.486935Z",
     "iopub.status.idle": "2024-09-02T15:29:07.497292Z",
     "shell.execute_reply": "2024-09-02T15:29:07.496119Z"
    },
    "papermill": {
     "duration": 0.285459,
     "end_time": "2024-09-02T15:29:07.499919",
     "exception": false,
     "start_time": "2024-09-02T15:29:07.214460",
     "status": "completed"
    },
    "tags": []
   },
   "outputs": [],
   "source": [
    "def custom_train_test_split(df, target_user_id, rating_column, test_size=0.2):\n",
    "    # Separate the target user's data\n",
    "    target_user_data = df[df['user_id'] == target_user_id]\n",
    "    other_data = df[df['user_id'] != target_user_id]\n",
    "    \n",
    "    # Load data into Surprise dataset\n",
    "    reader = Reader(rating_scale=(1, 5))\n",
    "    data = Dataset.load_from_df(other_data[['user_id', 'parent_asin', rating_column]], reader)\n",
    "    \n",
    "    # Perform the train-test split\n",
    "    train_data, test_data = train_test_split(data, test_size=test_size)\n",
    "    \n",
    "    # Convert train and test sets to DataFrames\n",
    "    train_df = pd.DataFrame(train_data.all_ratings(), columns=['user_id', 'parent_asin', rating_column])\n",
    "    test_df = pd.DataFrame(test_data, columns=['user_id', 'parent_asin', rating_column])\n",
    "    \n",
    "    # Add the target user's data to the test set\n",
    "    test_df = pd.concat([test_df, target_user_data[['user_id', 'parent_asin', rating_column]]])\n",
    "    \n",
    "    # Add a dummy timestamp column\n",
    "    test_df['timestamp'] = 0\n",
    "    \n",
    "    # Convert DataFrames back to Surprise Datasets\n",
    "    train_dataset = Dataset.load_from_df(train_df[['user_id', 'parent_asin', rating_column]], reader)\n",
    "    test_dataset = Dataset.load_from_df(test_df[['user_id', 'parent_asin', rating_column]], reader)\n",
    "    \n",
    "    # Convert to Trainset and Testset\n",
    "    trainset = train_dataset.build_full_trainset()\n",
    "    testset = test_dataset.construct_testset(test_df.values)\n",
    "    \n",
    "    return trainset, testset"
   ]
  },
  {
   "cell_type": "code",
   "execution_count": 56,
   "id": "19b46db1",
   "metadata": {
    "execution": {
     "iopub.execute_input": "2024-09-02T15:29:08.032240Z",
     "iopub.status.busy": "2024-09-02T15:29:08.031818Z",
     "iopub.status.idle": "2024-09-02T15:29:08.037193Z",
     "shell.execute_reply": "2024-09-02T15:29:08.035983Z"
    },
    "papermill": {
     "duration": 0.275874,
     "end_time": "2024-09-02T15:29:08.041118",
     "exception": false,
     "start_time": "2024-09-02T15:29:07.765244",
     "status": "completed"
    },
    "tags": []
   },
   "outputs": [],
   "source": [
    "test_size = 0.3"
   ]
  },
  {
   "cell_type": "code",
   "execution_count": 57,
   "id": "75f61d18",
   "metadata": {
    "execution": {
     "iopub.execute_input": "2024-09-02T15:29:08.582798Z",
     "iopub.status.busy": "2024-09-02T15:29:08.581908Z",
     "iopub.status.idle": "2024-09-02T15:29:08.791871Z",
     "shell.execute_reply": "2024-09-02T15:29:08.790661Z"
    },
    "papermill": {
     "duration": 0.48295,
     "end_time": "2024-09-02T15:29:08.794549",
     "exception": false,
     "start_time": "2024-09-02T15:29:08.311599",
     "status": "completed"
    },
    "tags": []
   },
   "outputs": [],
   "source": [
    "# splid the read data to train and test\n",
    "train_data_0, test_data_0 = custom_train_test_split(df, target_user_id, 'new_rating_0', test_size)\n",
    "train_data_1, test_data_1 = custom_train_test_split(df, target_user_id, 'new_rating_1', test_size)\n",
    "train_data_2, test_data_2 = custom_train_test_split(df, target_user_id, 'new_rating_2', test_size)\n",
    "train_data_3, test_data_3 = custom_train_test_split(df, target_user_id, 'new_rating_3', test_size)\n",
    "train_data_4, test_data_4 = custom_train_test_split(df, target_user_id, 'new_rating_4', test_size)"
   ]
  },
  {
   "cell_type": "code",
   "execution_count": 58,
   "id": "1560fb53",
   "metadata": {
    "execution": {
     "iopub.execute_input": "2024-09-02T15:29:09.341885Z",
     "iopub.status.busy": "2024-09-02T15:29:09.341419Z",
     "iopub.status.idle": "2024-09-02T15:29:09.402679Z",
     "shell.execute_reply": "2024-09-02T15:29:09.401481Z"
    },
    "papermill": {
     "duration": 0.335135,
     "end_time": "2024-09-02T15:29:09.405796",
     "exception": false,
     "start_time": "2024-09-02T15:29:09.070661",
     "status": "completed"
    },
    "tags": []
   },
   "outputs": [],
   "source": [
    "# train the data_0 using SVD algorithm\n",
    "algo_0 = SVD()\n",
    "algo_0.fit(train_data_0)\n",
    "\n",
    "# test the trained model\n",
    "predictions_0 = algo_0.test(test_data_0)"
   ]
  },
  {
   "cell_type": "code",
   "execution_count": 59,
   "id": "cc548386",
   "metadata": {
    "execution": {
     "iopub.execute_input": "2024-09-02T15:29:10.017914Z",
     "iopub.status.busy": "2024-09-02T15:29:10.017496Z",
     "iopub.status.idle": "2024-09-02T15:29:10.033332Z",
     "shell.execute_reply": "2024-09-02T15:29:10.032129Z"
    },
    "papermill": {
     "duration": 0.290984,
     "end_time": "2024-09-02T15:29:10.035945",
     "exception": false,
     "start_time": "2024-09-02T15:29:09.744961",
     "status": "completed"
    },
    "tags": []
   },
   "outputs": [
    {
     "name": "stdout",
     "output_type": "stream",
     "text": [
      "MAE:  1.2455\n",
      "Precision: 0.6729\n",
      "Recall: 1.0000\n",
      "F-measure: 0.7012\n"
     ]
    }
   ],
   "source": [
    "mae_0 = accuracy.mae(predictions_0)\n",
    "p_0, r_0, f_0 = precision_recall_fmeasure(predictions_0)\n",
    "print(f'Precision: {p_0:.4f}')\n",
    "print(f'Recall: {r_0:.4f}')\n",
    "print(f'F-measure: {f_0:.4f}')"
   ]
  },
  {
   "cell_type": "code",
   "execution_count": 60,
   "id": "5fa0ce3f",
   "metadata": {
    "execution": {
     "iopub.execute_input": "2024-09-02T15:29:10.581770Z",
     "iopub.status.busy": "2024-09-02T15:29:10.581305Z",
     "iopub.status.idle": "2024-09-02T15:29:10.640212Z",
     "shell.execute_reply": "2024-09-02T15:29:10.638991Z"
    },
    "papermill": {
     "duration": 0.333336,
     "end_time": "2024-09-02T15:29:10.643204",
     "exception": false,
     "start_time": "2024-09-02T15:29:10.309868",
     "status": "completed"
    },
    "tags": []
   },
   "outputs": [],
   "source": [
    "# train the data_1 using SVD algorithm\n",
    "algo_1 = SVD()\n",
    "algo_1.fit(train_data_1)\n",
    "\n",
    "# test the trained model\n",
    "predictions_1 = algo_1.test(test_data_1)"
   ]
  },
  {
   "cell_type": "code",
   "execution_count": 61,
   "id": "eaaa3cd9",
   "metadata": {
    "execution": {
     "iopub.execute_input": "2024-09-02T15:29:11.183581Z",
     "iopub.status.busy": "2024-09-02T15:29:11.182576Z",
     "iopub.status.idle": "2024-09-02T15:29:11.197713Z",
     "shell.execute_reply": "2024-09-02T15:29:11.196508Z"
    },
    "papermill": {
     "duration": 0.288075,
     "end_time": "2024-09-02T15:29:11.200242",
     "exception": false,
     "start_time": "2024-09-02T15:29:10.912167",
     "status": "completed"
    },
    "tags": []
   },
   "outputs": [
    {
     "name": "stdout",
     "output_type": "stream",
     "text": [
      "MAE:  1.2526\n",
      "Precision: 0.7191\n",
      "Recall: 1.0000\n",
      "F-measure: 0.7461\n"
     ]
    }
   ],
   "source": [
    "mae_1 = accuracy.mae(predictions_1)\n",
    "p_1, r_1, f_1 = precision_recall_fmeasure(predictions_1)\n",
    "print(f'Precision: {p_1:.4f}')\n",
    "print(f'Recall: {r_1:.4f}')\n",
    "print(f'F-measure: {f_1:.4f}')"
   ]
  },
  {
   "cell_type": "code",
   "execution_count": 62,
   "id": "fc218fb0",
   "metadata": {
    "execution": {
     "iopub.execute_input": "2024-09-02T15:29:11.735927Z",
     "iopub.status.busy": "2024-09-02T15:29:11.735433Z",
     "iopub.status.idle": "2024-09-02T15:29:11.792583Z",
     "shell.execute_reply": "2024-09-02T15:29:11.791500Z"
    },
    "papermill": {
     "duration": 0.327139,
     "end_time": "2024-09-02T15:29:11.795250",
     "exception": false,
     "start_time": "2024-09-02T15:29:11.468111",
     "status": "completed"
    },
    "tags": []
   },
   "outputs": [],
   "source": [
    "# train the data_2 using SVD algorithm\n",
    "algo_2 = SVD()\n",
    "algo_2.fit(train_data_2)\n",
    "\n",
    "# test the trained model\n",
    "predictions_2 = algo_2.test(test_data_2)"
   ]
  },
  {
   "cell_type": "code",
   "execution_count": 63,
   "id": "caa05293",
   "metadata": {
    "execution": {
     "iopub.execute_input": "2024-09-02T15:29:12.412061Z",
     "iopub.status.busy": "2024-09-02T15:29:12.411661Z",
     "iopub.status.idle": "2024-09-02T15:29:12.426092Z",
     "shell.execute_reply": "2024-09-02T15:29:12.424570Z"
    },
    "papermill": {
     "duration": 0.29097,
     "end_time": "2024-09-02T15:29:12.428761",
     "exception": false,
     "start_time": "2024-09-02T15:29:12.137791",
     "status": "completed"
    },
    "tags": []
   },
   "outputs": [
    {
     "name": "stdout",
     "output_type": "stream",
     "text": [
      "MAE:  1.2131\n",
      "Precision: 0.6705\n",
      "Recall: 1.0000\n",
      "F-measure: 0.7041\n"
     ]
    }
   ],
   "source": [
    "mae_2 = accuracy.mae(predictions_2)\n",
    "p_2, r_2, f_2 = precision_recall_fmeasure(predictions_2)\n",
    "print(f'Precision: {p_2:.4f}')\n",
    "print(f'Recall: {r_2:.4f}')\n",
    "print(f'F-measure: {f_2:.4f}')"
   ]
  },
  {
   "cell_type": "code",
   "execution_count": 64,
   "id": "f11339aa",
   "metadata": {
    "execution": {
     "iopub.execute_input": "2024-09-02T15:29:12.965656Z",
     "iopub.status.busy": "2024-09-02T15:29:12.965144Z",
     "iopub.status.idle": "2024-09-02T15:29:13.021154Z",
     "shell.execute_reply": "2024-09-02T15:29:13.019856Z"
    },
    "papermill": {
     "duration": 0.327838,
     "end_time": "2024-09-02T15:29:13.023994",
     "exception": false,
     "start_time": "2024-09-02T15:29:12.696156",
     "status": "completed"
    },
    "tags": []
   },
   "outputs": [],
   "source": [
    "# train the data_3 using SVD algorithm\n",
    "algo_3 = SVD()\n",
    "algo_3.fit(train_data_3)\n",
    "\n",
    "# test the trained model\n",
    "predictions_3 = algo_3.test(test_data_3)"
   ]
  },
  {
   "cell_type": "code",
   "execution_count": 65,
   "id": "584c5da3",
   "metadata": {
    "execution": {
     "iopub.execute_input": "2024-09-02T15:29:13.578295Z",
     "iopub.status.busy": "2024-09-02T15:29:13.577905Z",
     "iopub.status.idle": "2024-09-02T15:29:13.592609Z",
     "shell.execute_reply": "2024-09-02T15:29:13.591458Z"
    },
    "papermill": {
     "duration": 0.293204,
     "end_time": "2024-09-02T15:29:13.595027",
     "exception": false,
     "start_time": "2024-09-02T15:29:13.301823",
     "status": "completed"
    },
    "tags": []
   },
   "outputs": [
    {
     "name": "stdout",
     "output_type": "stream",
     "text": [
      "MAE:  1.2087\n",
      "Precision: 0.7803\n",
      "Recall: 1.0000\n",
      "F-measure: 0.8017\n"
     ]
    }
   ],
   "source": [
    "mae_3 = accuracy.mae(predictions_3)\n",
    "p_3, r_3, f_3 = precision_recall_fmeasure(predictions_3)\n",
    "print(f'Precision: {p_3:.4f}')\n",
    "print(f'Recall: {r_3:.4f}')\n",
    "print(f'F-measure: {f_3:.4f}')"
   ]
  },
  {
   "cell_type": "code",
   "execution_count": 66,
   "id": "6e341ff1",
   "metadata": {
    "execution": {
     "iopub.execute_input": "2024-09-02T15:29:14.134194Z",
     "iopub.status.busy": "2024-09-02T15:29:14.133774Z",
     "iopub.status.idle": "2024-09-02T15:29:14.190399Z",
     "shell.execute_reply": "2024-09-02T15:29:14.189159Z"
    },
    "papermill": {
     "duration": 0.331183,
     "end_time": "2024-09-02T15:29:14.193137",
     "exception": false,
     "start_time": "2024-09-02T15:29:13.861954",
     "status": "completed"
    },
    "tags": []
   },
   "outputs": [],
   "source": [
    "# train the data_4 using SVD algorithm\n",
    "algo_4 = SVD()\n",
    "algo_4.fit(train_data_4)\n",
    "\n",
    "# test the trained model\n",
    "predictions_4 = algo_4.test(test_data_4)"
   ]
  },
  {
   "cell_type": "code",
   "execution_count": 67,
   "id": "bda67dae",
   "metadata": {
    "execution": {
     "iopub.execute_input": "2024-09-02T15:29:14.807425Z",
     "iopub.status.busy": "2024-09-02T15:29:14.807001Z",
     "iopub.status.idle": "2024-09-02T15:29:14.822149Z",
     "shell.execute_reply": "2024-09-02T15:29:14.820806Z"
    },
    "papermill": {
     "duration": 0.287761,
     "end_time": "2024-09-02T15:29:14.824913",
     "exception": false,
     "start_time": "2024-09-02T15:29:14.537152",
     "status": "completed"
    },
    "tags": []
   },
   "outputs": [
    {
     "name": "stdout",
     "output_type": "stream",
     "text": [
      "MAE:  1.2618\n",
      "Precision: 0.7018\n",
      "Recall: 1.0000\n",
      "F-measure: 0.7282\n"
     ]
    }
   ],
   "source": [
    "mae_4 = accuracy.mae(predictions_4)\n",
    "p_4, r_4, f_4 = precision_recall_fmeasure(predictions_4)\n",
    "print(f'Precision: {p_4:.4f}')\n",
    "print(f'Recall: {r_4:.4f}')\n",
    "print(f'F-measure: {f_4:.4f}')"
   ]
  },
  {
   "cell_type": "markdown",
   "id": "17988de0",
   "metadata": {
    "papermill": {
     "duration": 0.268211,
     "end_time": "2024-09-02T15:29:15.369232",
     "exception": false,
     "start_time": "2024-09-02T15:29:15.101021",
     "status": "completed"
    },
    "tags": []
   },
   "source": [
    "Draw plot to understand the methods difference better"
   ]
  },
  {
   "cell_type": "code",
   "execution_count": 68,
   "id": "cb1f0194",
   "metadata": {
    "execution": {
     "iopub.execute_input": "2024-09-02T15:29:15.900273Z",
     "iopub.status.busy": "2024-09-02T15:29:15.899888Z",
     "iopub.status.idle": "2024-09-02T15:29:16.203082Z",
     "shell.execute_reply": "2024-09-02T15:29:16.201589Z"
    },
    "papermill": {
     "duration": 0.572762,
     "end_time": "2024-09-02T15:29:16.205924",
     "exception": false,
     "start_time": "2024-09-02T15:29:15.633162",
     "status": "completed"
    },
    "tags": []
   },
   "outputs": [
    {
     "data": {
      "image/png": "[encoded data removed]",
      "text/plain": [
       "<Figure size 640x480 with 1 Axes>"
      ]
     },
     "metadata": {},
     "output_type": "display_data"
    }
   ],
   "source": [
    "metrics = ['MAE', 'Precision', 'Recall', 'F-measure']\n",
    "\n",
    "x = np.arange(len(metrics))\n",
    "y0 = [mae_0, p_0, r_0, f_0]\n",
    "y1 = [mae_1, p_1, r_1, f_1]\n",
    "y2 = [mae_2, p_2, r_2, f_2]\n",
    "y3 = [mae_3, p_3, r_3, f_3]\n",
    "y4 = [mae_4, p_4, r_4, f_4]\n",
    "width = 0.15  # the width of the bars\n",
    "\n",
    "# plot data in grouped manner of bar type \n",
    "plt.bar(x-0.3, y0, width, color=color_0) \n",
    "plt.bar(x-0.15, y1, width, color=color_1) \n",
    "plt.bar(x, y2, width, color=color_2) \n",
    "plt.bar(x+0.15, y3, width, color=color_3) \n",
    "plt.bar(x+0.3, y4, width, color=color_4)\n",
    "\n",
    "plt.xticks(x, metrics)\n",
    "plt.title('Metrics Comparison with Different Methods')\n",
    "plt.xlabel('Metrics') \n",
    "plt.ylabel('Scores') \n",
    "plt.legend(\n",
    "    ['Paper', 'Content-Based Similarity', 'Time-Based Decay', 'Optimized Sigma - Cuckoo Search', 'Decay Model Selection'], \n",
    "    loc='upper left', \n",
    "    bbox_to_anchor=(1, 1)) \n",
    "plt.show() "
   ]
  },
  {
   "cell_type": "code",
   "execution_count": 69,
   "id": "9fbb0767",
   "metadata": {
    "execution": {
     "iopub.execute_input": "2024-09-02T15:29:16.775259Z",
     "iopub.status.busy": "2024-09-02T15:29:16.774832Z",
     "iopub.status.idle": "2024-09-02T15:29:16.798722Z",
     "shell.execute_reply": "2024-09-02T15:29:16.796953Z"
    },
    "papermill": {
     "duration": 0.313621,
     "end_time": "2024-09-02T15:29:16.801528",
     "exception": false,
     "start_time": "2024-09-02T15:29:16.487907",
     "status": "completed"
    },
    "tags": []
   },
   "outputs": [
    {
     "data": {
      "text/html": [
       "<div>\n",
       "<style scoped>\n",
       "    .dataframe tbody tr th:only-of-type {\n",
       "        vertical-align: middle;\n",
       "    }\n",
       "\n",
       "    .dataframe tbody tr th {\n",
       "        vertical-align: top;\n",
       "    }\n",
       "\n",
       "    .dataframe thead th {\n",
       "        text-align: right;\n",
       "    }\n",
       "</style>\n",
       "<table border=\"1\" class=\"dataframe\">\n",
       "  <thead>\n",
       "    <tr style=\"text-align: right;\">\n",
       "      <th></th>\n",
       "      <th>Paper</th>\n",
       "      <th>Content-Based Similarity</th>\n",
       "      <th>Time-Based Decay</th>\n",
       "      <th>Optimized Sigma - Cuckoo Search</th>\n",
       "      <th>Decay Model Selection</th>\n",
       "    </tr>\n",
       "  </thead>\n",
       "  <tbody>\n",
       "    <tr>\n",
       "      <th>MAE</th>\n",
       "      <td>1.245497</td>\n",
       "      <td>1.252587</td>\n",
       "      <td>1.213063</td>\n",
       "      <td>1.208660</td>\n",
       "      <td>1.261776</td>\n",
       "    </tr>\n",
       "    <tr>\n",
       "      <th>Precision</th>\n",
       "      <td>0.672896</td>\n",
       "      <td>0.719085</td>\n",
       "      <td>0.670470</td>\n",
       "      <td>0.780339</td>\n",
       "      <td>0.701814</td>\n",
       "    </tr>\n",
       "    <tr>\n",
       "      <th>Recall</th>\n",
       "      <td>1.000000</td>\n",
       "      <td>1.000000</td>\n",
       "      <td>1.000000</td>\n",
       "      <td>1.000000</td>\n",
       "      <td>1.000000</td>\n",
       "    </tr>\n",
       "    <tr>\n",
       "      <th>F-measure</th>\n",
       "      <td>0.701223</td>\n",
       "      <td>0.746100</td>\n",
       "      <td>0.704079</td>\n",
       "      <td>0.801724</td>\n",
       "      <td>0.728154</td>\n",
       "    </tr>\n",
       "  </tbody>\n",
       "</table>\n",
       "</div>"
      ],
      "text/plain": [
       "              Paper  Content-Based Similarity  Time-Based Decay  \\\n",
       "MAE        1.245497                  1.252587          1.213063   \n",
       "Precision  0.672896                  0.719085          0.670470   \n",
       "Recall     1.000000                  1.000000          1.000000   \n",
       "F-measure  0.701223                  0.746100          0.704079   \n",
       "\n",
       "           Optimized Sigma - Cuckoo Search  Decay Model Selection  \n",
       "MAE                               1.208660               1.261776  \n",
       "Precision                         0.780339               0.701814  \n",
       "Recall                            1.000000               1.000000  \n",
       "F-measure                         0.801724               0.728154  "
      ]
     },
     "execution_count": 69,
     "metadata": {},
     "output_type": "execute_result"
    }
   ],
   "source": [
    "metrics = ['MAE', 'Precision', 'Recall', 'F-measure']\n",
    "methods = ['Paper', 'Content-Based Similarity', 'Time-Based Decay', 'Optimized Sigma - Cuckoo Search', 'Decay Model Selection']\n",
    "\n",
    "values = {\n",
    "    'Paper': [mae_0, p_0, r_0, f_0],\n",
    "    'Content-Based Similarity': [mae_1, p_1, r_1, f_1],\n",
    "    'Time-Based Decay': [mae_2, p_2, r_2, f_2],\n",
    "    'Optimized Sigma - Cuckoo Search': [mae_3, p_3, r_3, f_3],\n",
    "    'Decay Model Selection': [mae_4, p_4, r_4, f_4]\n",
    "}\n",
    "\n",
    "metrics_table = pd.DataFrame(values, index=metrics)\n",
    "metrics_table.head(10)"
   ]
  },
  {
   "cell_type": "markdown",
   "id": "1443913e",
   "metadata": {
    "papermill": {
     "duration": 0.288209,
     "end_time": "2024-09-02T15:29:17.464602",
     "exception": false,
     "start_time": "2024-09-02T15:29:17.176393",
     "status": "completed"
    },
    "tags": []
   },
   "source": [
    "Function to recommend top n popular items for new user"
   ]
  },
  {
   "cell_type": "code",
   "execution_count": 70,
   "id": "7953918a",
   "metadata": {
    "execution": {
     "iopub.execute_input": "2024-09-02T15:29:18.009891Z",
     "iopub.status.busy": "2024-09-02T15:29:18.009432Z",
     "iopub.status.idle": "2024-09-02T15:29:18.017020Z",
     "shell.execute_reply": "2024-09-02T15:29:18.015580Z"
    },
    "papermill": {
     "duration": 0.282805,
     "end_time": "2024-09-02T15:29:18.019642",
     "exception": false,
     "start_time": "2024-09-02T15:29:17.736837",
     "status": "completed"
    },
    "tags": []
   },
   "outputs": [],
   "source": [
    "def get_top_n_popular(predictions, n=10):\n",
    "    # Calculate item popularity\n",
    "    item_popularity = {}\n",
    "    for uid, iid, true_r, est, _ in predictions:\n",
    "        if iid in item_popularity:\n",
    "            item_popularity[iid] += est\n",
    "        else:\n",
    "            item_popularity[iid] = est\n",
    "    \n",
    "    # Sort items by popularity (descending order)\n",
    "    sorted_items = sorted(item_popularity.items(), key=lambda x: x[1], reverse=True)\n",
    "\n",
    "    # Return the top-n most popular items\n",
    "    return [item for item, _ in sorted_items[:n]]"
   ]
  },
  {
   "cell_type": "markdown",
   "id": "385d80a8",
   "metadata": {
    "papermill": {
     "duration": 0.28357,
     "end_time": "2024-09-02T15:29:18.576319",
     "exception": false,
     "start_time": "2024-09-02T15:29:18.292749",
     "status": "completed"
    },
    "tags": []
   },
   "source": [
    "Function to recommend top n products to user"
   ]
  },
  {
   "cell_type": "code",
   "execution_count": 71,
   "id": "018452fd",
   "metadata": {
    "execution": {
     "iopub.execute_input": "2024-09-02T15:29:19.116872Z",
     "iopub.status.busy": "2024-09-02T15:29:19.116425Z",
     "iopub.status.idle": "2024-09-02T15:29:19.125114Z",
     "shell.execute_reply": "2024-09-02T15:29:19.123873Z"
    },
    "papermill": {
     "duration": 0.283772,
     "end_time": "2024-09-02T15:29:19.127435",
     "exception": false,
     "start_time": "2024-09-02T15:29:18.843663",
     "status": "completed"
    },
    "tags": []
   },
   "outputs": [],
   "source": [
    "def get_top_n(predictions, n=10):\n",
    "    # First map the predictions to each user.\n",
    "    top_n = {}\n",
    "    for uid, iid, true_r, est, _ in predictions:\n",
    "        if uid in top_n:\n",
    "            top_n[uid].append((iid, est))\n",
    "        else:\n",
    "            top_n[uid] = [(iid, est)]\n",
    "\n",
    "    # Then sort the predictions for each user and retrieve the k highest ones.\n",
    "    for uid, user_ratings in top_n.items():\n",
    "        user_ratings.sort(key=lambda x: x[1], reverse=True)\n",
    "        top_n[uid] = user_ratings[:n]\n",
    "        \n",
    "    # Get the top-n popular items\n",
    "    top_n_popular = get_top_n_popular(predictions, n)\n",
    "\n",
    "    # Fill up the remaining spots with popular items\n",
    "    for uid, user_ratings in top_n.items():\n",
    "        if len(user_ratings) < n:\n",
    "            remaining_spots = n - len(user_ratings)\n",
    "            top_n[uid].extend(top_n_popular[:remaining_spots])\n",
    "\n",
    "    return top_n"
   ]
  },
  {
   "cell_type": "code",
   "execution_count": 72,
   "id": "1ac87c2d",
   "metadata": {
    "execution": {
     "iopub.execute_input": "2024-09-02T15:29:19.748132Z",
     "iopub.status.busy": "2024-09-02T15:29:19.747143Z",
     "iopub.status.idle": "2024-09-02T15:29:19.755575Z",
     "shell.execute_reply": "2024-09-02T15:29:19.754348Z"
    },
    "papermill": {
     "duration": 0.279201,
     "end_time": "2024-09-02T15:29:19.758047",
     "exception": false,
     "start_time": "2024-09-02T15:29:19.478846",
     "status": "completed"
    },
    "tags": []
   },
   "outputs": [],
   "source": [
    "# get the top recommended n items for all users in predicted dataset\n",
    "top_n_0 = get_top_n(predictions_0, n=10)"
   ]
  },
  {
   "cell_type": "code",
   "execution_count": 73,
   "id": "ec735f04",
   "metadata": {
    "execution": {
     "iopub.execute_input": "2024-09-02T15:29:20.293316Z",
     "iopub.status.busy": "2024-09-02T15:29:20.292878Z",
     "iopub.status.idle": "2024-09-02T15:29:23.344325Z",
     "shell.execute_reply": "2024-09-02T15:29:23.342877Z"
    },
    "papermill": {
     "duration": 3.322064,
     "end_time": "2024-09-02T15:29:23.346982",
     "exception": false,
     "start_time": "2024-09-02T15:29:20.024918",
     "status": "completed"
    },
    "tags": []
   },
   "outputs": [
    {
     "name": "stdout",
     "output_type": "stream",
     "text": [
      "Top 10 recommended products for user AHK5WGRRDPYA6IT5NKH7ZLKH4ECQ:\n",
      "1. JETech Slim Fit Case for iPhone SE 2nd Generation, iPhone 8 and iPhone 7, 2-Layer Protective Cover, Thin, Carbon Fiber, Grey\n",
      "2. Mr Shield [Tempered Glass] Screen Protector For iPhone 6 / iPhone 6S / iPhone 7 / iPhone 8 [3-Pack] Screen Protector\n",
      "3. iPhone 11 Pro Max Case, Shockproof Ultra Slim Fit Silicone Black Cover TPU Soft Gel Rubber Cover Shock Resistance Protective Back Bumper for Apple iPhone 11 Pro Max Black\n",
      "* 4. JOTO Universal Waterproof Phone Pouch Cellphone Dry Bag Case Compatible with iPhone 14 13 12 11 Pro Max Mini Xs XR X 8 7 6S Plus SE, Galaxy S21 S20 S10 Plus Note 10+ 9, Pixel 4 XL up to 7\" -Green\n",
      "* 5. Ailun Glass Screen Protector Compatible for iPhone 11/XR,6.1 Inch 3 Pack Tempered Glass\n",
      "* 6. Amazon Basics Multi-tip Stylus Tablet Pen for Touchscreen Devices - Black, 4-Pack\n",
      "* 7. The Friendly Swede Replacement Tips for The Friendly Swede Stylus Pen 5.5\" with Replaceable Thin-Tip, iPad Pointer Rubber Tip Stylus Tips, Fine Tip Stylus Replacement Tips - 12 Pieces Stylus Pen Tips\n",
      "* 8. Mkeke Compatible with iPhone 11 Screen Protector for iPhone XR Screen Protector, Tempered Glass Film for Apple iPhone 11 and iPhone XR, 3-Pack Clear\n",
      "* 9. JETech Case for iPhone 6 and iPhone 6s, Shock-Absorption Bumper Cover, Anti-Scratch Clear Back (Rose Gold)\n",
      "* 10. OtterBox SYMMETRY SERIES Case for iPhone 7 (ONLY) - Retail Packaging - BLACK\n"
     ]
    }
   ],
   "source": [
    "# Print the recommended items for the target user we chose previously\n",
    "if target_user_id in top_n_0:\n",
    "    user_recommendations = top_n_0[target_user_id]\n",
    "    print(f'Top 10 recommended products for user {target_user_id}:')\n",
    "    for i in range(len(user_recommendations)):\n",
    "        if type(user_recommendations[i]) == tuple:\n",
    "            product_meta = meta_data[meta_data['parent_asin'] == user_recommendations[i][0]]\n",
    "        else:\n",
    "            print('* ', end='')\n",
    "            product_meta = meta_data[meta_data['parent_asin'] == user_recommendations[i]]\n",
    "        print(f\"{i + 1}. {product_meta['title'].values[0]}\")\n",
    "else:\n",
    "    print(len(df[df['user_id'] == target_user_id]))"
   ]
  },
  {
   "cell_type": "code",
   "execution_count": 74,
   "id": "fba474f8",
   "metadata": {
    "execution": {
     "iopub.execute_input": "2024-09-02T15:29:23.893973Z",
     "iopub.status.busy": "2024-09-02T15:29:23.893245Z",
     "iopub.status.idle": "2024-09-02T15:29:26.908578Z",
     "shell.execute_reply": "2024-09-02T15:29:26.907072Z"
    },
    "papermill": {
     "duration": 3.294654,
     "end_time": "2024-09-02T15:29:26.911155",
     "exception": false,
     "start_time": "2024-09-02T15:29:23.616501",
     "status": "completed"
    },
    "tags": []
   },
   "outputs": [
    {
     "name": "stdout",
     "output_type": "stream",
     "text": [
      "Top 10 recommended products for user AHZZJQYNVZUJNPNQ737ITGEQUB4A:\n",
      "1. Supershieldz (3 Pack) Designed for Samsung Galaxy A53 5G / A52 / A52 5G / A51 / A51 5G / A51 5G UW Tempered Glass Screen Protector, Anti Scratch, Bubble Free\n",
      "* 2. JOTO Universal Waterproof Phone Pouch Cellphone Dry Bag Case Compatible with iPhone 14 13 12 11 Pro Max Mini Xs XR X 8 7 6S Plus SE, Galaxy S21 S20 S10 Plus Note 10+ 9, Pixel 4 XL up to 7\" -Green\n",
      "* 3. Ailun Glass Screen Protector Compatible for iPhone 11/XR,6.1 Inch 3 Pack Tempered Glass\n",
      "* 4. Amazon Basics Multi-tip Stylus Tablet Pen for Touchscreen Devices - Black, 4-Pack\n",
      "* 5. The Friendly Swede Replacement Tips for The Friendly Swede Stylus Pen 5.5\" with Replaceable Thin-Tip, iPad Pointer Rubber Tip Stylus Tips, Fine Tip Stylus Replacement Tips - 12 Pieces Stylus Pen Tips\n",
      "* 6. Mkeke Compatible with iPhone 11 Screen Protector for iPhone XR Screen Protector, Tempered Glass Film for Apple iPhone 11 and iPhone XR, 3-Pack Clear\n",
      "* 7. JETech Case for iPhone 6 and iPhone 6s, Shock-Absorption Bumper Cover, Anti-Scratch Clear Back (Rose Gold)\n",
      "* 8. OtterBox SYMMETRY SERIES Case for iPhone 7 (ONLY) - Retail Packaging - BLACK\n",
      "* 9. JJGoo Compatible with iPhone 11 Case, Clear Glitter Sparkle Bling Anti-Scratch Shockproof Protective Flexible Phone Cases Cute Slim Thin Bumper Cover for Women Girls (6.1 inch) 2019\n",
      "* 10. Spigen Ultra Hybrid Designed for iPhone Xs Case (2018) / Designed for iPhone X Case (2017) - Crystal Clear\n"
     ]
    }
   ],
   "source": [
    "# Print the recommended items for a random user\n",
    "user_recommendations = top_n_0[list(top_n_0.keys())[random.randint(0, len(top_n_0))]]\n",
    "print(f'Top 10 recommended products for user {user_id}:')\n",
    "\n",
    "for i in range(len(user_recommendations)):\n",
    "    if type(user_recommendations[i]) == tuple:\n",
    "        product_meta = meta_data[meta_data['parent_asin'] == user_recommendations[i][0]]\n",
    "    else:\n",
    "        print('* ', end='')\n",
    "        product_meta = meta_data[meta_data['parent_asin'] == user_recommendations[i]]\n",
    "    \n",
    "    print(f\"{i + 1}. {product_meta['title'].values[0]}\")"
   ]
  },
  {
   "cell_type": "code",
   "execution_count": 75,
   "id": "10e17eaa",
   "metadata": {
    "execution": {
     "iopub.execute_input": "2024-09-02T15:29:27.477742Z",
     "iopub.status.busy": "2024-09-02T15:29:27.477274Z",
     "iopub.status.idle": "2024-09-02T15:29:27.486103Z",
     "shell.execute_reply": "2024-09-02T15:29:27.484541Z"
    },
    "papermill": {
     "duration": 0.293713,
     "end_time": "2024-09-02T15:29:27.488517",
     "exception": false,
     "start_time": "2024-09-02T15:29:27.194804",
     "status": "completed"
    },
    "tags": []
   },
   "outputs": [],
   "source": [
    "# get the top recommended n items for all users in predicted dataset\n",
    "top_n_1 = get_top_n(predictions_1, n=10)"
   ]
  },
  {
   "cell_type": "code",
   "execution_count": 76,
   "id": "005557ff",
   "metadata": {
    "execution": {
     "iopub.execute_input": "2024-09-02T15:29:28.129446Z",
     "iopub.status.busy": "2024-09-02T15:29:28.128555Z",
     "iopub.status.idle": "2024-09-02T15:29:31.131605Z",
     "shell.execute_reply": "2024-09-02T15:29:31.130274Z"
    },
    "papermill": {
     "duration": 3.289,
     "end_time": "2024-09-02T15:29:31.134282",
     "exception": false,
     "start_time": "2024-09-02T15:29:27.845282",
     "status": "completed"
    },
    "tags": []
   },
   "outputs": [
    {
     "name": "stdout",
     "output_type": "stream",
     "text": [
      "Top 10 recommended products for user AHK5WGRRDPYA6IT5NKH7ZLKH4ECQ:\n",
      "1. JETech Slim Fit Case for iPhone SE 2nd Generation, iPhone 8 and iPhone 7, 2-Layer Protective Cover, Thin, Carbon Fiber, Grey\n",
      "2. Mr Shield [Tempered Glass] Screen Protector For iPhone 6 / iPhone 6S / iPhone 7 / iPhone 8 [3-Pack] Screen Protector\n",
      "3. iPhone 11 Pro Max Case, Shockproof Ultra Slim Fit Silicone Black Cover TPU Soft Gel Rubber Cover Shock Resistance Protective Back Bumper for Apple iPhone 11 Pro Max Black\n",
      "* 4. amFilm Screen Protector 4.7“ for Apple iPhone 8, iPhone 7, iPhone 6S and iPhone 6, Tempered Glass 4.7“, 2 Pack\n",
      "* 5. Stylus, iBart Mesh Fiber Tip Series Precision Stylus Pens for Touch Screens Devices, iPhone, iPad, Kindle, Tablet (10 Colors)\n",
      "* 6. JOTO Universal Waterproof Phone Pouch Cellphone Dry Bag Case Compatible with iPhone 14 13 12 11 Pro Max Mini Xs XR X 8 7 6S Plus SE, Galaxy S21 S20 S10 Plus Note 10+ 9, Pixel 4 XL up to 7\" -Green\n",
      "* 7. Mr Shield [Tempered Glass] Screen Protector For iPhone 6 / iPhone 6S / iPhone 7 / iPhone 8 [3-Pack] Screen Protector\n",
      "* 8. OMOTON 9H Hardness HD Tempered Glass Screen Protector for Apple iPhone 8 Plus / iPhone 7 Plus, 2 Pack\n",
      "* 9. UniqueMe [2+2 Pack] Camera Lens Protector and Screen Protector for Samsung Galaxy A71 4G / 5G,Tempered Glass [Easy Installation Frame] HD Clear [Anti-Scratch] [Bubble Free]\n",
      "* 10. OtterBox Defender Series Case & Holster for Apple iPhone 4/4S Retail Packaging - Black\n"
     ]
    }
   ],
   "source": [
    "# Print the recommended items for the target user we chose previously\n",
    "if target_user_id in top_n_1:\n",
    "    user_recommendations = top_n_1[target_user_id]\n",
    "    print(f'Top 10 recommended products for user {target_user_id}:')\n",
    "    for i in range(len(user_recommendations)):\n",
    "        if type(user_recommendations[i]) == tuple:\n",
    "            product_meta = meta_data[meta_data['parent_asin'] == user_recommendations[i][0]]\n",
    "        else:\n",
    "            print('* ', end='')\n",
    "            product_meta = meta_data[meta_data['parent_asin'] == user_recommendations[i]]\n",
    "        print(f\"{i + 1}. {product_meta['title'].values[0]}\")\n",
    "else:\n",
    "    print(len(df[df['user_id'] == target_user_id]))"
   ]
  },
  {
   "cell_type": "code",
   "execution_count": 77,
   "id": "e1164638",
   "metadata": {
    "execution": {
     "iopub.execute_input": "2024-09-02T15:29:31.688186Z",
     "iopub.status.busy": "2024-09-02T15:29:31.687756Z",
     "iopub.status.idle": "2024-09-02T15:29:34.685254Z",
     "shell.execute_reply": "2024-09-02T15:29:34.683836Z"
    },
    "papermill": {
     "duration": 3.272554,
     "end_time": "2024-09-02T15:29:34.687654",
     "exception": false,
     "start_time": "2024-09-02T15:29:31.415100",
     "status": "completed"
    },
    "tags": []
   },
   "outputs": [
    {
     "name": "stdout",
     "output_type": "stream",
     "text": [
      "Top 10 recommended products for user AHZZJQYNVZUJNPNQ737ITGEQUB4A:\n",
      "1. Galaxy S7 Waterproof Case, Ghostek Atomic 2.0 Series for Samsung Galaxy S7 (Pink)\n",
      "* 2. amFilm Screen Protector 4.7“ for Apple iPhone 8, iPhone 7, iPhone 6S and iPhone 6, Tempered Glass 4.7“, 2 Pack\n",
      "* 3. Stylus, iBart Mesh Fiber Tip Series Precision Stylus Pens for Touch Screens Devices, iPhone, iPad, Kindle, Tablet (10 Colors)\n",
      "* 4. JOTO Universal Waterproof Phone Pouch Cellphone Dry Bag Case Compatible with iPhone 14 13 12 11 Pro Max Mini Xs XR X 8 7 6S Plus SE, Galaxy S21 S20 S10 Plus Note 10+ 9, Pixel 4 XL up to 7\" -Green\n",
      "* 5. Mr Shield [Tempered Glass] Screen Protector For iPhone 6 / iPhone 6S / iPhone 7 / iPhone 8 [3-Pack] Screen Protector\n",
      "* 6. OMOTON 9H Hardness HD Tempered Glass Screen Protector for Apple iPhone 8 Plus / iPhone 7 Plus, 2 Pack\n",
      "* 7. UniqueMe [2+2 Pack] Camera Lens Protector and Screen Protector for Samsung Galaxy A71 4G / 5G,Tempered Glass [Easy Installation Frame] HD Clear [Anti-Scratch] [Bubble Free]\n",
      "* 8. OtterBox Defender Series Case & Holster for Apple iPhone 4/4S Retail Packaging - Black\n",
      "* 9. TRIBE Running Phone Holder Armband. iPhone & Galaxy Cell Phone Sports Arm Bands for Women, Men, Runners, Jogging, Walking, Exercise & Gym Workout. Fits All Smartphones. Adjustable Strap, CC/Key Pocket\n",
      "* 10. Bargains Depot (2 Pcs) [New Upgraded][0.18-inch Small Tip Series] 2-in-1 Stylus/Styli 5.5-inch L with 10 Replacement Rubber Tips -Black/Pink\n"
     ]
    }
   ],
   "source": [
    "# Print the recommended items for a random user\n",
    "user_recommendations = top_n_1[list(top_n_1.keys())[random.randint(0, len(top_n_1))]]\n",
    "print(f'Top 10 recommended products for user {user_id}:')\n",
    "\n",
    "for i in range(len(user_recommendations)):\n",
    "    if type(user_recommendations[i]) == tuple:\n",
    "        product_meta = meta_data[meta_data['parent_asin'] == user_recommendations[i][0]]\n",
    "    else:\n",
    "        print('* ', end='')\n",
    "        product_meta = meta_data[meta_data['parent_asin'] == user_recommendations[i]]\n",
    "    \n",
    "    print(f\"{i + 1}. {product_meta['title'].values[0]}\")"
   ]
  },
  {
   "cell_type": "code",
   "execution_count": 78,
   "id": "5743f203",
   "metadata": {
    "execution": {
     "iopub.execute_input": "2024-09-02T15:29:35.244695Z",
     "iopub.status.busy": "2024-09-02T15:29:35.244185Z",
     "iopub.status.idle": "2024-09-02T15:29:35.253120Z",
     "shell.execute_reply": "2024-09-02T15:29:35.251741Z"
    },
    "papermill": {
     "duration": 0.294066,
     "end_time": "2024-09-02T15:29:35.255831",
     "exception": false,
     "start_time": "2024-09-02T15:29:34.961765",
     "status": "completed"
    },
    "tags": []
   },
   "outputs": [],
   "source": [
    "# get the top recommended n items for all users in predicted dataset\n",
    "top_n_2 = get_top_n(predictions_2, n=10)"
   ]
  },
  {
   "cell_type": "code",
   "execution_count": 79,
   "id": "28d5b981",
   "metadata": {
    "execution": {
     "iopub.execute_input": "2024-09-02T15:29:35.804586Z",
     "iopub.status.busy": "2024-09-02T15:29:35.804091Z",
     "iopub.status.idle": "2024-09-02T15:29:38.772233Z",
     "shell.execute_reply": "2024-09-02T15:29:38.770861Z"
    },
    "papermill": {
     "duration": 3.245597,
     "end_time": "2024-09-02T15:29:38.774993",
     "exception": false,
     "start_time": "2024-09-02T15:29:35.529396",
     "status": "completed"
    },
    "tags": []
   },
   "outputs": [
    {
     "name": "stdout",
     "output_type": "stream",
     "text": [
      "Top 10 recommended products for user AHK5WGRRDPYA6IT5NKH7ZLKH4ECQ:\n",
      "1. JETech Slim Fit Case for iPhone SE 2nd Generation, iPhone 8 and iPhone 7, 2-Layer Protective Cover, Thin, Carbon Fiber, Grey\n",
      "2. Mr Shield [Tempered Glass] Screen Protector For iPhone 6 / iPhone 6S / iPhone 7 / iPhone 8 [3-Pack] Screen Protector\n",
      "3. iPhone 11 Pro Max Case, Shockproof Ultra Slim Fit Silicone Black Cover TPU Soft Gel Rubber Cover Shock Resistance Protective Back Bumper for Apple iPhone 11 Pro Max Black\n",
      "* 4. JOTO Universal Waterproof Phone Pouch Cellphone Dry Bag Case Compatible with iPhone 14 13 12 11 Pro Max Mini Xs XR X 8 7 6S Plus SE, Galaxy S21 S20 S10 Plus Note 10+ 9, Pixel 4 XL up to 7\" -Green\n",
      "* 5. amFilm Screen Protector 4.7“ for Apple iPhone 8, iPhone 7, iPhone 6S and iPhone 6, Tempered Glass 4.7“, 2 Pack\n",
      "* 6. Mr Shield [Tempered Glass] Screen Protector For iPhone 6 / iPhone 6S / iPhone 7 / iPhone 8 [3-Pack] Screen Protector\n",
      "* 7. Phone Tripod LINKCOOL 360 Degree Rotation Flexible Tripod Travel Octopus Tripod for iPhone/Smartphone/Ipad/DSLR/Sports Action Camera, with Bluetooth Wireless Remote Shutter\n",
      "* 8. Mkeke Compatible with iPhone 11 Screen Protector for iPhone XR Screen Protector, Tempered Glass Film for Apple iPhone 11 and iPhone XR, 3-Pack Clear\n",
      "* 9. Spigen Ultra Hybrid Designed for Apple iPhone 6S Case (2015) - Crystal Clear\n",
      "* 10. OMOTON 9H Hardness HD Tempered Glass Screen Protector for Apple iPhone 8 Plus / iPhone 7 Plus, 2 Pack\n"
     ]
    }
   ],
   "source": [
    "# Print the recommended items for the target user we chose previously\n",
    "if target_user_id in top_n_2:\n",
    "    user_recommendations = top_n_2[target_user_id]\n",
    "    print(f'Top 10 recommended products for user {target_user_id}:')\n",
    "    for i in range(len(user_recommendations)):\n",
    "        if type(user_recommendations[i]) == tuple:\n",
    "            product_meta = meta_data[meta_data['parent_asin'] == user_recommendations[i][0]]\n",
    "        else:\n",
    "            print('* ', end='')\n",
    "            product_meta = meta_data[meta_data['parent_asin'] == user_recommendations[i]]\n",
    "        print(f\"{i + 1}. {product_meta['title'].values[0]}\")\n",
    "else:\n",
    "    print(len(df[df['user_id'] == target_user_id]))"
   ]
  },
  {
   "cell_type": "code",
   "execution_count": 80,
   "id": "ff155366",
   "metadata": {
    "execution": {
     "iopub.execute_input": "2024-09-02T15:29:39.318038Z",
     "iopub.status.busy": "2024-09-02T15:29:39.317632Z",
     "iopub.status.idle": "2024-09-02T15:29:42.277148Z",
     "shell.execute_reply": "2024-09-02T15:29:42.276008Z"
    },
    "papermill": {
     "duration": 3.235287,
     "end_time": "2024-09-02T15:29:42.279817",
     "exception": false,
     "start_time": "2024-09-02T15:29:39.044530",
     "status": "completed"
    },
    "tags": []
   },
   "outputs": [
    {
     "name": "stdout",
     "output_type": "stream",
     "text": [
      "Top 10 recommended products for user AHZZJQYNVZUJNPNQ737ITGEQUB4A:\n",
      "1. Anuck Case for iPhone 8 Case, for iPhone 7 Case (4.7 inch), 3 in 1 Hybrid Heavy Duty Defender Case Sparkly Floating Liquid Glitter Protective Hard Shell Shockproof TPU Cover - Rose Gold\n",
      "* 2. JOTO Universal Waterproof Phone Pouch Cellphone Dry Bag Case Compatible with iPhone 14 13 12 11 Pro Max Mini Xs XR X 8 7 6S Plus SE, Galaxy S21 S20 S10 Plus Note 10+ 9, Pixel 4 XL up to 7\" -Green\n",
      "* 3. amFilm Screen Protector 4.7“ for Apple iPhone 8, iPhone 7, iPhone 6S and iPhone 6, Tempered Glass 4.7“, 2 Pack\n",
      "* 4. Mr Shield [Tempered Glass] Screen Protector For iPhone 6 / iPhone 6S / iPhone 7 / iPhone 8 [3-Pack] Screen Protector\n",
      "* 5. Phone Tripod LINKCOOL 360 Degree Rotation Flexible Tripod Travel Octopus Tripod for iPhone/Smartphone/Ipad/DSLR/Sports Action Camera, with Bluetooth Wireless Remote Shutter\n",
      "* 6. Mkeke Compatible with iPhone 11 Screen Protector for iPhone XR Screen Protector, Tempered Glass Film for Apple iPhone 11 and iPhone XR, 3-Pack Clear\n",
      "* 7. Spigen Ultra Hybrid Designed for Apple iPhone 6S Case (2015) - Crystal Clear\n",
      "* 8. OMOTON 9H Hardness HD Tempered Glass Screen Protector for Apple iPhone 8 Plus / iPhone 7 Plus, 2 Pack\n",
      "* 9. iPhone X Case, Ultra Slim iPhone X Case, 360 Degree Full Protection iPhone X Case with Free Tempered Glass Screen Protector, Fasion iPhone X case for 2019 (Rose Gold)\n",
      "* 10. Stylus Pen for iPad - Penyeah [4-in-1] High Sensitivity and Precision Touch Screen Stylus Disc Tip,Black Rubber Tip & Mesh Fiber Tip Universal for All Capacitive Touch Screen Device - Light Blue\n"
     ]
    }
   ],
   "source": [
    "# Print the recommended items for a random user\n",
    "user_recommendations = top_n_2[list(top_n_2.keys())[random.randint(0, len(top_n_2))]]\n",
    "print(f'Top 10 recommended products for user {user_id}:')\n",
    "\n",
    "for i in range(len(user_recommendations)):\n",
    "    if type(user_recommendations[i]) == tuple:\n",
    "        product_meta = meta_data[meta_data['parent_asin'] == user_recommendations[i][0]]\n",
    "    else:\n",
    "        print('* ', end='')\n",
    "        product_meta = meta_data[meta_data['parent_asin'] == user_recommendations[i]]\n",
    "    \n",
    "    print(f\"{i + 1}. {product_meta['title'].values[0]}\")"
   ]
  },
  {
   "cell_type": "code",
   "execution_count": 81,
   "id": "3b2ac740",
   "metadata": {
    "execution": {
     "iopub.execute_input": "2024-09-02T15:29:42.899690Z",
     "iopub.status.busy": "2024-09-02T15:29:42.898470Z",
     "iopub.status.idle": "2024-09-02T15:29:42.907514Z",
     "shell.execute_reply": "2024-09-02T15:29:42.906141Z"
    },
    "papermill": {
     "duration": 0.284846,
     "end_time": "2024-09-02T15:29:42.910067",
     "exception": false,
     "start_time": "2024-09-02T15:29:42.625221",
     "status": "completed"
    },
    "tags": []
   },
   "outputs": [],
   "source": [
    "# get the top recommended n items for all users in predicted dataset\n",
    "top_n_3 = get_top_n(predictions_3, n=10)"
   ]
  },
  {
   "cell_type": "code",
   "execution_count": 82,
   "id": "8a1fd6f3",
   "metadata": {
    "execution": {
     "iopub.execute_input": "2024-09-02T15:29:43.461101Z",
     "iopub.status.busy": "2024-09-02T15:29:43.460605Z",
     "iopub.status.idle": "2024-09-02T15:29:46.444146Z",
     "shell.execute_reply": "2024-09-02T15:29:46.442977Z"
    },
    "papermill": {
     "duration": 3.263618,
     "end_time": "2024-09-02T15:29:46.446506",
     "exception": false,
     "start_time": "2024-09-02T15:29:43.182888",
     "status": "completed"
    },
    "tags": []
   },
   "outputs": [
    {
     "name": "stdout",
     "output_type": "stream",
     "text": [
      "Top 10 recommended products for user AHK5WGRRDPYA6IT5NKH7ZLKH4ECQ:\n",
      "1. JETech Slim Fit Case for iPhone SE 2nd Generation, iPhone 8 and iPhone 7, 2-Layer Protective Cover, Thin, Carbon Fiber, Grey\n",
      "2. Mr Shield [Tempered Glass] Screen Protector For iPhone 6 / iPhone 6S / iPhone 7 / iPhone 8 [3-Pack] Screen Protector\n",
      "3. iPhone 11 Pro Max Case, Shockproof Ultra Slim Fit Silicone Black Cover TPU Soft Gel Rubber Cover Shock Resistance Protective Back Bumper for Apple iPhone 11 Pro Max Black\n",
      "* 4. OMOTON 9H Hardness HD Tempered Glass Screen Protector for Apple iPhone 8 Plus / iPhone 7 Plus, 2 Pack\n",
      "* 5. amFilm Screen Protector 4.7“ for Apple iPhone 8, iPhone 7, iPhone 6S and iPhone 6, Tempered Glass 4.7“, 2 Pack\n",
      "* 6. Mkeke Compatible with iPhone 11 Screen Protector for iPhone XR Screen Protector, Tempered Glass Film for Apple iPhone 11 and iPhone XR, 3-Pack Clear\n",
      "* 7. JOTO Universal Waterproof Phone Pouch Cellphone Dry Bag Case Compatible with iPhone 14 13 12 11 Pro Max Mini Xs XR X 8 7 6S Plus SE, Galaxy S21 S20 S10 Plus Note 10+ 9, Pixel 4 XL up to 7\" -Green\n",
      "* 8. Ailun Glass Screen Protector Compatible for iPhone 11/XR,6.1 Inch 3 Pack Tempered Glass\n",
      "* 9. JETech Screen Protector for iPhone 11 and iPhone XR, 6.1-Inch, Tempered Glass Film, 2-Pack\n",
      "* 10. Stylus Pen for iPad - Penyeah [4-in-1] High Sensitivity and Precision Touch Screen Stylus Disc Tip,Black Rubber Tip & Mesh Fiber Tip Universal for All Capacitive Touch Screen Device - Light Blue\n"
     ]
    }
   ],
   "source": [
    "# Print the recommended items for the target user we chose previously\n",
    "if target_user_id in top_n_3:\n",
    "    user_recommendations = top_n_3[target_user_id]\n",
    "    print(f'Top 10 recommended products for user {target_user_id}:')\n",
    "    for i in range(len(user_recommendations)):\n",
    "        if type(user_recommendations[i]) == tuple:\n",
    "            product_meta = meta_data[meta_data['parent_asin'] == user_recommendations[i][0]]\n",
    "        else:\n",
    "            print('* ', end='')\n",
    "            product_meta = meta_data[meta_data['parent_asin'] == user_recommendations[i]]\n",
    "        print(f\"{i + 1}. {product_meta['title'].values[0]}\")\n",
    "else:\n",
    "    print(len(df[df['user_id'] == target_user_id]))"
   ]
  },
  {
   "cell_type": "code",
   "execution_count": 83,
   "id": "aff1e94d",
   "metadata": {
    "execution": {
     "iopub.execute_input": "2024-09-02T15:29:47.020263Z",
     "iopub.status.busy": "2024-09-02T15:29:47.019847Z",
     "iopub.status.idle": "2024-09-02T15:29:49.985847Z",
     "shell.execute_reply": "2024-09-02T15:29:49.984587Z"
    },
    "papermill": {
     "duration": 3.266604,
     "end_time": "2024-09-02T15:29:49.988138",
     "exception": false,
     "start_time": "2024-09-02T15:29:46.721534",
     "status": "completed"
    },
    "tags": []
   },
   "outputs": [
    {
     "name": "stdout",
     "output_type": "stream",
     "text": [
      "Top 10 recommended products for user AHZZJQYNVZUJNPNQ737ITGEQUB4A:\n",
      "1. Rugged 4-in-1 Selfie Stick Tripod Stand Kit + Bluetooth Remote – Universal: Any iPhone, Android, GoPro or Camera – iPhone 13 12 11 Pro Mini Max XS XR X 8 7 6 Plus, Samsung etc.\n",
      "* 2. OMOTON 9H Hardness HD Tempered Glass Screen Protector for Apple iPhone 8 Plus / iPhone 7 Plus, 2 Pack\n",
      "* 3. amFilm Screen Protector 4.7“ for Apple iPhone 8, iPhone 7, iPhone 6S and iPhone 6, Tempered Glass 4.7“, 2 Pack\n",
      "* 4. Mkeke Compatible with iPhone 11 Screen Protector for iPhone XR Screen Protector, Tempered Glass Film for Apple iPhone 11 and iPhone XR, 3-Pack Clear\n",
      "* 5. JOTO Universal Waterproof Phone Pouch Cellphone Dry Bag Case Compatible with iPhone 14 13 12 11 Pro Max Mini Xs XR X 8 7 6S Plus SE, Galaxy S21 S20 S10 Plus Note 10+ 9, Pixel 4 XL up to 7\" -Green\n",
      "* 6. Ailun Glass Screen Protector Compatible for iPhone 11/XR,6.1 Inch 3 Pack Tempered Glass\n",
      "* 7. JETech Screen Protector for iPhone 11 and iPhone XR, 6.1-Inch, Tempered Glass Film, 2-Pack\n",
      "* 8. Stylus Pen for iPad - Penyeah [4-in-1] High Sensitivity and Precision Touch Screen Stylus Disc Tip,Black Rubber Tip & Mesh Fiber Tip Universal for All Capacitive Touch Screen Device - Light Blue\n",
      "* 9. Bargains Depot (2 Pcs) [New Upgraded][0.18-inch Small Tip Series] 2-in-1 Stylus/Styli 5.5-inch L with 10 Replacement Rubber Tips -Black/Pink\n",
      "* 10. S7 Case, Galaxy S7 Case, MagicSky, Shock Absorption, Studded Rhinestone Bling Hybrid Dual Layer Armor Defender Protective Case Cover for Samsung Galaxy S7, Love\n"
     ]
    }
   ],
   "source": [
    "# Print the recommended items for a random user\n",
    "user_recommendations = top_n_3[list(top_n_3.keys())[random.randint(0, len(top_n_3))]]\n",
    "print(f'Top 10 recommended products for user {user_id}:')\n",
    "\n",
    "for i in range(len(user_recommendations)):\n",
    "    if type(user_recommendations[i]) == tuple:\n",
    "        product_meta = meta_data[meta_data['parent_asin'] == user_recommendations[i][0]]\n",
    "    else:\n",
    "        print('* ', end='')\n",
    "        product_meta = meta_data[meta_data['parent_asin'] == user_recommendations[i]]\n",
    "    \n",
    "    print(f\"{i + 1}. {product_meta['title'].values[0]}\")"
   ]
  },
  {
   "cell_type": "code",
   "execution_count": 84,
   "id": "9804b9c7",
   "metadata": {
    "execution": {
     "iopub.execute_input": "2024-09-02T15:29:50.534866Z",
     "iopub.status.busy": "2024-09-02T15:29:50.533878Z",
     "iopub.status.idle": "2024-09-02T15:29:50.542032Z",
     "shell.execute_reply": "2024-09-02T15:29:50.540765Z"
    },
    "papermill": {
     "duration": 0.285145,
     "end_time": "2024-09-02T15:29:50.544532",
     "exception": false,
     "start_time": "2024-09-02T15:29:50.259387",
     "status": "completed"
    },
    "tags": []
   },
   "outputs": [],
   "source": [
    "# get the top recommended n items for all users in predicted dataset\n",
    "top_n_4 = get_top_n(predictions_4, n=10)"
   ]
  },
  {
   "cell_type": "code",
   "execution_count": 85,
   "id": "fe6af623",
   "metadata": {
    "execution": {
     "iopub.execute_input": "2024-09-02T15:29:51.091820Z",
     "iopub.status.busy": "2024-09-02T15:29:51.091235Z",
     "iopub.status.idle": "2024-09-02T15:29:53.994167Z",
     "shell.execute_reply": "2024-09-02T15:29:53.992813Z"
    },
    "papermill": {
     "duration": 3.180182,
     "end_time": "2024-09-02T15:29:53.997035",
     "exception": false,
     "start_time": "2024-09-02T15:29:50.816853",
     "status": "completed"
    },
    "tags": []
   },
   "outputs": [
    {
     "name": "stdout",
     "output_type": "stream",
     "text": [
      "Top 10 recommended products for user AHK5WGRRDPYA6IT5NKH7ZLKH4ECQ:\n",
      "1. JETech Slim Fit Case for iPhone SE 2nd Generation, iPhone 8 and iPhone 7, 2-Layer Protective Cover, Thin, Carbon Fiber, Grey\n",
      "2. Mr Shield [Tempered Glass] Screen Protector For iPhone 6 / iPhone 6S / iPhone 7 / iPhone 8 [3-Pack] Screen Protector\n",
      "3. iPhone 11 Pro Max Case, Shockproof Ultra Slim Fit Silicone Black Cover TPU Soft Gel Rubber Cover Shock Resistance Protective Back Bumper for Apple iPhone 11 Pro Max Black\n",
      "* 4. amFilm Screen Protector 4.7“ for Apple iPhone 8, iPhone 7, iPhone 6S and iPhone 6, Tempered Glass 4.7“, 2 Pack\n",
      "* 5. OMOTON 9H Hardness HD Tempered Glass Screen Protector for Apple iPhone 8 Plus / iPhone 7 Plus, 2 Pack\n",
      "* 6. JETech Screen Protector for iPhone 8 Plus and iPhone 7 Plus, 5.5-Inch, Tempered Glass Film, 2-Pack\n",
      "* 7. OTTERBOX DEFENDER iPhone 6 PLUS/6s PLUS Case - Retail Packaging - INDIGO HARBOR (ROYAL BLUE/ADMIRAL BLUE)\n",
      "* 8. TRIBE Running Phone Holder Armband. iPhone & Galaxy Cell Phone Sports Arm Bands for Women, Men, Runners, Jogging, Walking, Exercise & Gym Workout. Fits All Smartphones. Adjustable Strap, CC/Key Pocket\n",
      "* 9. Mkeke Compatible with iPhone 11 Screen Protector for iPhone XR Screen Protector, Tempered Glass Film for Apple iPhone 11 and iPhone XR, 3-Pack Clear\n",
      "* 10. OtterBox Defender Series Case & Holster for Apple iPhone 4/4S Retail Packaging - Black\n"
     ]
    }
   ],
   "source": [
    "# Print the recommended items for the target user we chose previously\n",
    "if target_user_id in top_n_4:\n",
    "    user_recommendations = top_n_4[target_user_id]\n",
    "    print(f'Top 10 recommended products for user {target_user_id}:')\n",
    "    for i in range(len(user_recommendations)):\n",
    "        if type(user_recommendations[i]) == tuple:\n",
    "            product_meta = meta_data[meta_data['parent_asin'] == user_recommendations[i][0]]\n",
    "        else:\n",
    "            print('* ', end='')\n",
    "            product_meta = meta_data[meta_data['parent_asin'] == user_recommendations[i]]\n",
    "        print(f\"{i + 1}. {product_meta['title'].values[0]}\")\n",
    "else:\n",
    "    print(len(df[df['user_id'] == target_user_id]))"
   ]
  },
  {
   "cell_type": "code",
   "execution_count": 86,
   "id": "2c5b9ed5",
   "metadata": {
    "execution": {
     "iopub.execute_input": "2024-09-02T15:29:54.654185Z",
     "iopub.status.busy": "2024-09-02T15:29:54.653797Z",
     "iopub.status.idle": "2024-09-02T15:29:57.549781Z",
     "shell.execute_reply": "2024-09-02T15:29:57.548425Z"
    },
    "papermill": {
     "duration": 3.176416,
     "end_time": "2024-09-02T15:29:57.552395",
     "exception": false,
     "start_time": "2024-09-02T15:29:54.375979",
     "status": "completed"
    },
    "tags": []
   },
   "outputs": [
    {
     "name": "stdout",
     "output_type": "stream",
     "text": [
      "Top 10 recommended products for user AHZZJQYNVZUJNPNQ737ITGEQUB4A:\n",
      "1. TRIBE Running Phone Holder Armband. iPhone & Galaxy Cell Phone Sports Arm Bands for Women, Men, Runners, Jogging, Walking, Exercise & Gym Workout. Fits All Smartphones. Adjustable Strap, CC/Key Pocket\n",
      "* 2. amFilm Screen Protector 4.7“ for Apple iPhone 8, iPhone 7, iPhone 6S and iPhone 6, Tempered Glass 4.7“, 2 Pack\n",
      "* 3. OMOTON 9H Hardness HD Tempered Glass Screen Protector for Apple iPhone 8 Plus / iPhone 7 Plus, 2 Pack\n",
      "* 4. JETech Screen Protector for iPhone 8 Plus and iPhone 7 Plus, 5.5-Inch, Tempered Glass Film, 2-Pack\n",
      "* 5. OTTERBOX DEFENDER iPhone 6 PLUS/6s PLUS Case - Retail Packaging - INDIGO HARBOR (ROYAL BLUE/ADMIRAL BLUE)\n",
      "* 6. TRIBE Running Phone Holder Armband. iPhone & Galaxy Cell Phone Sports Arm Bands for Women, Men, Runners, Jogging, Walking, Exercise & Gym Workout. Fits All Smartphones. Adjustable Strap, CC/Key Pocket\n",
      "* 7. Mkeke Compatible with iPhone 11 Screen Protector for iPhone XR Screen Protector, Tempered Glass Film for Apple iPhone 11 and iPhone XR, 3-Pack Clear\n",
      "* 8. OtterBox Defender Series Case & Holster for Apple iPhone 4/4S Retail Packaging - Black\n",
      "* 9. Ailun Glass Screen Protector for iPhone 12/12 Pro 2020 6.1 Inch 3 Pack Case Friendly Tempered Glass\n",
      "* 10. Bargains Depot (2 Pcs) [New Upgraded][0.18-inch Small Tip Series] 2-in-1 Stylus/Styli 5.5-inch L with 10 Replacement Rubber Tips -Black/Pink\n"
     ]
    }
   ],
   "source": [
    "# Print the recommended items for a random user\n",
    "user_recommendations = top_n_4[list(top_n_4.keys())[random.randint(0, len(top_n_4))]]\n",
    "print(f'Top 10 recommended products for user {user_id}:')\n",
    "\n",
    "for i in range(len(user_recommendations)):\n",
    "    if type(user_recommendations[i]) == tuple:\n",
    "        product_meta = meta_data[meta_data['parent_asin'] == user_recommendations[i][0]]\n",
    "    else:\n",
    "        print('* ', end='')\n",
    "        product_meta = meta_data[meta_data['parent_asin'] == user_recommendations[i]]\n",
    "    \n",
    "    print(f\"{i + 1}. {product_meta['title'].values[0]}\")"
   ]
  },
  {
   "cell_type": "code",
   "execution_count": 87,
   "id": "7182872f",
   "metadata": {
    "execution": {
     "iopub.execute_input": "2024-09-02T15:29:58.100845Z",
     "iopub.status.busy": "2024-09-02T15:29:58.100391Z",
     "iopub.status.idle": "2024-09-02T15:29:58.393128Z",
     "shell.execute_reply": "2024-09-02T15:29:58.391915Z"
    },
    "papermill": {
     "duration": 0.569653,
     "end_time": "2024-09-02T15:29:58.395726",
     "exception": false,
     "start_time": "2024-09-02T15:29:57.826073",
     "status": "completed"
    },
    "tags": []
   },
   "outputs": [
    {
     "data": {
      "image/png": "[encoded data removed]",
      "text/plain": [
       "<Figure size 640x480 with 1 Axes>"
      ]
     },
     "metadata": {},
     "output_type": "display_data"
    }
   ],
   "source": [
    "actual = [pred.r_ui for pred in predictions_0]\n",
    "predicted = [pred.est for pred in predictions_0]\n",
    "plt.scatter(actual, predicted, alpha=0.5, color=color_0)\n",
    "# Add a line where x = y\n",
    "limits = [min(min(actual), min(predicted)),  # find lower limit among actual and predicted ratings\n",
    "              max(max(actual), max(predicted))]  # find upper limit among actual and predicted ratings\n",
    "plt.plot(limits, limits, 'k--')\n",
    "plt.xlabel('Actual Ratings')\n",
    "plt.ylabel('Predicted Ratings')\n",
    "plt.title('Actual vs Predicted Ratings of Method 0 (Paper)')\n",
    "plt.show()"
   ]
  },
  {
   "cell_type": "code",
   "execution_count": 88,
   "id": "ffdbbb85",
   "metadata": {
    "execution": {
     "iopub.execute_input": "2024-09-02T15:29:58.943431Z",
     "iopub.status.busy": "2024-09-02T15:29:58.943005Z",
     "iopub.status.idle": "2024-09-02T15:29:59.224255Z",
     "shell.execute_reply": "2024-09-02T15:29:59.223056Z"
    },
    "papermill": {
     "duration": 0.557672,
     "end_time": "2024-09-02T15:29:59.226965",
     "exception": false,
     "start_time": "2024-09-02T15:29:58.669293",
     "status": "completed"
    },
    "tags": []
   },
   "outputs": [
    {
     "data": {
      "image/png": "[encoded data removed]",
      "text/plain": [
       "<Figure size 640x480 with 1 Axes>"
      ]
     },
     "metadata": {},
     "output_type": "display_data"
    }
   ],
   "source": [
    "actual = [pred.r_ui for pred in predictions_1]\n",
    "predicted = [pred.est for pred in predictions_1]\n",
    "plt.scatter(actual, predicted, alpha=0.5, color=color_1)\n",
    "# Add a line where x = y\n",
    "limits = [min(min(actual), min(predicted)),  # find lower limit among actual and predicted ratings\n",
    "              max(max(actual), max(predicted))]  # find upper limit among actual and predicted ratings\n",
    "plt.plot(limits, limits, 'k--')\n",
    "plt.xlabel('Actual Ratings')\n",
    "plt.ylabel('Predicted Ratings')\n",
    "plt.title('Actual vs Predicted Ratings of Method 1 (Content-Based Similarity)')\n",
    "plt.show()"
   ]
  },
  {
   "cell_type": "code",
   "execution_count": 89,
   "id": "3ca37144",
   "metadata": {
    "execution": {
     "iopub.execute_input": "2024-09-02T15:29:59.780526Z",
     "iopub.status.busy": "2024-09-02T15:29:59.780122Z",
     "iopub.status.idle": "2024-09-02T15:30:00.070081Z",
     "shell.execute_reply": "2024-09-02T15:30:00.067185Z"
    },
    "papermill": {
     "duration": 0.571308,
     "end_time": "2024-09-02T15:30:00.073766",
     "exception": false,
     "start_time": "2024-09-02T15:29:59.502458",
     "status": "completed"
    },
    "tags": []
   },
   "outputs": [
    {
     "data": {
      "image/png": "[encoded data removed]",
      "text/plain": [
       "<Figure size 640x480 with 1 Axes>"
      ]
     },
     "metadata": {},
     "output_type": "display_data"
    }
   ],
   "source": [
    "actual = [pred.r_ui for pred in predictions_2]\n",
    "predicted = [pred.est for pred in predictions_2]\n",
    "plt.scatter(actual, predicted, alpha=0.5, color=color_2)\n",
    "# Add a line where x = y\n",
    "limits = [min(min(actual), min(predicted)),  # find lower limit among actual and predicted ratings\n",
    "              max(max(actual), max(predicted))]  # find upper limit among actual and predicted ratings\n",
    "plt.plot(limits, limits, 'k--')\n",
    "plt.xlabel('Actual Ratings')\n",
    "plt.ylabel('Predicted Ratings')\n",
    "plt.title('Actual vs Predicted Ratings of Method 2 (Time-Based Decay)')\n",
    "plt.show()"
   ]
  },
  {
   "cell_type": "code",
   "execution_count": 90,
   "id": "e2c53577",
   "metadata": {
    "execution": {
     "iopub.execute_input": "2024-09-02T15:30:00.660649Z",
     "iopub.status.busy": "2024-09-02T15:30:00.660191Z",
     "iopub.status.idle": "2024-09-02T15:30:00.998367Z",
     "shell.execute_reply": "2024-09-02T15:30:00.996895Z"
    },
    "papermill": {
     "duration": 0.634541,
     "end_time": "2024-09-02T15:30:01.005790",
     "exception": false,
     "start_time": "2024-09-02T15:30:00.371249",
     "status": "completed"
    },
    "tags": []
   },
   "outputs": [
    {
     "data": {
      "image/png": "[encoded data removed]",
      "text/plain": [
       "<Figure size 640x480 with 1 Axes>"
      ]
     },
     "metadata": {},
     "output_type": "display_data"
    }
   ],
   "source": [
    "actual = [pred.r_ui for pred in predictions_3]\n",
    "predicted = [pred.est for pred in predictions_3]\n",
    "plt.scatter(actual, predicted, alpha=0.5, color=color_3)\n",
    "# Add a line where x = y\n",
    "limits = [min(min(actual), min(predicted)),  # find lower limit among actual and predicted ratings\n",
    "              max(max(actual), max(predicted))]  # find upper limit among actual and predicted ratings\n",
    "plt.plot(limits, limits, 'k--')\n",
    "plt.xlabel('Actual Ratings')\n",
    "plt.ylabel('Predicted Ratings')\n",
    "plt.title('Actual vs Predicted Ratings of Method 3 (Optimized Sigma - Cuckoo Search)')\n",
    "plt.show()"
   ]
  },
  {
   "cell_type": "code",
   "execution_count": 91,
   "id": "2cd42a40",
   "metadata": {
    "execution": {
     "iopub.execute_input": "2024-09-02T15:30:01.652861Z",
     "iopub.status.busy": "2024-09-02T15:30:01.652427Z",
     "iopub.status.idle": "2024-09-02T15:30:01.978345Z",
     "shell.execute_reply": "2024-09-02T15:30:01.976883Z"
    },
    "papermill": {
     "duration": 0.686973,
     "end_time": "2024-09-02T15:30:01.981026",
     "exception": false,
     "start_time": "2024-09-02T15:30:01.294053",
     "status": "completed"
    },
    "tags": []
   },
   "outputs": [
    {
     "data": {
      "image/png": "[encoded data removed]",
      "text/plain": [
       "<Figure size 640x480 with 1 Axes>"
      ]
     },
     "metadata": {},
     "output_type": "display_data"
    }
   ],
   "source": [
    "actual = [pred.r_ui for pred in predictions_4]\n",
    "predicted = [pred.est for pred in predictions_4]\n",
    "plt.scatter(actual, predicted, alpha=0.5, color=color_4)\n",
    "# Add a line where x = y\n",
    "limits = [min(min(actual), min(predicted)),  # find lower limit among actual and predicted ratings\n",
    "              max(max(actual), max(predicted))]  # find upper limit among actual and predicted ratings\n",
    "plt.plot(limits, limits, 'k--')\n",
    "plt.xlabel('Actual Ratings')\n",
    "plt.ylabel('Predicted Ratings')\n",
    "plt.title('Actual vs Predicted Ratings of Method 4 (Decay Model Selection)')\n",
    "plt.show()"
   ]
  },
  {
   "cell_type": "code",
   "execution_count": null,
   "id": "d4f9fe39",
   "metadata": {
    "papermill": {
     "duration": 0.282895,
     "end_time": "2024-09-02T15:30:02.549434",
     "exception": false,
     "start_time": "2024-09-02T15:30:02.266539",
     "status": "completed"
    },
    "tags": []
   },
   "outputs": [],
   "source": []
  }
 ],
 "metadata": {
  "kaggle": {
   "accelerator": "none",
   "dataSources": [
    {
     "datasetId": 5075932,
     "sourceId": 8504511,
     "sourceType": "datasetVersion"
    }
   ],
   "dockerImageVersionId": 30698,
   "isGpuEnabled": false,
   "isInternetEnabled": true,
   "language": "python",
   "sourceType": "notebook"
  },
  "kernelspec": {
   "display_name": "Python 3",
   "language": "python",
   "name": "python3"
  },
  "language_info": {
   "codemirror_mode": {
    "name": "ipython",
    "version": 3
   },
   "file_extension": ".py",
   "mimetype": "text/x-python",
   "name": "python",
   "nbconvert_exporter": "python",
   "pygments_lexer": "ipython3",
   "version": "3.10.13"
  },
  "papermill": {
   "default_parameters": {},
   "duration": 3696.206978,
   "end_time": "2024-09-02T15:30:06.362528",
   "environment_variables": {},
   "exception": null,
   "input_path": "__notebook__.ipynb",
   "output_path": "__notebook__.ipynb",
   "parameters": {},
   "start_time": "2024-09-02T14:28:30.155550",
   "version": "2.5.0"
  }
 },
 "nbformat": 4,
 "nbformat_minor": 5
}
